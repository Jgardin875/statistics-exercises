{
 "cells": [
  {
   "cell_type": "code",
   "execution_count": 1,
   "id": "f53b36a6",
   "metadata": {},
   "outputs": [],
   "source": [
    "import numpy as np\n",
    "import seaborn as sns\n",
    "import scipy.stats as stats\n",
    "import pandas as pd\n",
    "import matplotlib.pyplot as plt\n",
    "from pydataset import data\n",
    "import env \n",
    "import re"
   ]
  },
  {
   "cell_type": "code",
   "execution_count": 2,
   "id": "7ac9510a",
   "metadata": {},
   "outputs": [],
   "source": [
    "telco = pd.read_csv(\"telco_churn.csv\")"
   ]
  },
  {
   "cell_type": "code",
   "execution_count": 3,
   "id": "5640b551",
   "metadata": {},
   "outputs": [],
   "source": [
    "sleep = data('sleepstudy')"
   ]
  },
  {
   "cell_type": "code",
   "execution_count": 4,
   "id": "d3f9c684",
   "metadata": {},
   "outputs": [],
   "source": [
    "data(show_doc = True);"
   ]
  },
  {
   "cell_type": "markdown",
   "id": "19e24f5f",
   "metadata": {},
   "source": [
    "Do your work for this exercise in a jupyter notebook named hypothesis_testing.ipynb.\n",
    "\n",
    "For each of the following questions, formulate a null and alternative hypothesis (be as specific as you can be), then give an example of what a true positive, true negative, type I and type II errors would look like. Note that some of the questions are intentionally phrased in a vague way. It is your job to reword these as more precise questions that could be tested.\n",
    "\n",
    "Has the network latency gone up since we switched internet service providers?\n",
    "Is the website redesign any good?\n",
    "Is our television ad driving more sales?\n",
    "\n",
    "# The above was changed into a group project assignment and is in the file labeled: hypothesis_testing_group_work.ipynb\n"
   ]
  },
  {
   "cell_type": "markdown",
   "id": "b23836bf",
   "metadata": {},
   "source": [
    "# T-test Exercises:"
   ]
  },
  {
   "cell_type": "markdown",
   "id": "4cf82e60",
   "metadata": {},
   "source": [
    "Ace Realty wants to determine whether the average time it takes to sell homes is different for its two offices. A sample of 40 sales from office #1 revealed a mean of 90 days and a standard deviation of 15 days. A sample of 50 sales from office #2 revealed a mean of 100 days and a standard deviation of 20 days. Use a .05 level of significance.\n",
    "\n",
    "\n"
   ]
  },
  {
   "cell_type": "markdown",
   "id": "0fd6d7bb",
   "metadata": {},
   "source": [
    "H0 = office 1 is equal or better at sales\n",
    "Ha = office 2 is better at sales"
   ]
  },
  {
   "cell_type": "code",
   "execution_count": 5,
   "id": "1316be1f",
   "metadata": {},
   "outputs": [],
   "source": [
    "alpha = .05"
   ]
  },
  {
   "cell_type": "code",
   "execution_count": 6,
   "id": "8b32d0ea",
   "metadata": {
    "scrolled": true
   },
   "outputs": [
    {
     "data": {
      "text/plain": [
       "Ttest_indResult(statistic=-2.6252287036468456, pvalue=0.01020985244923939)"
      ]
     },
     "execution_count": 6,
     "metadata": {},
     "output_type": "execute_result"
    }
   ],
   "source": [
    "stats.ttest_ind_from_stats(90, 15, 40, 100, 20, 50)"
   ]
  },
  {
   "cell_type": "code",
   "execution_count": null,
   "id": "250dd3ae",
   "metadata": {},
   "outputs": [],
   "source": []
  },
  {
   "cell_type": "markdown",
   "id": "07768414",
   "metadata": {},
   "source": [
    "True Positive\n",
    "\n",
    "small p-value -- < alpha (.05)\n",
    "reject 𝐻0\n",
    "\n",
    "(The data shows that sales office #2 is better)\n",
    "\n",
    "\n",
    "OR\n",
    "\n",
    "False Positive\n",
    "\n",
    "small p-value\n",
    "reject 𝐻0\n",
    "\n",
    "perhaps one office was having a sale during the measured time fram while the other was not\n"
   ]
  },
  {
   "cell_type": "code",
   "execution_count": null,
   "id": "f1d32eda",
   "metadata": {},
   "outputs": [],
   "source": []
  },
  {
   "cell_type": "markdown",
   "id": "dd09fea7",
   "metadata": {},
   "source": [
    "# 2\n",
    "\n",
    "Load the mpg dataset and use it to answer the following questions:\n",
    "\n",
    "    Is there a difference in fuel-efficiency in cars from 2008 vs 1999?\n",
    "    Are compact cars more fuel-efficient than the average car?\n",
    "    Do manual cars get better gas mileage than automatic cars?\n",
    "\n"
   ]
  },
  {
   "cell_type": "code",
   "execution_count": 7,
   "id": "a4c67007",
   "metadata": {},
   "outputs": [],
   "source": [
    "mpg =  data('mpg')"
   ]
  },
  {
   "cell_type": "code",
   "execution_count": 8,
   "id": "c6abb8ee",
   "metadata": {
    "scrolled": false
   },
   "outputs": [
    {
     "data": {
      "text/html": [
       "<div>\n",
       "<style scoped>\n",
       "    .dataframe tbody tr th:only-of-type {\n",
       "        vertical-align: middle;\n",
       "    }\n",
       "\n",
       "    .dataframe tbody tr th {\n",
       "        vertical-align: top;\n",
       "    }\n",
       "\n",
       "    .dataframe thead th {\n",
       "        text-align: right;\n",
       "    }\n",
       "</style>\n",
       "<table border=\"1\" class=\"dataframe\">\n",
       "  <thead>\n",
       "    <tr style=\"text-align: right;\">\n",
       "      <th></th>\n",
       "      <th>manufacturer</th>\n",
       "      <th>model</th>\n",
       "      <th>displ</th>\n",
       "      <th>year</th>\n",
       "      <th>cyl</th>\n",
       "      <th>trans</th>\n",
       "      <th>drv</th>\n",
       "      <th>cty</th>\n",
       "      <th>hwy</th>\n",
       "      <th>fl</th>\n",
       "      <th>class</th>\n",
       "    </tr>\n",
       "  </thead>\n",
       "  <tbody>\n",
       "    <tr>\n",
       "      <th>50</th>\n",
       "      <td>dodge</td>\n",
       "      <td>dakota pickup 4wd</td>\n",
       "      <td>3.7</td>\n",
       "      <td>2008</td>\n",
       "      <td>6</td>\n",
       "      <td>auto(l4)</td>\n",
       "      <td>4</td>\n",
       "      <td>14</td>\n",
       "      <td>18</td>\n",
       "      <td>r</td>\n",
       "      <td>pickup</td>\n",
       "    </tr>\n",
       "    <tr>\n",
       "      <th>89</th>\n",
       "      <td>ford</td>\n",
       "      <td>f150 pickup 4wd</td>\n",
       "      <td>5.4</td>\n",
       "      <td>1999</td>\n",
       "      <td>8</td>\n",
       "      <td>auto(l4)</td>\n",
       "      <td>4</td>\n",
       "      <td>11</td>\n",
       "      <td>15</td>\n",
       "      <td>r</td>\n",
       "      <td>pickup</td>\n",
       "    </tr>\n",
       "    <tr>\n",
       "      <th>4</th>\n",
       "      <td>audi</td>\n",
       "      <td>a4</td>\n",
       "      <td>2.0</td>\n",
       "      <td>2008</td>\n",
       "      <td>4</td>\n",
       "      <td>auto(av)</td>\n",
       "      <td>f</td>\n",
       "      <td>21</td>\n",
       "      <td>30</td>\n",
       "      <td>p</td>\n",
       "      <td>compact</td>\n",
       "    </tr>\n",
       "    <tr>\n",
       "      <th>25</th>\n",
       "      <td>chevrolet</td>\n",
       "      <td>corvette</td>\n",
       "      <td>5.7</td>\n",
       "      <td>1999</td>\n",
       "      <td>8</td>\n",
       "      <td>auto(l4)</td>\n",
       "      <td>r</td>\n",
       "      <td>15</td>\n",
       "      <td>23</td>\n",
       "      <td>p</td>\n",
       "      <td>2seater</td>\n",
       "    </tr>\n",
       "    <tr>\n",
       "      <th>219</th>\n",
       "      <td>volkswagen</td>\n",
       "      <td>jetta</td>\n",
       "      <td>2.5</td>\n",
       "      <td>2008</td>\n",
       "      <td>5</td>\n",
       "      <td>manual(m5)</td>\n",
       "      <td>f</td>\n",
       "      <td>21</td>\n",
       "      <td>29</td>\n",
       "      <td>r</td>\n",
       "      <td>compact</td>\n",
       "    </tr>\n",
       "  </tbody>\n",
       "</table>\n",
       "</div>"
      ],
      "text/plain": [
       "    manufacturer              model  displ  year  cyl       trans drv  cty  \\\n",
       "50         dodge  dakota pickup 4wd    3.7  2008    6    auto(l4)   4   14   \n",
       "89          ford    f150 pickup 4wd    5.4  1999    8    auto(l4)   4   11   \n",
       "4           audi                 a4    2.0  2008    4    auto(av)   f   21   \n",
       "25     chevrolet           corvette    5.7  1999    8    auto(l4)   r   15   \n",
       "219   volkswagen              jetta    2.5  2008    5  manual(m5)   f   21   \n",
       "\n",
       "     hwy fl    class  \n",
       "50    18  r   pickup  \n",
       "89    15  r   pickup  \n",
       "4     30  p  compact  \n",
       "25    23  p  2seater  \n",
       "219   29  r  compact  "
      ]
     },
     "execution_count": 8,
     "metadata": {},
     "output_type": "execute_result"
    }
   ],
   "source": [
    "mpg.sample(5)"
   ]
  },
  {
   "cell_type": "code",
   "execution_count": 9,
   "id": "c271b37c",
   "metadata": {},
   "outputs": [],
   "source": [
    "mpg['avg_mpg'] = (mpg.cty + mpg.hwy)/2"
   ]
  },
  {
   "cell_type": "code",
   "execution_count": 10,
   "id": "7dc9234f",
   "metadata": {},
   "outputs": [],
   "source": [
    "# a-Is there a difference in fuel-efficiency in cars from 2008 vs 1999?\n"
   ]
  },
  {
   "cell_type": "markdown",
   "id": "7bda646c",
   "metadata": {},
   "source": [
    "H0 = 1999 cars are equal or less efficient than 2008 car\n",
    "\n",
    "Ha = 1999 cars are more efficient than the 2008 car"
   ]
  },
  {
   "cell_type": "code",
   "execution_count": 11,
   "id": "5a51aef5",
   "metadata": {
    "scrolled": false
   },
   "outputs": [],
   "source": [
    "a_yr = mpg.groupby(mpg.year).avg_mpg.mean()"
   ]
  },
  {
   "cell_type": "code",
   "execution_count": 12,
   "id": "842f4b34",
   "metadata": {
    "scrolled": true
   },
   "outputs": [],
   "source": [
    "c_yr = mpg.groupby(mpg.year).cty.mean()"
   ]
  },
  {
   "cell_type": "code",
   "execution_count": 13,
   "id": "87fa10f9",
   "metadata": {
    "scrolled": true
   },
   "outputs": [],
   "source": [
    "h_yr = mpg.groupby(mpg.year).hwy.mean()"
   ]
  },
  {
   "cell_type": "code",
   "execution_count": 14,
   "id": "bbea46d9",
   "metadata": {},
   "outputs": [],
   "source": [
    "yr_99 = mpg[mpg.year == 1999].avg_mpg"
   ]
  },
  {
   "cell_type": "code",
   "execution_count": 15,
   "id": "bffb4d22",
   "metadata": {},
   "outputs": [],
   "source": [
    "yr_08 = mpg[mpg.year == 2008].avg_mpg"
   ]
  },
  {
   "cell_type": "code",
   "execution_count": 16,
   "id": "86d02283",
   "metadata": {},
   "outputs": [
    {
     "data": {
      "text/plain": [
       "(27.122605363984682, 24.097480106100797)"
      ]
     },
     "execution_count": 16,
     "metadata": {},
     "output_type": "execute_result"
    }
   ],
   "source": [
    "yr_99.var(), yr_08.var()"
   ]
  },
  {
   "cell_type": "code",
   "execution_count": 17,
   "id": "7a04ec29",
   "metadata": {},
   "outputs": [
    {
     "data": {
      "text/plain": [
       "(0.21960177245940962, 0.4131872020161789, 0.05)"
      ]
     },
     "execution_count": 17,
     "metadata": {},
     "output_type": "execute_result"
    }
   ],
   "source": [
    "t, p = stats.ttest_ind(yr_99, yr_08, equal_var=True)\n",
    "\n",
    "t, p/2, alpha"
   ]
  },
  {
   "cell_type": "code",
   "execution_count": 18,
   "id": "2b68951c",
   "metadata": {},
   "outputs": [
    {
     "name": "stdout",
     "output_type": "stream",
     "text": [
      "is p/2 < alpha?  False\n",
      "is t > 0?  True\n"
     ]
    }
   ],
   "source": [
    "print(\"is p/2 < alpha? \", p/2 < alpha)\n",
    "print(\"is t > 0? \", t > 0)"
   ]
  },
  {
   "cell_type": "code",
   "execution_count": 19,
   "id": "83a5b593",
   "metadata": {},
   "outputs": [
    {
     "name": "stdout",
     "output_type": "stream",
     "text": [
      "We fail to reject the null hypothesis\n"
     ]
    }
   ],
   "source": [
    "if (p/2 < alpha) & (t > 0):\n",
    "    print(\"We reject the null hypothesis\")\n",
    "else:\n",
    "    print(\"We fail to reject the null hypothesis\")"
   ]
  },
  {
   "cell_type": "code",
   "execution_count": null,
   "id": "c057bab7",
   "metadata": {},
   "outputs": [],
   "source": [
    "# but barely, they are probably pretty similar considering how small t value is \n",
    "#and that p value is not super great either"
   ]
  },
  {
   "cell_type": "code",
   "execution_count": null,
   "id": "7584ebf0",
   "metadata": {},
   "outputs": [],
   "source": []
  },
  {
   "cell_type": "code",
   "execution_count": null,
   "id": "41cb51d6",
   "metadata": {},
   "outputs": [],
   "source": [
    "# are compact cars more fuel efficient than the average"
   ]
  },
  {
   "cell_type": "markdown",
   "id": "e8627a0d",
   "metadata": {},
   "source": [
    "H0 = compact cars are equal or less efficient than average car\n",
    "\n",
    "Ha = compact cars are more efficient than the average car"
   ]
  },
  {
   "cell_type": "code",
   "execution_count": 21,
   "id": "312a0bd9",
   "metadata": {},
   "outputs": [],
   "source": [
    "comp = mpg[mpg['class'] == 'compact'].avg_mpg"
   ]
  },
  {
   "cell_type": "code",
   "execution_count": 22,
   "id": "0fc7bb98",
   "metadata": {},
   "outputs": [],
   "source": [
    "overall_avg = mpg.avg_mpg.mean()"
   ]
  },
  {
   "cell_type": "code",
   "execution_count": 23,
   "id": "d1ff014a",
   "metadata": {},
   "outputs": [
    {
     "data": {
      "text/plain": [
       "(7.896888573132535, 2.0992818971585593e-10, 0.05)"
      ]
     },
     "execution_count": 23,
     "metadata": {},
     "output_type": "execute_result"
    }
   ],
   "source": [
    "t, p = stats.ttest_1samp(comp, overall_avg)\n",
    "\n",
    "t, p/2, alpha"
   ]
  },
  {
   "cell_type": "code",
   "execution_count": 24,
   "id": "ee25dd80",
   "metadata": {},
   "outputs": [
    {
     "name": "stdout",
     "output_type": "stream",
     "text": [
      "is p/2 < alpha?  True\n",
      "is t > 0?  True\n"
     ]
    }
   ],
   "source": [
    "print(\"is p/2 < alpha? \", p/2 < alpha)\n",
    "print(\"is t > 0? \", t > 0)"
   ]
  },
  {
   "cell_type": "code",
   "execution_count": 25,
   "id": "72c8fb4a",
   "metadata": {},
   "outputs": [
    {
     "name": "stdout",
     "output_type": "stream",
     "text": [
      "We reject the null hypothesis\n"
     ]
    }
   ],
   "source": [
    "if (p/2 < alpha) & (t > 0):\n",
    "    print(\"We reject the null hypothesis\")\n",
    "else:\n",
    "    print(\"We fail to reject the null hypothesis\")"
   ]
  },
  {
   "cell_type": "code",
   "execution_count": null,
   "id": "ade193d7",
   "metadata": {},
   "outputs": [],
   "source": [
    "#compact cars are more efficient than the average car"
   ]
  },
  {
   "cell_type": "code",
   "execution_count": null,
   "id": "86d1f18c",
   "metadata": {},
   "outputs": [],
   "source": []
  },
  {
   "cell_type": "code",
   "execution_count": 26,
   "id": "bd73e7d4",
   "metadata": {},
   "outputs": [],
   "source": [
    "# c-Do manual cars get better gas mileage than automatic cars?"
   ]
  },
  {
   "cell_type": "markdown",
   "id": "edca28dd",
   "metadata": {},
   "source": [
    "H0 = auto cars are equal or less efficient than manual cars\n",
    "\n",
    "Ha = auto cars are more efficient than manual cars"
   ]
  },
  {
   "cell_type": "code",
   "execution_count": 27,
   "id": "4cd3f117",
   "metadata": {},
   "outputs": [],
   "source": [
    "auto = mpg[mpg.trans.str.contains('auto')].avg_mpg"
   ]
  },
  {
   "cell_type": "code",
   "execution_count": 28,
   "id": "66871b36",
   "metadata": {},
   "outputs": [],
   "source": [
    "man = mpg[mpg.trans.str.contains('man')].avg_mpg"
   ]
  },
  {
   "cell_type": "code",
   "execution_count": 29,
   "id": "c241cc76",
   "metadata": {},
   "outputs": [
    {
     "data": {
      "text/plain": [
       "(21.942777233382337, 26.635167464114826)"
      ]
     },
     "execution_count": 29,
     "metadata": {},
     "output_type": "execute_result"
    }
   ],
   "source": [
    "auto.var(), man.var()"
   ]
  },
  {
   "cell_type": "code",
   "execution_count": 30,
   "id": "e4974c88",
   "metadata": {},
   "outputs": [
    {
     "data": {
      "text/plain": [
       "(-4.593437735750014, 3.5771872005728424e-06, 0.05)"
      ]
     },
     "execution_count": 30,
     "metadata": {},
     "output_type": "execute_result"
    }
   ],
   "source": [
    "t, p = stats.ttest_ind(auto, man, equal_var=True)\n",
    "\n",
    "t, p/2, alpha"
   ]
  },
  {
   "cell_type": "code",
   "execution_count": null,
   "id": "f667c2f1",
   "metadata": {},
   "outputs": [],
   "source": [
    "#because t is -, auto are less fuel efficient than man. p is very small indicating this is a reliable find"
   ]
  },
  {
   "cell_type": "markdown",
   "id": "fe3d4c70",
   "metadata": {},
   "source": [
    "# Correlation Exercises"
   ]
  },
  {
   "cell_type": "code",
   "execution_count": 33,
   "id": "0b929289",
   "metadata": {},
   "outputs": [],
   "source": [
    "telco = pd.read_csv(\"telco_churn.csv\")"
   ]
  },
  {
   "cell_type": "code",
   "execution_count": 34,
   "id": "ec531c91",
   "metadata": {},
   "outputs": [
    {
     "data": {
      "text/html": [
       "<div>\n",
       "<style scoped>\n",
       "    .dataframe tbody tr th:only-of-type {\n",
       "        vertical-align: middle;\n",
       "    }\n",
       "\n",
       "    .dataframe tbody tr th {\n",
       "        vertical-align: top;\n",
       "    }\n",
       "\n",
       "    .dataframe thead th {\n",
       "        text-align: right;\n",
       "    }\n",
       "</style>\n",
       "<table border=\"1\" class=\"dataframe\">\n",
       "  <thead>\n",
       "    <tr style=\"text-align: right;\">\n",
       "      <th></th>\n",
       "      <th>customerID</th>\n",
       "      <th>gender</th>\n",
       "      <th>SeniorCitizen</th>\n",
       "      <th>Partner</th>\n",
       "      <th>Dependents</th>\n",
       "      <th>tenure</th>\n",
       "      <th>PhoneService</th>\n",
       "      <th>MultipleLines</th>\n",
       "      <th>InternetService</th>\n",
       "      <th>OnlineSecurity</th>\n",
       "      <th>...</th>\n",
       "      <th>DeviceProtection</th>\n",
       "      <th>TechSupport</th>\n",
       "      <th>StreamingTV</th>\n",
       "      <th>StreamingMovies</th>\n",
       "      <th>Contract</th>\n",
       "      <th>PaperlessBilling</th>\n",
       "      <th>PaymentMethod</th>\n",
       "      <th>MonthlyCharges</th>\n",
       "      <th>TotalCharges</th>\n",
       "      <th>Churn</th>\n",
       "    </tr>\n",
       "  </thead>\n",
       "  <tbody>\n",
       "    <tr>\n",
       "      <th>0</th>\n",
       "      <td>7590-VHVEG</td>\n",
       "      <td>Female</td>\n",
       "      <td>0</td>\n",
       "      <td>Yes</td>\n",
       "      <td>No</td>\n",
       "      <td>1</td>\n",
       "      <td>No</td>\n",
       "      <td>No phone service</td>\n",
       "      <td>DSL</td>\n",
       "      <td>No</td>\n",
       "      <td>...</td>\n",
       "      <td>No</td>\n",
       "      <td>No</td>\n",
       "      <td>No</td>\n",
       "      <td>No</td>\n",
       "      <td>Month-to-month</td>\n",
       "      <td>Yes</td>\n",
       "      <td>Electronic check</td>\n",
       "      <td>29.85</td>\n",
       "      <td>29.85</td>\n",
       "      <td>No</td>\n",
       "    </tr>\n",
       "    <tr>\n",
       "      <th>1</th>\n",
       "      <td>5575-GNVDE</td>\n",
       "      <td>Male</td>\n",
       "      <td>0</td>\n",
       "      <td>No</td>\n",
       "      <td>No</td>\n",
       "      <td>34</td>\n",
       "      <td>Yes</td>\n",
       "      <td>No</td>\n",
       "      <td>DSL</td>\n",
       "      <td>Yes</td>\n",
       "      <td>...</td>\n",
       "      <td>Yes</td>\n",
       "      <td>No</td>\n",
       "      <td>No</td>\n",
       "      <td>No</td>\n",
       "      <td>One year</td>\n",
       "      <td>No</td>\n",
       "      <td>Mailed check</td>\n",
       "      <td>56.95</td>\n",
       "      <td>1889.5</td>\n",
       "      <td>No</td>\n",
       "    </tr>\n",
       "    <tr>\n",
       "      <th>2</th>\n",
       "      <td>3668-QPYBK</td>\n",
       "      <td>Male</td>\n",
       "      <td>0</td>\n",
       "      <td>No</td>\n",
       "      <td>No</td>\n",
       "      <td>2</td>\n",
       "      <td>Yes</td>\n",
       "      <td>No</td>\n",
       "      <td>DSL</td>\n",
       "      <td>Yes</td>\n",
       "      <td>...</td>\n",
       "      <td>No</td>\n",
       "      <td>No</td>\n",
       "      <td>No</td>\n",
       "      <td>No</td>\n",
       "      <td>Month-to-month</td>\n",
       "      <td>Yes</td>\n",
       "      <td>Mailed check</td>\n",
       "      <td>53.85</td>\n",
       "      <td>108.15</td>\n",
       "      <td>Yes</td>\n",
       "    </tr>\n",
       "    <tr>\n",
       "      <th>3</th>\n",
       "      <td>7795-CFOCW</td>\n",
       "      <td>Male</td>\n",
       "      <td>0</td>\n",
       "      <td>No</td>\n",
       "      <td>No</td>\n",
       "      <td>45</td>\n",
       "      <td>No</td>\n",
       "      <td>No phone service</td>\n",
       "      <td>DSL</td>\n",
       "      <td>Yes</td>\n",
       "      <td>...</td>\n",
       "      <td>Yes</td>\n",
       "      <td>Yes</td>\n",
       "      <td>No</td>\n",
       "      <td>No</td>\n",
       "      <td>One year</td>\n",
       "      <td>No</td>\n",
       "      <td>Bank transfer (automatic)</td>\n",
       "      <td>42.30</td>\n",
       "      <td>1840.75</td>\n",
       "      <td>No</td>\n",
       "    </tr>\n",
       "    <tr>\n",
       "      <th>4</th>\n",
       "      <td>9237-HQITU</td>\n",
       "      <td>Female</td>\n",
       "      <td>0</td>\n",
       "      <td>No</td>\n",
       "      <td>No</td>\n",
       "      <td>2</td>\n",
       "      <td>Yes</td>\n",
       "      <td>No</td>\n",
       "      <td>Fiber optic</td>\n",
       "      <td>No</td>\n",
       "      <td>...</td>\n",
       "      <td>No</td>\n",
       "      <td>No</td>\n",
       "      <td>No</td>\n",
       "      <td>No</td>\n",
       "      <td>Month-to-month</td>\n",
       "      <td>Yes</td>\n",
       "      <td>Electronic check</td>\n",
       "      <td>70.70</td>\n",
       "      <td>151.65</td>\n",
       "      <td>Yes</td>\n",
       "    </tr>\n",
       "  </tbody>\n",
       "</table>\n",
       "<p>5 rows × 21 columns</p>\n",
       "</div>"
      ],
      "text/plain": [
       "   customerID  gender  SeniorCitizen Partner Dependents  tenure PhoneService  \\\n",
       "0  7590-VHVEG  Female              0     Yes         No       1           No   \n",
       "1  5575-GNVDE    Male              0      No         No      34          Yes   \n",
       "2  3668-QPYBK    Male              0      No         No       2          Yes   \n",
       "3  7795-CFOCW    Male              0      No         No      45           No   \n",
       "4  9237-HQITU  Female              0      No         No       2          Yes   \n",
       "\n",
       "      MultipleLines InternetService OnlineSecurity  ... DeviceProtection  \\\n",
       "0  No phone service             DSL             No  ...               No   \n",
       "1                No             DSL            Yes  ...              Yes   \n",
       "2                No             DSL            Yes  ...               No   \n",
       "3  No phone service             DSL            Yes  ...              Yes   \n",
       "4                No     Fiber optic             No  ...               No   \n",
       "\n",
       "  TechSupport StreamingTV StreamingMovies        Contract PaperlessBilling  \\\n",
       "0          No          No              No  Month-to-month              Yes   \n",
       "1          No          No              No        One year               No   \n",
       "2          No          No              No  Month-to-month              Yes   \n",
       "3         Yes          No              No        One year               No   \n",
       "4          No          No              No  Month-to-month              Yes   \n",
       "\n",
       "               PaymentMethod MonthlyCharges  TotalCharges Churn  \n",
       "0           Electronic check          29.85         29.85    No  \n",
       "1               Mailed check          56.95        1889.5    No  \n",
       "2               Mailed check          53.85        108.15   Yes  \n",
       "3  Bank transfer (automatic)          42.30       1840.75    No  \n",
       "4           Electronic check          70.70        151.65   Yes  \n",
       "\n",
       "[5 rows x 21 columns]"
      ]
     },
     "execution_count": 34,
     "metadata": {},
     "output_type": "execute_result"
    }
   ],
   "source": [
    "telco.head()"
   ]
  },
  {
   "cell_type": "code",
   "execution_count": 35,
   "id": "87b23519",
   "metadata": {},
   "outputs": [
    {
     "name": "stdout",
     "output_type": "stream",
     "text": [
      "<class 'pandas.core.frame.DataFrame'>\n",
      "RangeIndex: 7043 entries, 0 to 7042\n",
      "Data columns (total 21 columns):\n",
      " #   Column            Non-Null Count  Dtype  \n",
      "---  ------            --------------  -----  \n",
      " 0   customerID        7043 non-null   object \n",
      " 1   gender            7043 non-null   object \n",
      " 2   SeniorCitizen     7043 non-null   int64  \n",
      " 3   Partner           7043 non-null   object \n",
      " 4   Dependents        7043 non-null   object \n",
      " 5   tenure            7043 non-null   int64  \n",
      " 6   PhoneService      7043 non-null   object \n",
      " 7   MultipleLines     7043 non-null   object \n",
      " 8   InternetService   7043 non-null   object \n",
      " 9   OnlineSecurity    7043 non-null   object \n",
      " 10  OnlineBackup      7043 non-null   object \n",
      " 11  DeviceProtection  7043 non-null   object \n",
      " 12  TechSupport       7043 non-null   object \n",
      " 13  StreamingTV       7043 non-null   object \n",
      " 14  StreamingMovies   7043 non-null   object \n",
      " 15  Contract          7043 non-null   object \n",
      " 16  PaperlessBilling  7043 non-null   object \n",
      " 17  PaymentMethod     7043 non-null   object \n",
      " 18  MonthlyCharges    7043 non-null   float64\n",
      " 19  TotalCharges      7043 non-null   object \n",
      " 20  Churn             7043 non-null   object \n",
      "dtypes: float64(1), int64(2), object(18)\n",
      "memory usage: 1.1+ MB\n"
     ]
    }
   ],
   "source": [
    "telco.info()"
   ]
  },
  {
   "cell_type": "code",
   "execution_count": 36,
   "id": "eaa3f9a4",
   "metadata": {},
   "outputs": [],
   "source": [
    "#Use the telco_churn data. Does tenure correlate with monthly charges? Total charges? \n",
    "#What happens if you control for phone and internet service?\n"
   ]
  },
  {
   "cell_type": "code",
   "execution_count": 37,
   "id": "6bd10946",
   "metadata": {},
   "outputs": [
    {
     "name": "stdout",
     "output_type": "stream",
     "text": [
      "p= 4.094044991483017e-99\n",
      "r= 0.2478998562861525\n"
     ]
    },
    {
     "data": {
      "image/png": "[encoded data removed]",
      "text/plain": [
       "<Figure size 432x288 with 1 Axes>"
      ]
     },
     "metadata": {
      "needs_background": "light"
     },
     "output_type": "display_data"
    }
   ],
   "source": [
    "r, p = stats.pearsonr(telco.tenure, telco.MonthlyCharges)\n",
    "telco.plot.scatter(x='tenure', y='MonthlyCharges')\n",
    "print('p=', p)\n",
    "print('r=', r)"
   ]
  },
  {
   "cell_type": "code",
   "execution_count": 38,
   "id": "6679c8c6",
   "metadata": {
    "scrolled": true
   },
   "outputs": [],
   "source": [
    "#Does tenure correlate with monthly charges?  NO"
   ]
  },
  {
   "cell_type": "code",
   "execution_count": 39,
   "id": "ca0e4b67",
   "metadata": {},
   "outputs": [
    {
     "data": {
      "text/html": [
       "<div>\n",
       "<style scoped>\n",
       "    .dataframe tbody tr th:only-of-type {\n",
       "        vertical-align: middle;\n",
       "    }\n",
       "\n",
       "    .dataframe tbody tr th {\n",
       "        vertical-align: top;\n",
       "    }\n",
       "\n",
       "    .dataframe thead th {\n",
       "        text-align: right;\n",
       "    }\n",
       "</style>\n",
       "<table border=\"1\" class=\"dataframe\">\n",
       "  <thead>\n",
       "    <tr style=\"text-align: right;\">\n",
       "      <th></th>\n",
       "      <th>customerID</th>\n",
       "      <th>gender</th>\n",
       "      <th>SeniorCitizen</th>\n",
       "      <th>Partner</th>\n",
       "      <th>Dependents</th>\n",
       "      <th>tenure</th>\n",
       "      <th>PhoneService</th>\n",
       "      <th>MultipleLines</th>\n",
       "      <th>InternetService</th>\n",
       "      <th>OnlineSecurity</th>\n",
       "      <th>...</th>\n",
       "      <th>DeviceProtection</th>\n",
       "      <th>TechSupport</th>\n",
       "      <th>StreamingTV</th>\n",
       "      <th>StreamingMovies</th>\n",
       "      <th>Contract</th>\n",
       "      <th>PaperlessBilling</th>\n",
       "      <th>PaymentMethod</th>\n",
       "      <th>MonthlyCharges</th>\n",
       "      <th>TotalCharges</th>\n",
       "      <th>Churn</th>\n",
       "    </tr>\n",
       "  </thead>\n",
       "  <tbody>\n",
       "    <tr>\n",
       "      <th>935</th>\n",
       "      <td>6630-UJZMY</td>\n",
       "      <td>Female</td>\n",
       "      <td>1</td>\n",
       "      <td>Yes</td>\n",
       "      <td>No</td>\n",
       "      <td>4</td>\n",
       "      <td>Yes</td>\n",
       "      <td>Yes</td>\n",
       "      <td>Fiber optic</td>\n",
       "      <td>No</td>\n",
       "      <td>...</td>\n",
       "      <td>No</td>\n",
       "      <td>No</td>\n",
       "      <td>Yes</td>\n",
       "      <td>No</td>\n",
       "      <td>Month-to-month</td>\n",
       "      <td>Yes</td>\n",
       "      <td>Electronic check</td>\n",
       "      <td>83.25</td>\n",
       "      <td>308.05</td>\n",
       "      <td>No</td>\n",
       "    </tr>\n",
       "    <tr>\n",
       "      <th>936</th>\n",
       "      <td>5709-LVOEQ</td>\n",
       "      <td>Female</td>\n",
       "      <td>0</td>\n",
       "      <td>Yes</td>\n",
       "      <td>Yes</td>\n",
       "      <td>0</td>\n",
       "      <td>Yes</td>\n",
       "      <td>No</td>\n",
       "      <td>DSL</td>\n",
       "      <td>Yes</td>\n",
       "      <td>...</td>\n",
       "      <td>Yes</td>\n",
       "      <td>No</td>\n",
       "      <td>Yes</td>\n",
       "      <td>Yes</td>\n",
       "      <td>Two year</td>\n",
       "      <td>No</td>\n",
       "      <td>Mailed check</td>\n",
       "      <td>80.85</td>\n",
       "      <td></td>\n",
       "      <td>No</td>\n",
       "    </tr>\n",
       "    <tr>\n",
       "      <th>937</th>\n",
       "      <td>6400-BWQKW</td>\n",
       "      <td>Female</td>\n",
       "      <td>0</td>\n",
       "      <td>No</td>\n",
       "      <td>No</td>\n",
       "      <td>6</td>\n",
       "      <td>Yes</td>\n",
       "      <td>Yes</td>\n",
       "      <td>Fiber optic</td>\n",
       "      <td>Yes</td>\n",
       "      <td>...</td>\n",
       "      <td>No</td>\n",
       "      <td>No</td>\n",
       "      <td>No</td>\n",
       "      <td>No</td>\n",
       "      <td>Month-to-month</td>\n",
       "      <td>Yes</td>\n",
       "      <td>Electronic check</td>\n",
       "      <td>79.05</td>\n",
       "      <td>434.5</td>\n",
       "      <td>Yes</td>\n",
       "    </tr>\n",
       "  </tbody>\n",
       "</table>\n",
       "<p>3 rows × 21 columns</p>\n",
       "</div>"
      ],
      "text/plain": [
       "     customerID  gender  SeniorCitizen Partner Dependents  tenure  \\\n",
       "935  6630-UJZMY  Female              1     Yes         No       4   \n",
       "936  5709-LVOEQ  Female              0     Yes        Yes       0   \n",
       "937  6400-BWQKW  Female              0      No         No       6   \n",
       "\n",
       "    PhoneService MultipleLines InternetService OnlineSecurity  ...  \\\n",
       "935          Yes           Yes     Fiber optic             No  ...   \n",
       "936          Yes            No             DSL            Yes  ...   \n",
       "937          Yes           Yes     Fiber optic            Yes  ...   \n",
       "\n",
       "    DeviceProtection TechSupport StreamingTV StreamingMovies        Contract  \\\n",
       "935               No          No         Yes              No  Month-to-month   \n",
       "936              Yes          No         Yes             Yes        Two year   \n",
       "937               No          No          No              No  Month-to-month   \n",
       "\n",
       "    PaperlessBilling     PaymentMethod MonthlyCharges  TotalCharges Churn  \n",
       "935              Yes  Electronic check          83.25        308.05    No  \n",
       "936               No      Mailed check          80.85                  No  \n",
       "937              Yes  Electronic check          79.05         434.5   Yes  \n",
       "\n",
       "[3 rows x 21 columns]"
      ]
     },
     "execution_count": 39,
     "metadata": {},
     "output_type": "execute_result"
    }
   ],
   "source": [
    "telco.loc[935:937]"
   ]
  },
  {
   "cell_type": "code",
   "execution_count": 40,
   "id": "7274e1ed",
   "metadata": {},
   "outputs": [],
   "source": [
    "#TotalCharges is object. Need it as float"
   ]
  },
  {
   "cell_type": "code",
   "execution_count": 41,
   "id": "ef5848c1",
   "metadata": {},
   "outputs": [
    {
     "data": {
      "text/plain": [
       "(7043, 21)"
      ]
     },
     "execution_count": 41,
     "metadata": {},
     "output_type": "execute_result"
    }
   ],
   "source": [
    "telco.shape"
   ]
  },
  {
   "cell_type": "code",
   "execution_count": 42,
   "id": "7953fb2b",
   "metadata": {},
   "outputs": [
    {
     "data": {
      "text/plain": [
       "936            \n",
       "3826           \n",
       "4380           \n",
       "753            \n",
       "5218           \n",
       "3331           \n",
       "6754           \n",
       "6670           \n",
       "1340           \n",
       "488            \n",
       "1082           \n",
       "105       100.2\n",
       "4459     100.25\n",
       "1723     100.35\n",
       "2124      100.4\n",
       "2208      100.8\n",
       "460       100.9\n",
       "3883     1001.2\n",
       "2799     1001.5\n",
       "5337    1003.05\n",
       "Name: TotalCharges, dtype: object"
      ]
     },
     "execution_count": 42,
     "metadata": {},
     "output_type": "execute_result"
    }
   ],
   "source": [
    "telco.TotalCharges.sort_values(ascending = True).head(20) \n",
    "#showed several rows with no total value. Dropped those rows."
   ]
  },
  {
   "cell_type": "code",
   "execution_count": 43,
   "id": "5f2dfd0b",
   "metadata": {},
   "outputs": [],
   "source": [
    "telco.drop(labels = [936, 488, 5218, 4380, 753, 6670, 1340, 3826, 6754, 3331, 1082], axis = 0, inplace = True)"
   ]
  },
  {
   "cell_type": "code",
   "execution_count": 44,
   "id": "b8e4465d",
   "metadata": {},
   "outputs": [
    {
     "data": {
      "text/plain": [
       "(7032, 21)"
      ]
     },
     "execution_count": 44,
     "metadata": {},
     "output_type": "execute_result"
    }
   ],
   "source": [
    "telco.shape"
   ]
  },
  {
   "cell_type": "code",
   "execution_count": 45,
   "id": "c5b62a37",
   "metadata": {},
   "outputs": [],
   "source": [
    "#now that there are no blanks, can convert column to float\n",
    "#if blanks in column, it returns error:\n",
    "# cannot convert to float: ''"
   ]
  },
  {
   "cell_type": "code",
   "execution_count": 46,
   "id": "97bba662",
   "metadata": {},
   "outputs": [],
   "source": [
    "telco.TotalCharges = telco.TotalCharges.astype(float)"
   ]
  },
  {
   "cell_type": "code",
   "execution_count": 47,
   "id": "6ad7649d",
   "metadata": {},
   "outputs": [
    {
     "name": "stdout",
     "output_type": "stream",
     "text": [
      "p= 0.0\n",
      "r= 0.8258804609332093\n"
     ]
    },
    {
     "data": {
      "image/png": "[encoded data removed]",
      "text/plain": [
       "<Figure size 432x288 with 1 Axes>"
      ]
     },
     "metadata": {
      "needs_background": "light"
     },
     "output_type": "display_data"
    }
   ],
   "source": [
    "r, p = stats.pearsonr(telco.tenure, telco.TotalCharges)\n",
    "telco.plot.scatter(x='tenure', y='TotalCharges')\n",
    "print('p=', p)\n",
    "print('r=', r)"
   ]
  },
  {
   "cell_type": "code",
   "execution_count": 48,
   "id": "0d9547fd",
   "metadata": {},
   "outputs": [],
   "source": [
    "#Total charges? Yes"
   ]
  },
  {
   "cell_type": "code",
   "execution_count": null,
   "id": "007806a9",
   "metadata": {},
   "outputs": [],
   "source": []
  },
  {
   "cell_type": "code",
   "execution_count": 49,
   "id": "f9d32186",
   "metadata": {},
   "outputs": [],
   "source": [
    "#What happens if you control for phone and internet service?"
   ]
  },
  {
   "cell_type": "code",
   "execution_count": 50,
   "id": "d75fff5f",
   "metadata": {},
   "outputs": [
    {
     "data": {
      "text/html": [
       "<div>\n",
       "<style scoped>\n",
       "    .dataframe tbody tr th:only-of-type {\n",
       "        vertical-align: middle;\n",
       "    }\n",
       "\n",
       "    .dataframe tbody tr th {\n",
       "        vertical-align: top;\n",
       "    }\n",
       "\n",
       "    .dataframe thead th {\n",
       "        text-align: right;\n",
       "    }\n",
       "</style>\n",
       "<table border=\"1\" class=\"dataframe\">\n",
       "  <thead>\n",
       "    <tr style=\"text-align: right;\">\n",
       "      <th></th>\n",
       "      <th>SeniorCitizen</th>\n",
       "      <th>tenure</th>\n",
       "      <th>MonthlyCharges</th>\n",
       "      <th>TotalCharges</th>\n",
       "    </tr>\n",
       "    <tr>\n",
       "      <th>InternetService</th>\n",
       "      <th></th>\n",
       "      <th></th>\n",
       "      <th></th>\n",
       "      <th></th>\n",
       "    </tr>\n",
       "  </thead>\n",
       "  <tbody>\n",
       "    <tr>\n",
       "      <th>DSL</th>\n",
       "      <td>0.107202</td>\n",
       "      <td>32.889487</td>\n",
       "      <td>58.088017</td>\n",
       "      <td>2119.789259</td>\n",
       "    </tr>\n",
       "    <tr>\n",
       "      <th>Fiber optic</th>\n",
       "      <td>0.268411</td>\n",
       "      <td>32.917959</td>\n",
       "      <td>91.500129</td>\n",
       "      <td>3205.304570</td>\n",
       "    </tr>\n",
       "    <tr>\n",
       "      <th>No</th>\n",
       "      <td>0.034211</td>\n",
       "      <td>30.667763</td>\n",
       "      <td>21.076283</td>\n",
       "      <td>665.220329</td>\n",
       "    </tr>\n",
       "  </tbody>\n",
       "</table>\n",
       "</div>"
      ],
      "text/plain": [
       "                 SeniorCitizen     tenure  MonthlyCharges  TotalCharges\n",
       "InternetService                                                        \n",
       "DSL                   0.107202  32.889487       58.088017   2119.789259\n",
       "Fiber optic           0.268411  32.917959       91.500129   3205.304570\n",
       "No                    0.034211  30.667763       21.076283    665.220329"
      ]
     },
     "execution_count": 50,
     "metadata": {},
     "output_type": "execute_result"
    }
   ],
   "source": [
    "telco.groupby('InternetService').mean()"
   ]
  },
  {
   "cell_type": "code",
   "execution_count": 51,
   "id": "c32fa055",
   "metadata": {},
   "outputs": [
    {
     "data": {
      "text/html": [
       "<div>\n",
       "<style scoped>\n",
       "    .dataframe tbody tr th:only-of-type {\n",
       "        vertical-align: middle;\n",
       "    }\n",
       "\n",
       "    .dataframe tbody tr th {\n",
       "        vertical-align: top;\n",
       "    }\n",
       "\n",
       "    .dataframe thead th {\n",
       "        text-align: right;\n",
       "    }\n",
       "</style>\n",
       "<table border=\"1\" class=\"dataframe\">\n",
       "  <thead>\n",
       "    <tr style=\"text-align: right;\">\n",
       "      <th></th>\n",
       "      <th>SeniorCitizen</th>\n",
       "      <th>tenure</th>\n",
       "      <th>MonthlyCharges</th>\n",
       "      <th>TotalCharges</th>\n",
       "    </tr>\n",
       "    <tr>\n",
       "      <th>PhoneService</th>\n",
       "      <th></th>\n",
       "      <th></th>\n",
       "      <th></th>\n",
       "      <th></th>\n",
       "    </tr>\n",
       "  </thead>\n",
       "  <tbody>\n",
       "    <tr>\n",
       "      <th>No</th>\n",
       "      <td>0.152941</td>\n",
       "      <td>31.830882</td>\n",
       "      <td>41.992500</td>\n",
       "      <td>1500.433750</td>\n",
       "    </tr>\n",
       "    <tr>\n",
       "      <th>Yes</th>\n",
       "      <td>0.163413</td>\n",
       "      <td>32.485044</td>\n",
       "      <td>67.239625</td>\n",
       "      <td>2367.108588</td>\n",
       "    </tr>\n",
       "  </tbody>\n",
       "</table>\n",
       "</div>"
      ],
      "text/plain": [
       "              SeniorCitizen     tenure  MonthlyCharges  TotalCharges\n",
       "PhoneService                                                        \n",
       "No                 0.152941  31.830882       41.992500   1500.433750\n",
       "Yes                0.163413  32.485044       67.239625   2367.108588"
      ]
     },
     "execution_count": 51,
     "metadata": {},
     "output_type": "execute_result"
    }
   ],
   "source": [
    "telco.groupby('PhoneService').mean()"
   ]
  },
  {
   "cell_type": "code",
   "execution_count": 52,
   "id": "6ed853c6",
   "metadata": {
    "scrolled": true
   },
   "outputs": [
    {
     "data": {
      "text/html": [
       "<div>\n",
       "<style scoped>\n",
       "    .dataframe tbody tr th:only-of-type {\n",
       "        vertical-align: middle;\n",
       "    }\n",
       "\n",
       "    .dataframe tbody tr th {\n",
       "        vertical-align: top;\n",
       "    }\n",
       "\n",
       "    .dataframe thead th {\n",
       "        text-align: right;\n",
       "    }\n",
       "</style>\n",
       "<table border=\"1\" class=\"dataframe\">\n",
       "  <thead>\n",
       "    <tr style=\"text-align: right;\">\n",
       "      <th></th>\n",
       "      <th>customerID</th>\n",
       "      <th>gender</th>\n",
       "      <th>SeniorCitizen</th>\n",
       "      <th>Partner</th>\n",
       "      <th>Dependents</th>\n",
       "      <th>tenure</th>\n",
       "      <th>PhoneService</th>\n",
       "      <th>MultipleLines</th>\n",
       "      <th>InternetService</th>\n",
       "      <th>OnlineSecurity</th>\n",
       "      <th>...</th>\n",
       "      <th>DeviceProtection</th>\n",
       "      <th>TechSupport</th>\n",
       "      <th>StreamingTV</th>\n",
       "      <th>StreamingMovies</th>\n",
       "      <th>Contract</th>\n",
       "      <th>PaperlessBilling</th>\n",
       "      <th>PaymentMethod</th>\n",
       "      <th>MonthlyCharges</th>\n",
       "      <th>TotalCharges</th>\n",
       "      <th>Churn</th>\n",
       "    </tr>\n",
       "  </thead>\n",
       "  <tbody>\n",
       "    <tr>\n",
       "      <th>1</th>\n",
       "      <td>5575-GNVDE</td>\n",
       "      <td>Male</td>\n",
       "      <td>0</td>\n",
       "      <td>No</td>\n",
       "      <td>No</td>\n",
       "      <td>34</td>\n",
       "      <td>Yes</td>\n",
       "      <td>No</td>\n",
       "      <td>DSL</td>\n",
       "      <td>Yes</td>\n",
       "      <td>...</td>\n",
       "      <td>Yes</td>\n",
       "      <td>No</td>\n",
       "      <td>No</td>\n",
       "      <td>No</td>\n",
       "      <td>One year</td>\n",
       "      <td>No</td>\n",
       "      <td>Mailed check</td>\n",
       "      <td>56.95</td>\n",
       "      <td>1889.50</td>\n",
       "      <td>No</td>\n",
       "    </tr>\n",
       "    <tr>\n",
       "      <th>2</th>\n",
       "      <td>3668-QPYBK</td>\n",
       "      <td>Male</td>\n",
       "      <td>0</td>\n",
       "      <td>No</td>\n",
       "      <td>No</td>\n",
       "      <td>2</td>\n",
       "      <td>Yes</td>\n",
       "      <td>No</td>\n",
       "      <td>DSL</td>\n",
       "      <td>Yes</td>\n",
       "      <td>...</td>\n",
       "      <td>No</td>\n",
       "      <td>No</td>\n",
       "      <td>No</td>\n",
       "      <td>No</td>\n",
       "      <td>Month-to-month</td>\n",
       "      <td>Yes</td>\n",
       "      <td>Mailed check</td>\n",
       "      <td>53.85</td>\n",
       "      <td>108.15</td>\n",
       "      <td>Yes</td>\n",
       "    </tr>\n",
       "    <tr>\n",
       "      <th>4</th>\n",
       "      <td>9237-HQITU</td>\n",
       "      <td>Female</td>\n",
       "      <td>0</td>\n",
       "      <td>No</td>\n",
       "      <td>No</td>\n",
       "      <td>2</td>\n",
       "      <td>Yes</td>\n",
       "      <td>No</td>\n",
       "      <td>Fiber optic</td>\n",
       "      <td>No</td>\n",
       "      <td>...</td>\n",
       "      <td>No</td>\n",
       "      <td>No</td>\n",
       "      <td>No</td>\n",
       "      <td>No</td>\n",
       "      <td>Month-to-month</td>\n",
       "      <td>Yes</td>\n",
       "      <td>Electronic check</td>\n",
       "      <td>70.70</td>\n",
       "      <td>151.65</td>\n",
       "      <td>Yes</td>\n",
       "    </tr>\n",
       "    <tr>\n",
       "      <th>5</th>\n",
       "      <td>9305-CDSKC</td>\n",
       "      <td>Female</td>\n",
       "      <td>0</td>\n",
       "      <td>No</td>\n",
       "      <td>No</td>\n",
       "      <td>8</td>\n",
       "      <td>Yes</td>\n",
       "      <td>Yes</td>\n",
       "      <td>Fiber optic</td>\n",
       "      <td>No</td>\n",
       "      <td>...</td>\n",
       "      <td>Yes</td>\n",
       "      <td>No</td>\n",
       "      <td>Yes</td>\n",
       "      <td>Yes</td>\n",
       "      <td>Month-to-month</td>\n",
       "      <td>Yes</td>\n",
       "      <td>Electronic check</td>\n",
       "      <td>99.65</td>\n",
       "      <td>820.50</td>\n",
       "      <td>Yes</td>\n",
       "    </tr>\n",
       "    <tr>\n",
       "      <th>6</th>\n",
       "      <td>1452-KIOVK</td>\n",
       "      <td>Male</td>\n",
       "      <td>0</td>\n",
       "      <td>No</td>\n",
       "      <td>Yes</td>\n",
       "      <td>22</td>\n",
       "      <td>Yes</td>\n",
       "      <td>Yes</td>\n",
       "      <td>Fiber optic</td>\n",
       "      <td>No</td>\n",
       "      <td>...</td>\n",
       "      <td>No</td>\n",
       "      <td>No</td>\n",
       "      <td>Yes</td>\n",
       "      <td>No</td>\n",
       "      <td>Month-to-month</td>\n",
       "      <td>Yes</td>\n",
       "      <td>Credit card (automatic)</td>\n",
       "      <td>89.10</td>\n",
       "      <td>1949.40</td>\n",
       "      <td>No</td>\n",
       "    </tr>\n",
       "    <tr>\n",
       "      <th>...</th>\n",
       "      <td>...</td>\n",
       "      <td>...</td>\n",
       "      <td>...</td>\n",
       "      <td>...</td>\n",
       "      <td>...</td>\n",
       "      <td>...</td>\n",
       "      <td>...</td>\n",
       "      <td>...</td>\n",
       "      <td>...</td>\n",
       "      <td>...</td>\n",
       "      <td>...</td>\n",
       "      <td>...</td>\n",
       "      <td>...</td>\n",
       "      <td>...</td>\n",
       "      <td>...</td>\n",
       "      <td>...</td>\n",
       "      <td>...</td>\n",
       "      <td>...</td>\n",
       "      <td>...</td>\n",
       "      <td>...</td>\n",
       "      <td>...</td>\n",
       "    </tr>\n",
       "    <tr>\n",
       "      <th>7035</th>\n",
       "      <td>8456-QDAVC</td>\n",
       "      <td>Male</td>\n",
       "      <td>0</td>\n",
       "      <td>No</td>\n",
       "      <td>No</td>\n",
       "      <td>19</td>\n",
       "      <td>Yes</td>\n",
       "      <td>No</td>\n",
       "      <td>Fiber optic</td>\n",
       "      <td>No</td>\n",
       "      <td>...</td>\n",
       "      <td>No</td>\n",
       "      <td>No</td>\n",
       "      <td>Yes</td>\n",
       "      <td>No</td>\n",
       "      <td>Month-to-month</td>\n",
       "      <td>Yes</td>\n",
       "      <td>Bank transfer (automatic)</td>\n",
       "      <td>78.70</td>\n",
       "      <td>1495.10</td>\n",
       "      <td>No</td>\n",
       "    </tr>\n",
       "    <tr>\n",
       "      <th>7038</th>\n",
       "      <td>6840-RESVB</td>\n",
       "      <td>Male</td>\n",
       "      <td>0</td>\n",
       "      <td>Yes</td>\n",
       "      <td>Yes</td>\n",
       "      <td>24</td>\n",
       "      <td>Yes</td>\n",
       "      <td>Yes</td>\n",
       "      <td>DSL</td>\n",
       "      <td>Yes</td>\n",
       "      <td>...</td>\n",
       "      <td>Yes</td>\n",
       "      <td>Yes</td>\n",
       "      <td>Yes</td>\n",
       "      <td>Yes</td>\n",
       "      <td>One year</td>\n",
       "      <td>Yes</td>\n",
       "      <td>Mailed check</td>\n",
       "      <td>84.80</td>\n",
       "      <td>1990.50</td>\n",
       "      <td>No</td>\n",
       "    </tr>\n",
       "    <tr>\n",
       "      <th>7039</th>\n",
       "      <td>2234-XADUH</td>\n",
       "      <td>Female</td>\n",
       "      <td>0</td>\n",
       "      <td>Yes</td>\n",
       "      <td>Yes</td>\n",
       "      <td>72</td>\n",
       "      <td>Yes</td>\n",
       "      <td>Yes</td>\n",
       "      <td>Fiber optic</td>\n",
       "      <td>No</td>\n",
       "      <td>...</td>\n",
       "      <td>Yes</td>\n",
       "      <td>No</td>\n",
       "      <td>Yes</td>\n",
       "      <td>Yes</td>\n",
       "      <td>One year</td>\n",
       "      <td>Yes</td>\n",
       "      <td>Credit card (automatic)</td>\n",
       "      <td>103.20</td>\n",
       "      <td>7362.90</td>\n",
       "      <td>No</td>\n",
       "    </tr>\n",
       "    <tr>\n",
       "      <th>7041</th>\n",
       "      <td>8361-LTMKD</td>\n",
       "      <td>Male</td>\n",
       "      <td>1</td>\n",
       "      <td>Yes</td>\n",
       "      <td>No</td>\n",
       "      <td>4</td>\n",
       "      <td>Yes</td>\n",
       "      <td>Yes</td>\n",
       "      <td>Fiber optic</td>\n",
       "      <td>No</td>\n",
       "      <td>...</td>\n",
       "      <td>No</td>\n",
       "      <td>No</td>\n",
       "      <td>No</td>\n",
       "      <td>No</td>\n",
       "      <td>Month-to-month</td>\n",
       "      <td>Yes</td>\n",
       "      <td>Mailed check</td>\n",
       "      <td>74.40</td>\n",
       "      <td>306.60</td>\n",
       "      <td>Yes</td>\n",
       "    </tr>\n",
       "    <tr>\n",
       "      <th>7042</th>\n",
       "      <td>3186-AJIEK</td>\n",
       "      <td>Male</td>\n",
       "      <td>0</td>\n",
       "      <td>No</td>\n",
       "      <td>No</td>\n",
       "      <td>66</td>\n",
       "      <td>Yes</td>\n",
       "      <td>No</td>\n",
       "      <td>Fiber optic</td>\n",
       "      <td>Yes</td>\n",
       "      <td>...</td>\n",
       "      <td>Yes</td>\n",
       "      <td>Yes</td>\n",
       "      <td>Yes</td>\n",
       "      <td>Yes</td>\n",
       "      <td>Two year</td>\n",
       "      <td>Yes</td>\n",
       "      <td>Bank transfer (automatic)</td>\n",
       "      <td>105.65</td>\n",
       "      <td>6844.50</td>\n",
       "      <td>No</td>\n",
       "    </tr>\n",
       "  </tbody>\n",
       "</table>\n",
       "<p>4832 rows × 21 columns</p>\n",
       "</div>"
      ],
      "text/plain": [
       "      customerID  gender  SeniorCitizen Partner Dependents  tenure  \\\n",
       "1     5575-GNVDE    Male              0      No         No      34   \n",
       "2     3668-QPYBK    Male              0      No         No       2   \n",
       "4     9237-HQITU  Female              0      No         No       2   \n",
       "5     9305-CDSKC  Female              0      No         No       8   \n",
       "6     1452-KIOVK    Male              0      No        Yes      22   \n",
       "...          ...     ...            ...     ...        ...     ...   \n",
       "7035  8456-QDAVC    Male              0      No         No      19   \n",
       "7038  6840-RESVB    Male              0     Yes        Yes      24   \n",
       "7039  2234-XADUH  Female              0     Yes        Yes      72   \n",
       "7041  8361-LTMKD    Male              1     Yes         No       4   \n",
       "7042  3186-AJIEK    Male              0      No         No      66   \n",
       "\n",
       "     PhoneService MultipleLines InternetService OnlineSecurity  ...  \\\n",
       "1             Yes            No             DSL            Yes  ...   \n",
       "2             Yes            No             DSL            Yes  ...   \n",
       "4             Yes            No     Fiber optic             No  ...   \n",
       "5             Yes           Yes     Fiber optic             No  ...   \n",
       "6             Yes           Yes     Fiber optic             No  ...   \n",
       "...           ...           ...             ...            ...  ...   \n",
       "7035          Yes            No     Fiber optic             No  ...   \n",
       "7038          Yes           Yes             DSL            Yes  ...   \n",
       "7039          Yes           Yes     Fiber optic             No  ...   \n",
       "7041          Yes           Yes     Fiber optic             No  ...   \n",
       "7042          Yes            No     Fiber optic            Yes  ...   \n",
       "\n",
       "     DeviceProtection TechSupport StreamingTV StreamingMovies        Contract  \\\n",
       "1                 Yes          No          No              No        One year   \n",
       "2                  No          No          No              No  Month-to-month   \n",
       "4                  No          No          No              No  Month-to-month   \n",
       "5                 Yes          No         Yes             Yes  Month-to-month   \n",
       "6                  No          No         Yes              No  Month-to-month   \n",
       "...               ...         ...         ...             ...             ...   \n",
       "7035               No          No         Yes              No  Month-to-month   \n",
       "7038              Yes         Yes         Yes             Yes        One year   \n",
       "7039              Yes          No         Yes             Yes        One year   \n",
       "7041               No          No          No              No  Month-to-month   \n",
       "7042              Yes         Yes         Yes             Yes        Two year   \n",
       "\n",
       "     PaperlessBilling              PaymentMethod MonthlyCharges  TotalCharges  \\\n",
       "1                  No               Mailed check          56.95       1889.50   \n",
       "2                 Yes               Mailed check          53.85        108.15   \n",
       "4                 Yes           Electronic check          70.70        151.65   \n",
       "5                 Yes           Electronic check          99.65        820.50   \n",
       "6                 Yes    Credit card (automatic)          89.10       1949.40   \n",
       "...               ...                        ...            ...           ...   \n",
       "7035              Yes  Bank transfer (automatic)          78.70       1495.10   \n",
       "7038              Yes               Mailed check          84.80       1990.50   \n",
       "7039              Yes    Credit card (automatic)         103.20       7362.90   \n",
       "7041              Yes               Mailed check          74.40        306.60   \n",
       "7042              Yes  Bank transfer (automatic)         105.65       6844.50   \n",
       "\n",
       "      Churn  \n",
       "1        No  \n",
       "2       Yes  \n",
       "4       Yes  \n",
       "5       Yes  \n",
       "6        No  \n",
       "...     ...  \n",
       "7035     No  \n",
       "7038     No  \n",
       "7039     No  \n",
       "7041    Yes  \n",
       "7042     No  \n",
       "\n",
       "[4832 rows x 21 columns]"
      ]
     },
     "execution_count": 52,
     "metadata": {},
     "output_type": "execute_result"
    }
   ],
   "source": [
    "control = telco[(telco.InternetService != 'No') & (telco.PhoneService == 'Yes')]\n",
    "control"
   ]
  },
  {
   "cell_type": "code",
   "execution_count": 53,
   "id": "0bab34f8",
   "metadata": {
    "scrolled": true
   },
   "outputs": [
    {
     "name": "stdout",
     "output_type": "stream",
     "text": [
      "p= 0.0\n",
      "r= 0.9579229778029181\n"
     ]
    },
    {
     "data": {
      "image/png": "[encoded data removed]",
      "text/plain": [
       "<Figure size 432x288 with 1 Axes>"
      ]
     },
     "metadata": {
      "needs_background": "light"
     },
     "output_type": "display_data"
    }
   ],
   "source": [
    "r, p = stats.pearsonr(control.tenure, control.TotalCharges)\n",
    "control.plot.scatter(x='tenure', y='TotalCharges')\n",
    "print('p=', p)\n",
    "print('r=', r)"
   ]
  },
  {
   "cell_type": "code",
   "execution_count": 54,
   "id": "980a8777",
   "metadata": {},
   "outputs": [],
   "source": [
    "#What happens if you control for phone and internet service? Yes"
   ]
  },
  {
   "cell_type": "code",
   "execution_count": 55,
   "id": "fe9422d5",
   "metadata": {},
   "outputs": [
    {
     "name": "stdout",
     "output_type": "stream",
     "text": [
      "p= 1.998548108068337e-231\n",
      "r= 0.4429835314205348\n"
     ]
    },
    {
     "data": {
      "image/png": "[encoded data removed]",
      "text/plain": [
       "<Figure size 432x288 with 1 Axes>"
      ]
     },
     "metadata": {
      "needs_background": "light"
     },
     "output_type": "display_data"
    }
   ],
   "source": [
    "r, p = stats.pearsonr(control.tenure, control.MonthlyCharges)\n",
    "control.plot.scatter(x='tenure', y='MonthlyCharges')\n",
    "print('p=', p)\n",
    "print('r=', r)"
   ]
  },
  {
   "cell_type": "code",
   "execution_count": 56,
   "id": "7dc4e783",
   "metadata": {},
   "outputs": [],
   "source": [
    "#What happens if you control for phone and internet service? Still NO"
   ]
  },
  {
   "cell_type": "markdown",
   "id": "e8d4463c",
   "metadata": {},
   "source": [
    "# 2"
   ]
  },
  {
   "cell_type": "markdown",
   "id": "6f48ad70",
   "metadata": {},
   "source": [
    "Use the employees database.\n",
    "\n",
    "    Is there a relationship between how long an employee has been with the company and their salary?\n",
    "    Is there a relationship between how long an employee has been with the company and the number of titles they have had?\n"
   ]
  },
  {
   "cell_type": "code",
   "execution_count": 57,
   "id": "53682930",
   "metadata": {},
   "outputs": [],
   "source": [
    "url = f'mysql+pymysql://{env.user}:{env.password}@{env.host}/employees'"
   ]
  },
  {
   "cell_type": "code",
   "execution_count": 58,
   "id": "ff9c1673",
   "metadata": {},
   "outputs": [],
   "source": [
    "query = '''\n",
    "SELECT\n",
    "    *\n",
    "FROM salaries s\n",
    "WHERE s.to_date > NOW()\n",
    "'''"
   ]
  },
  {
   "cell_type": "code",
   "execution_count": 59,
   "id": "ba2d599a",
   "metadata": {},
   "outputs": [],
   "source": [
    "sal = pd.read_sql(query, url)"
   ]
  },
  {
   "cell_type": "code",
   "execution_count": 60,
   "id": "318a276b",
   "metadata": {},
   "outputs": [
    {
     "name": "stdout",
     "output_type": "stream",
     "text": [
      "<class 'pandas.core.frame.DataFrame'>\n",
      "RangeIndex: 240124 entries, 0 to 240123\n",
      "Data columns (total 4 columns):\n",
      " #   Column     Non-Null Count   Dtype \n",
      "---  ------     --------------   ----- \n",
      " 0   emp_no     240124 non-null  int64 \n",
      " 1   salary     240124 non-null  int64 \n",
      " 2   from_date  240124 non-null  object\n",
      " 3   to_date    240124 non-null  object\n",
      "dtypes: int64(2), object(2)\n",
      "memory usage: 7.3+ MB\n"
     ]
    }
   ],
   "source": [
    "sal.info()"
   ]
  },
  {
   "cell_type": "code",
   "execution_count": 61,
   "id": "a599edd9",
   "metadata": {
    "scrolled": true
   },
   "outputs": [],
   "source": [
    "sal.to_date = sal.to_date.astype('str')"
   ]
  },
  {
   "cell_type": "code",
   "execution_count": 62,
   "id": "3aa39f29",
   "metadata": {
    "scrolled": true
   },
   "outputs": [],
   "source": [
    "sal.to_date = sal.to_date.replace(to_replace = '9999-01-01', value = pd.to_datetime('today').date())\n"
   ]
  },
  {
   "cell_type": "code",
   "execution_count": 63,
   "id": "7268a1f6",
   "metadata": {
    "scrolled": true
   },
   "outputs": [
    {
     "data": {
      "text/html": [
       "<div>\n",
       "<style scoped>\n",
       "    .dataframe tbody tr th:only-of-type {\n",
       "        vertical-align: middle;\n",
       "    }\n",
       "\n",
       "    .dataframe tbody tr th {\n",
       "        vertical-align: top;\n",
       "    }\n",
       "\n",
       "    .dataframe thead th {\n",
       "        text-align: right;\n",
       "    }\n",
       "</style>\n",
       "<table border=\"1\" class=\"dataframe\">\n",
       "  <thead>\n",
       "    <tr style=\"text-align: right;\">\n",
       "      <th></th>\n",
       "      <th>emp_no</th>\n",
       "      <th>salary</th>\n",
       "      <th>from_date</th>\n",
       "      <th>to_date</th>\n",
       "    </tr>\n",
       "  </thead>\n",
       "  <tbody>\n",
       "    <tr>\n",
       "      <th>59122</th>\n",
       "      <td>83739</td>\n",
       "      <td>70176</td>\n",
       "      <td>2002-07-13</td>\n",
       "      <td>2022-06-28</td>\n",
       "    </tr>\n",
       "    <tr>\n",
       "      <th>36043</th>\n",
       "      <td>54909</td>\n",
       "      <td>54513</td>\n",
       "      <td>2002-01-08</td>\n",
       "      <td>2022-06-28</td>\n",
       "    </tr>\n",
       "    <tr>\n",
       "      <th>79634</th>\n",
       "      <td>109305</td>\n",
       "      <td>73807</td>\n",
       "      <td>2002-01-21</td>\n",
       "      <td>2022-06-28</td>\n",
       "    </tr>\n",
       "    <tr>\n",
       "      <th>43206</th>\n",
       "      <td>63822</td>\n",
       "      <td>55680</td>\n",
       "      <td>2001-11-30</td>\n",
       "      <td>2022-06-28</td>\n",
       "    </tr>\n",
       "    <tr>\n",
       "      <th>173886</th>\n",
       "      <td>417137</td>\n",
       "      <td>82089</td>\n",
       "      <td>2001-11-26</td>\n",
       "      <td>2022-06-28</td>\n",
       "    </tr>\n",
       "  </tbody>\n",
       "</table>\n",
       "</div>"
      ],
      "text/plain": [
       "        emp_no  salary   from_date     to_date\n",
       "59122    83739   70176  2002-07-13  2022-06-28\n",
       "36043    54909   54513  2002-01-08  2022-06-28\n",
       "79634   109305   73807  2002-01-21  2022-06-28\n",
       "43206    63822   55680  2001-11-30  2022-06-28\n",
       "173886  417137   82089  2001-11-26  2022-06-28"
      ]
     },
     "execution_count": 63,
     "metadata": {},
     "output_type": "execute_result"
    }
   ],
   "source": [
    "sal.sample(5)"
   ]
  },
  {
   "cell_type": "code",
   "execution_count": 64,
   "id": "af493451",
   "metadata": {},
   "outputs": [],
   "source": [
    "sal['time_at_comp'] = sal.to_date - sal.from_date"
   ]
  },
  {
   "cell_type": "code",
   "execution_count": 65,
   "id": "56fdb6d9",
   "metadata": {},
   "outputs": [
    {
     "data": {
      "text/html": [
       "<div>\n",
       "<style scoped>\n",
       "    .dataframe tbody tr th:only-of-type {\n",
       "        vertical-align: middle;\n",
       "    }\n",
       "\n",
       "    .dataframe tbody tr th {\n",
       "        vertical-align: top;\n",
       "    }\n",
       "\n",
       "    .dataframe thead th {\n",
       "        text-align: right;\n",
       "    }\n",
       "</style>\n",
       "<table border=\"1\" class=\"dataframe\">\n",
       "  <thead>\n",
       "    <tr style=\"text-align: right;\">\n",
       "      <th></th>\n",
       "      <th>emp_no</th>\n",
       "      <th>salary</th>\n",
       "      <th>from_date</th>\n",
       "      <th>to_date</th>\n",
       "      <th>time_at_comp</th>\n",
       "    </tr>\n",
       "  </thead>\n",
       "  <tbody>\n",
       "    <tr>\n",
       "      <th>0</th>\n",
       "      <td>10001</td>\n",
       "      <td>88958</td>\n",
       "      <td>2002-06-22</td>\n",
       "      <td>2022-06-28</td>\n",
       "      <td>7311 days</td>\n",
       "    </tr>\n",
       "    <tr>\n",
       "      <th>1</th>\n",
       "      <td>10002</td>\n",
       "      <td>72527</td>\n",
       "      <td>2001-08-02</td>\n",
       "      <td>2022-06-28</td>\n",
       "      <td>7635 days</td>\n",
       "    </tr>\n",
       "    <tr>\n",
       "      <th>2</th>\n",
       "      <td>10003</td>\n",
       "      <td>43311</td>\n",
       "      <td>2001-12-01</td>\n",
       "      <td>2022-06-28</td>\n",
       "      <td>7514 days</td>\n",
       "    </tr>\n",
       "  </tbody>\n",
       "</table>\n",
       "</div>"
      ],
      "text/plain": [
       "   emp_no  salary   from_date     to_date time_at_comp\n",
       "0   10001   88958  2002-06-22  2022-06-28    7311 days\n",
       "1   10002   72527  2001-08-02  2022-06-28    7635 days\n",
       "2   10003   43311  2001-12-01  2022-06-28    7514 days"
      ]
     },
     "execution_count": 65,
     "metadata": {},
     "output_type": "execute_result"
    }
   ],
   "source": [
    "sal.head(3)"
   ]
  },
  {
   "cell_type": "code",
   "execution_count": 66,
   "id": "951d7d91",
   "metadata": {},
   "outputs": [],
   "source": [
    "sal.time_at_comp = sal.time_at_comp/np.timedelta64(1, 'D')"
   ]
  },
  {
   "cell_type": "code",
   "execution_count": 67,
   "id": "a8826f8a",
   "metadata": {},
   "outputs": [
    {
     "data": {
      "text/html": [
       "<div>\n",
       "<style scoped>\n",
       "    .dataframe tbody tr th:only-of-type {\n",
       "        vertical-align: middle;\n",
       "    }\n",
       "\n",
       "    .dataframe tbody tr th {\n",
       "        vertical-align: top;\n",
       "    }\n",
       "\n",
       "    .dataframe thead th {\n",
       "        text-align: right;\n",
       "    }\n",
       "</style>\n",
       "<table border=\"1\" class=\"dataframe\">\n",
       "  <thead>\n",
       "    <tr style=\"text-align: right;\">\n",
       "      <th></th>\n",
       "      <th>emp_no</th>\n",
       "      <th>salary</th>\n",
       "      <th>from_date</th>\n",
       "      <th>to_date</th>\n",
       "      <th>time_at_comp</th>\n",
       "    </tr>\n",
       "  </thead>\n",
       "  <tbody>\n",
       "    <tr>\n",
       "      <th>0</th>\n",
       "      <td>10001</td>\n",
       "      <td>88958</td>\n",
       "      <td>2002-06-22</td>\n",
       "      <td>2022-06-28</td>\n",
       "      <td>7311.0</td>\n",
       "    </tr>\n",
       "    <tr>\n",
       "      <th>1</th>\n",
       "      <td>10002</td>\n",
       "      <td>72527</td>\n",
       "      <td>2001-08-02</td>\n",
       "      <td>2022-06-28</td>\n",
       "      <td>7635.0</td>\n",
       "    </tr>\n",
       "    <tr>\n",
       "      <th>2</th>\n",
       "      <td>10003</td>\n",
       "      <td>43311</td>\n",
       "      <td>2001-12-01</td>\n",
       "      <td>2022-06-28</td>\n",
       "      <td>7514.0</td>\n",
       "    </tr>\n",
       "  </tbody>\n",
       "</table>\n",
       "</div>"
      ],
      "text/plain": [
       "   emp_no  salary   from_date     to_date  time_at_comp\n",
       "0   10001   88958  2002-06-22  2022-06-28        7311.0\n",
       "1   10002   72527  2001-08-02  2022-06-28        7635.0\n",
       "2   10003   43311  2001-12-01  2022-06-28        7514.0"
      ]
     },
     "execution_count": 67,
     "metadata": {},
     "output_type": "execute_result"
    }
   ],
   "source": [
    "sal.head(3)"
   ]
  },
  {
   "cell_type": "code",
   "execution_count": 68,
   "id": "55566a5d",
   "metadata": {},
   "outputs": [
    {
     "name": "stdout",
     "output_type": "stream",
     "text": [
      "p= 5.774946603439086e-136\n",
      "r= -0.05061363684122252\n"
     ]
    },
    {
     "data": {
      "image/png": "[encoded data removed]",
      "text/plain": [
       "<Figure size 432x288 with 1 Axes>"
      ]
     },
     "metadata": {
      "needs_background": "light"
     },
     "output_type": "display_data"
    }
   ],
   "source": [
    "r, p = stats.pearsonr(sal.time_at_comp, sal.salary)\n",
    "sal.plot.scatter(x='time_at_comp', y='salary')\n",
    "print('p=', p)\n",
    "print('r=', r)"
   ]
  },
  {
   "cell_type": "code",
   "execution_count": 69,
   "id": "fd1c83e0",
   "metadata": {},
   "outputs": [],
   "source": [
    "#Is there a relationship between how long an employee has been with the company and their salary? no"
   ]
  },
  {
   "cell_type": "code",
   "execution_count": 70,
   "id": "dbf729fa",
   "metadata": {},
   "outputs": [],
   "source": [
    "#Is there a relationship between how long an employee has been with the company and the number of titles they have had?"
   ]
  },
  {
   "cell_type": "code",
   "execution_count": 71,
   "id": "bd32f94e",
   "metadata": {},
   "outputs": [],
   "source": [
    "query = '''\n",
    "SELECT\n",
    "    *\n",
    "FROM titles t\n",
    "'''"
   ]
  },
  {
   "cell_type": "code",
   "execution_count": 72,
   "id": "b13fe8bc",
   "metadata": {},
   "outputs": [],
   "source": [
    "titles = pd.read_sql(query, url)"
   ]
  },
  {
   "cell_type": "code",
   "execution_count": 73,
   "id": "ca98aabd",
   "metadata": {},
   "outputs": [
    {
     "data": {
      "text/html": [
       "<div>\n",
       "<style scoped>\n",
       "    .dataframe tbody tr th:only-of-type {\n",
       "        vertical-align: middle;\n",
       "    }\n",
       "\n",
       "    .dataframe tbody tr th {\n",
       "        vertical-align: top;\n",
       "    }\n",
       "\n",
       "    .dataframe thead th {\n",
       "        text-align: right;\n",
       "    }\n",
       "</style>\n",
       "<table border=\"1\" class=\"dataframe\">\n",
       "  <thead>\n",
       "    <tr style=\"text-align: right;\">\n",
       "      <th></th>\n",
       "      <th>emp_no</th>\n",
       "      <th>title</th>\n",
       "      <th>from_date</th>\n",
       "      <th>to_date</th>\n",
       "    </tr>\n",
       "  </thead>\n",
       "  <tbody>\n",
       "    <tr>\n",
       "      <th>0</th>\n",
       "      <td>10001</td>\n",
       "      <td>Senior Engineer</td>\n",
       "      <td>1986-06-26</td>\n",
       "      <td>9999-01-01</td>\n",
       "    </tr>\n",
       "    <tr>\n",
       "      <th>1</th>\n",
       "      <td>10002</td>\n",
       "      <td>Staff</td>\n",
       "      <td>1996-08-03</td>\n",
       "      <td>9999-01-01</td>\n",
       "    </tr>\n",
       "    <tr>\n",
       "      <th>2</th>\n",
       "      <td>10003</td>\n",
       "      <td>Senior Engineer</td>\n",
       "      <td>1995-12-03</td>\n",
       "      <td>9999-01-01</td>\n",
       "    </tr>\n",
       "    <tr>\n",
       "      <th>3</th>\n",
       "      <td>10004</td>\n",
       "      <td>Engineer</td>\n",
       "      <td>1986-12-01</td>\n",
       "      <td>1995-12-01</td>\n",
       "    </tr>\n",
       "    <tr>\n",
       "      <th>4</th>\n",
       "      <td>10004</td>\n",
       "      <td>Senior Engineer</td>\n",
       "      <td>1995-12-01</td>\n",
       "      <td>9999-01-01</td>\n",
       "    </tr>\n",
       "  </tbody>\n",
       "</table>\n",
       "</div>"
      ],
      "text/plain": [
       "   emp_no            title   from_date     to_date\n",
       "0   10001  Senior Engineer  1986-06-26  9999-01-01\n",
       "1   10002            Staff  1996-08-03  9999-01-01\n",
       "2   10003  Senior Engineer  1995-12-03  9999-01-01\n",
       "3   10004         Engineer  1986-12-01  1995-12-01\n",
       "4   10004  Senior Engineer  1995-12-01  9999-01-01"
      ]
     },
     "execution_count": 73,
     "metadata": {},
     "output_type": "execute_result"
    }
   ],
   "source": [
    "titles.head()"
   ]
  },
  {
   "cell_type": "code",
   "execution_count": 74,
   "id": "6d96cf3a",
   "metadata": {
    "scrolled": true
   },
   "outputs": [],
   "source": [
    "titles.to_date = titles.to_date.astype('str')"
   ]
  },
  {
   "cell_type": "code",
   "execution_count": 75,
   "id": "198f4a7c",
   "metadata": {},
   "outputs": [],
   "source": [
    "titles.to_date = titles.to_date.replace(to_replace = '9999-01-01', value = pd.to_datetime('today').date())"
   ]
  },
  {
   "cell_type": "code",
   "execution_count": 76,
   "id": "5fb26d6c",
   "metadata": {},
   "outputs": [],
   "source": [
    "titles.sample(9);"
   ]
  },
  {
   "cell_type": "code",
   "execution_count": 77,
   "id": "b144851b",
   "metadata": {},
   "outputs": [],
   "source": [
    "l = titles.groupby('emp_no').count()"
   ]
  },
  {
   "cell_type": "code",
   "execution_count": 78,
   "id": "d579e53f",
   "metadata": {},
   "outputs": [],
   "source": [
    "l = l.drop(columns = 'from_date')"
   ]
  },
  {
   "cell_type": "code",
   "execution_count": 79,
   "id": "04cf36a2",
   "metadata": {},
   "outputs": [],
   "source": [
    "l = l.drop(columns = 'to_date')"
   ]
  },
  {
   "cell_type": "code",
   "execution_count": 80,
   "id": "06b77738",
   "metadata": {},
   "outputs": [
    {
     "data": {
      "text/plain": [
       "(300024, 1)"
      ]
     },
     "execution_count": 80,
     "metadata": {},
     "output_type": "execute_result"
    }
   ],
   "source": [
    "l.shape"
   ]
  },
  {
   "cell_type": "code",
   "execution_count": 81,
   "id": "f0159e15",
   "metadata": {},
   "outputs": [
    {
     "name": "stdout",
     "output_type": "stream",
     "text": [
      "<class 'pandas.core.frame.DataFrame'>\n",
      "RangeIndex: 443308 entries, 0 to 443307\n",
      "Data columns (total 4 columns):\n",
      " #   Column     Non-Null Count   Dtype \n",
      "---  ------     --------------   ----- \n",
      " 0   emp_no     443308 non-null  int64 \n",
      " 1   title      443308 non-null  object\n",
      " 2   from_date  443308 non-null  object\n",
      " 3   to_date    443308 non-null  object\n",
      "dtypes: int64(1), object(3)\n",
      "memory usage: 13.5+ MB\n"
     ]
    }
   ],
   "source": [
    "titles.info();"
   ]
  },
  {
   "cell_type": "code",
   "execution_count": 82,
   "id": "76668d90",
   "metadata": {},
   "outputs": [],
   "source": [
    "titles.from_date = titles.from_date.astype('str')"
   ]
  },
  {
   "cell_type": "code",
   "execution_count": 83,
   "id": "c451a638",
   "metadata": {},
   "outputs": [],
   "source": [
    "titles.to_date = titles.to_date.astype('str')"
   ]
  },
  {
   "cell_type": "code",
   "execution_count": 84,
   "id": "93775c77",
   "metadata": {},
   "outputs": [],
   "source": [
    "titles.to_date  = pd.to_datetime(titles.to_date)"
   ]
  },
  {
   "cell_type": "code",
   "execution_count": 85,
   "id": "ed44f868",
   "metadata": {},
   "outputs": [],
   "source": [
    "titles.from_date = pd.to_datetime(titles.from_date)"
   ]
  },
  {
   "cell_type": "code",
   "execution_count": 86,
   "id": "9b9d07c7",
   "metadata": {},
   "outputs": [
    {
     "data": {
      "text/plain": [
       "0        13151 days\n",
       "1         9460 days\n",
       "2         9704 days\n",
       "3         3287 days\n",
       "4         9706 days\n",
       "            ...    \n",
       "443303    1826 days\n",
       "443304   10895 days\n",
       "443305    8584 days\n",
       "443306    1826 days\n",
       "443307    8976 days\n",
       "Length: 443308, dtype: timedelta64[ns]"
      ]
     },
     "execution_count": 86,
     "metadata": {},
     "output_type": "execute_result"
    }
   ],
   "source": [
    "titles.to_date - titles.from_date"
   ]
  },
  {
   "cell_type": "code",
   "execution_count": 87,
   "id": "47e4bf46",
   "metadata": {},
   "outputs": [],
   "source": [
    "titles['length'] = (titles.to_date - titles.from_date)/np.timedelta64(1, 'D')"
   ]
  },
  {
   "cell_type": "code",
   "execution_count": 88,
   "id": "1e8665dc",
   "metadata": {},
   "outputs": [
    {
     "data": {
      "text/html": [
       "<div>\n",
       "<style scoped>\n",
       "    .dataframe tbody tr th:only-of-type {\n",
       "        vertical-align: middle;\n",
       "    }\n",
       "\n",
       "    .dataframe tbody tr th {\n",
       "        vertical-align: top;\n",
       "    }\n",
       "\n",
       "    .dataframe thead th {\n",
       "        text-align: right;\n",
       "    }\n",
       "</style>\n",
       "<table border=\"1\" class=\"dataframe\">\n",
       "  <thead>\n",
       "    <tr style=\"text-align: right;\">\n",
       "      <th></th>\n",
       "      <th>emp_no</th>\n",
       "      <th>title</th>\n",
       "      <th>from_date</th>\n",
       "      <th>to_date</th>\n",
       "      <th>length</th>\n",
       "    </tr>\n",
       "  </thead>\n",
       "  <tbody>\n",
       "    <tr>\n",
       "      <th>0</th>\n",
       "      <td>10001</td>\n",
       "      <td>Senior Engineer</td>\n",
       "      <td>1986-06-26</td>\n",
       "      <td>2022-06-28</td>\n",
       "      <td>13151.0</td>\n",
       "    </tr>\n",
       "    <tr>\n",
       "      <th>1</th>\n",
       "      <td>10002</td>\n",
       "      <td>Staff</td>\n",
       "      <td>1996-08-03</td>\n",
       "      <td>2022-06-28</td>\n",
       "      <td>9460.0</td>\n",
       "    </tr>\n",
       "    <tr>\n",
       "      <th>2</th>\n",
       "      <td>10003</td>\n",
       "      <td>Senior Engineer</td>\n",
       "      <td>1995-12-03</td>\n",
       "      <td>2022-06-28</td>\n",
       "      <td>9704.0</td>\n",
       "    </tr>\n",
       "    <tr>\n",
       "      <th>3</th>\n",
       "      <td>10004</td>\n",
       "      <td>Engineer</td>\n",
       "      <td>1986-12-01</td>\n",
       "      <td>1995-12-01</td>\n",
       "      <td>3287.0</td>\n",
       "    </tr>\n",
       "    <tr>\n",
       "      <th>4</th>\n",
       "      <td>10004</td>\n",
       "      <td>Senior Engineer</td>\n",
       "      <td>1995-12-01</td>\n",
       "      <td>2022-06-28</td>\n",
       "      <td>9706.0</td>\n",
       "    </tr>\n",
       "  </tbody>\n",
       "</table>\n",
       "</div>"
      ],
      "text/plain": [
       "   emp_no            title  from_date    to_date   length\n",
       "0   10001  Senior Engineer 1986-06-26 2022-06-28  13151.0\n",
       "1   10002            Staff 1996-08-03 2022-06-28   9460.0\n",
       "2   10003  Senior Engineer 1995-12-03 2022-06-28   9704.0\n",
       "3   10004         Engineer 1986-12-01 1995-12-01   3287.0\n",
       "4   10004  Senior Engineer 1995-12-01 2022-06-28   9706.0"
      ]
     },
     "execution_count": 88,
     "metadata": {},
     "output_type": "execute_result"
    }
   ],
   "source": [
    "titles.head()"
   ]
  },
  {
   "cell_type": "code",
   "execution_count": 89,
   "id": "3c9b60dc",
   "metadata": {},
   "outputs": [],
   "source": [
    "lm = titles"
   ]
  },
  {
   "cell_type": "code",
   "execution_count": 90,
   "id": "9d7d2523",
   "metadata": {},
   "outputs": [
    {
     "data": {
      "text/html": [
       "<div>\n",
       "<style scoped>\n",
       "    .dataframe tbody tr th:only-of-type {\n",
       "        vertical-align: middle;\n",
       "    }\n",
       "\n",
       "    .dataframe tbody tr th {\n",
       "        vertical-align: top;\n",
       "    }\n",
       "\n",
       "    .dataframe thead th {\n",
       "        text-align: right;\n",
       "    }\n",
       "</style>\n",
       "<table border=\"1\" class=\"dataframe\">\n",
       "  <thead>\n",
       "    <tr style=\"text-align: right;\">\n",
       "      <th></th>\n",
       "      <th>emp_no</th>\n",
       "      <th>length</th>\n",
       "    </tr>\n",
       "  </thead>\n",
       "  <tbody>\n",
       "    <tr>\n",
       "      <th>0</th>\n",
       "      <td>10001</td>\n",
       "      <td>13151.0</td>\n",
       "    </tr>\n",
       "    <tr>\n",
       "      <th>1</th>\n",
       "      <td>10002</td>\n",
       "      <td>9460.0</td>\n",
       "    </tr>\n",
       "    <tr>\n",
       "      <th>2</th>\n",
       "      <td>10003</td>\n",
       "      <td>9704.0</td>\n",
       "    </tr>\n",
       "    <tr>\n",
       "      <th>3</th>\n",
       "      <td>10004</td>\n",
       "      <td>3287.0</td>\n",
       "    </tr>\n",
       "    <tr>\n",
       "      <th>4</th>\n",
       "      <td>10004</td>\n",
       "      <td>9706.0</td>\n",
       "    </tr>\n",
       "    <tr>\n",
       "      <th>...</th>\n",
       "      <td>...</td>\n",
       "      <td>...</td>\n",
       "    </tr>\n",
       "    <tr>\n",
       "      <th>443303</th>\n",
       "      <td>499997</td>\n",
       "      <td>1826.0</td>\n",
       "    </tr>\n",
       "    <tr>\n",
       "      <th>443304</th>\n",
       "      <td>499997</td>\n",
       "      <td>10895.0</td>\n",
       "    </tr>\n",
       "    <tr>\n",
       "      <th>443305</th>\n",
       "      <td>499998</td>\n",
       "      <td>8584.0</td>\n",
       "    </tr>\n",
       "    <tr>\n",
       "      <th>443306</th>\n",
       "      <td>499998</td>\n",
       "      <td>1826.0</td>\n",
       "    </tr>\n",
       "    <tr>\n",
       "      <th>443307</th>\n",
       "      <td>499999</td>\n",
       "      <td>8976.0</td>\n",
       "    </tr>\n",
       "  </tbody>\n",
       "</table>\n",
       "<p>443308 rows × 2 columns</p>\n",
       "</div>"
      ],
      "text/plain": [
       "        emp_no   length\n",
       "0        10001  13151.0\n",
       "1        10002   9460.0\n",
       "2        10003   9704.0\n",
       "3        10004   3287.0\n",
       "4        10004   9706.0\n",
       "...        ...      ...\n",
       "443303  499997   1826.0\n",
       "443304  499997  10895.0\n",
       "443305  499998   8584.0\n",
       "443306  499998   1826.0\n",
       "443307  499999   8976.0\n",
       "\n",
       "[443308 rows x 2 columns]"
      ]
     },
     "execution_count": 90,
     "metadata": {},
     "output_type": "execute_result"
    }
   ],
   "source": [
    "lm.drop(columns = ['from_date', 'to_date', 'title'])"
   ]
  },
  {
   "cell_type": "code",
   "execution_count": 91,
   "id": "65ef00ec",
   "metadata": {},
   "outputs": [],
   "source": [
    "lm = lm.groupby('emp_no').sum()"
   ]
  },
  {
   "cell_type": "code",
   "execution_count": 92,
   "id": "e81be5e0",
   "metadata": {},
   "outputs": [
    {
     "data": {
      "text/plain": [
       "(300024, 1)"
      ]
     },
     "execution_count": 92,
     "metadata": {},
     "output_type": "execute_result"
    }
   ],
   "source": [
    "lm.shape"
   ]
  },
  {
   "cell_type": "code",
   "execution_count": 93,
   "id": "8c56fd84",
   "metadata": {},
   "outputs": [],
   "source": [
    "k = l.join(lm, on = 'emp_no', how = 'left')"
   ]
  },
  {
   "cell_type": "code",
   "execution_count": 94,
   "id": "1d102d37",
   "metadata": {},
   "outputs": [
    {
     "data": {
      "text/html": [
       "<div>\n",
       "<style scoped>\n",
       "    .dataframe tbody tr th:only-of-type {\n",
       "        vertical-align: middle;\n",
       "    }\n",
       "\n",
       "    .dataframe tbody tr th {\n",
       "        vertical-align: top;\n",
       "    }\n",
       "\n",
       "    .dataframe thead th {\n",
       "        text-align: right;\n",
       "    }\n",
       "</style>\n",
       "<table border=\"1\" class=\"dataframe\">\n",
       "  <thead>\n",
       "    <tr style=\"text-align: right;\">\n",
       "      <th></th>\n",
       "      <th>title</th>\n",
       "      <th>length</th>\n",
       "    </tr>\n",
       "    <tr>\n",
       "      <th>emp_no</th>\n",
       "      <th></th>\n",
       "      <th></th>\n",
       "    </tr>\n",
       "  </thead>\n",
       "  <tbody>\n",
       "    <tr>\n",
       "      <th>10001</th>\n",
       "      <td>1</td>\n",
       "      <td>13151.0</td>\n",
       "    </tr>\n",
       "    <tr>\n",
       "      <th>10002</th>\n",
       "      <td>1</td>\n",
       "      <td>9460.0</td>\n",
       "    </tr>\n",
       "    <tr>\n",
       "      <th>10003</th>\n",
       "      <td>1</td>\n",
       "      <td>9704.0</td>\n",
       "    </tr>\n",
       "    <tr>\n",
       "      <th>10004</th>\n",
       "      <td>2</td>\n",
       "      <td>12993.0</td>\n",
       "    </tr>\n",
       "    <tr>\n",
       "      <th>10005</th>\n",
       "      <td>2</td>\n",
       "      <td>11977.0</td>\n",
       "    </tr>\n",
       "  </tbody>\n",
       "</table>\n",
       "</div>"
      ],
      "text/plain": [
       "        title   length\n",
       "emp_no                \n",
       "10001       1  13151.0\n",
       "10002       1   9460.0\n",
       "10003       1   9704.0\n",
       "10004       2  12993.0\n",
       "10005       2  11977.0"
      ]
     },
     "execution_count": 94,
     "metadata": {},
     "output_type": "execute_result"
    }
   ],
   "source": [
    "k.head()"
   ]
  },
  {
   "cell_type": "code",
   "execution_count": 95,
   "id": "65ed7eea",
   "metadata": {},
   "outputs": [
    {
     "ename": "KeyError",
     "evalue": "'emp_no'",
     "output_type": "error",
     "traceback": [
      "\u001b[0;31m---------------------------------------------------------------------------\u001b[0m",
      "\u001b[0;31mKeyError\u001b[0m                                  Traceback (most recent call last)",
      "File \u001b[0;32m/opt/homebrew/anaconda3/lib/python3.9/site-packages/pandas/core/indexes/base.py:3621\u001b[0m, in \u001b[0;36mIndex.get_loc\u001b[0;34m(self, key, method, tolerance)\u001b[0m\n\u001b[1;32m   3620\u001b[0m \u001b[38;5;28;01mtry\u001b[39;00m:\n\u001b[0;32m-> 3621\u001b[0m     \u001b[38;5;28;01mreturn\u001b[39;00m \u001b[38;5;28;43mself\u001b[39;49m\u001b[38;5;241;43m.\u001b[39;49m\u001b[43m_engine\u001b[49m\u001b[38;5;241;43m.\u001b[39;49m\u001b[43mget_loc\u001b[49m\u001b[43m(\u001b[49m\u001b[43mcasted_key\u001b[49m\u001b[43m)\u001b[49m\n\u001b[1;32m   3622\u001b[0m \u001b[38;5;28;01mexcept\u001b[39;00m \u001b[38;5;167;01mKeyError\u001b[39;00m \u001b[38;5;28;01mas\u001b[39;00m err:\n",
      "File \u001b[0;32m/opt/homebrew/anaconda3/lib/python3.9/site-packages/pandas/_libs/index.pyx:136\u001b[0m, in \u001b[0;36mpandas._libs.index.IndexEngine.get_loc\u001b[0;34m()\u001b[0m\n",
      "File \u001b[0;32m/opt/homebrew/anaconda3/lib/python3.9/site-packages/pandas/_libs/index.pyx:163\u001b[0m, in \u001b[0;36mpandas._libs.index.IndexEngine.get_loc\u001b[0;34m()\u001b[0m\n",
      "File \u001b[0;32mpandas/_libs/hashtable_class_helper.pxi:5198\u001b[0m, in \u001b[0;36mpandas._libs.hashtable.PyObjectHashTable.get_item\u001b[0;34m()\u001b[0m\n",
      "File \u001b[0;32mpandas/_libs/hashtable_class_helper.pxi:5206\u001b[0m, in \u001b[0;36mpandas._libs.hashtable.PyObjectHashTable.get_item\u001b[0;34m()\u001b[0m\n",
      "\u001b[0;31mKeyError\u001b[0m: 'emp_no'",
      "\nThe above exception was the direct cause of the following exception:\n",
      "\u001b[0;31mKeyError\u001b[0m                                  Traceback (most recent call last)",
      "Input \u001b[0;32mIn [95]\u001b[0m, in \u001b[0;36m<cell line: 2>\u001b[0;34m()\u001b[0m\n\u001b[1;32m      1\u001b[0m r, p \u001b[38;5;241m=\u001b[39m stats\u001b[38;5;241m.\u001b[39mpearsonr(k\u001b[38;5;241m.\u001b[39mlength, k\u001b[38;5;241m.\u001b[39mtitle)\n\u001b[0;32m----> 2\u001b[0m \u001b[43mk\u001b[49m\u001b[38;5;241;43m.\u001b[39;49m\u001b[43mplot\u001b[49m\u001b[38;5;241;43m.\u001b[39;49m\u001b[43mscatter\u001b[49m\u001b[43m(\u001b[49m\u001b[43mx\u001b[49m\u001b[38;5;241;43m=\u001b[39;49m\u001b[38;5;124;43m'\u001b[39;49m\u001b[38;5;124;43mlength\u001b[39;49m\u001b[38;5;124;43m'\u001b[39;49m\u001b[43m,\u001b[49m\u001b[43m \u001b[49m\u001b[43my\u001b[49m\u001b[38;5;241;43m=\u001b[39;49m\u001b[38;5;124;43m'\u001b[39;49m\u001b[38;5;124;43memp_no\u001b[39;49m\u001b[38;5;124;43m'\u001b[39;49m\u001b[43m)\u001b[49m\n\u001b[1;32m      3\u001b[0m \u001b[38;5;28mprint\u001b[39m(\u001b[38;5;124m'\u001b[39m\u001b[38;5;124mp=\u001b[39m\u001b[38;5;124m'\u001b[39m, p)\n\u001b[1;32m      4\u001b[0m \u001b[38;5;28mprint\u001b[39m(\u001b[38;5;124m'\u001b[39m\u001b[38;5;124mr=\u001b[39m\u001b[38;5;124m'\u001b[39m, r)\n",
      "File \u001b[0;32m/opt/homebrew/anaconda3/lib/python3.9/site-packages/pandas/plotting/_core.py:1669\u001b[0m, in \u001b[0;36mPlotAccessor.scatter\u001b[0;34m(self, x, y, s, c, **kwargs)\u001b[0m\n\u001b[1;32m   1586\u001b[0m \u001b[38;5;28;01mdef\u001b[39;00m \u001b[38;5;21mscatter\u001b[39m(\u001b[38;5;28mself\u001b[39m, x, y, s\u001b[38;5;241m=\u001b[39m\u001b[38;5;28;01mNone\u001b[39;00m, c\u001b[38;5;241m=\u001b[39m\u001b[38;5;28;01mNone\u001b[39;00m, \u001b[38;5;241m*\u001b[39m\u001b[38;5;241m*\u001b[39mkwargs):\n\u001b[1;32m   1587\u001b[0m     \u001b[38;5;124;03m\"\"\"\u001b[39;00m\n\u001b[1;32m   1588\u001b[0m \u001b[38;5;124;03m    Create a scatter plot with varying marker point size and color.\u001b[39;00m\n\u001b[1;32m   1589\u001b[0m \n\u001b[0;32m   (...)\u001b[0m\n\u001b[1;32m   1667\u001b[0m \u001b[38;5;124;03m        ...                       colormap='viridis')\u001b[39;00m\n\u001b[1;32m   1668\u001b[0m \u001b[38;5;124;03m    \"\"\"\u001b[39;00m\n\u001b[0;32m-> 1669\u001b[0m     \u001b[38;5;28;01mreturn\u001b[39;00m \u001b[38;5;28;43mself\u001b[39;49m\u001b[43m(\u001b[49m\u001b[43mkind\u001b[49m\u001b[38;5;241;43m=\u001b[39;49m\u001b[38;5;124;43m\"\u001b[39;49m\u001b[38;5;124;43mscatter\u001b[39;49m\u001b[38;5;124;43m\"\u001b[39;49m\u001b[43m,\u001b[49m\u001b[43m \u001b[49m\u001b[43mx\u001b[49m\u001b[38;5;241;43m=\u001b[39;49m\u001b[43mx\u001b[49m\u001b[43m,\u001b[49m\u001b[43m \u001b[49m\u001b[43my\u001b[49m\u001b[38;5;241;43m=\u001b[39;49m\u001b[43my\u001b[49m\u001b[43m,\u001b[49m\u001b[43m \u001b[49m\u001b[43ms\u001b[49m\u001b[38;5;241;43m=\u001b[39;49m\u001b[43ms\u001b[49m\u001b[43m,\u001b[49m\u001b[43m \u001b[49m\u001b[43mc\u001b[49m\u001b[38;5;241;43m=\u001b[39;49m\u001b[43mc\u001b[49m\u001b[43m,\u001b[49m\u001b[43m \u001b[49m\u001b[38;5;241;43m*\u001b[39;49m\u001b[38;5;241;43m*\u001b[39;49m\u001b[43mkwargs\u001b[49m\u001b[43m)\u001b[49m\n",
      "File \u001b[0;32m/opt/homebrew/anaconda3/lib/python3.9/site-packages/pandas/plotting/_core.py:917\u001b[0m, in \u001b[0;36mPlotAccessor.__call__\u001b[0;34m(self, *args, **kwargs)\u001b[0m\n\u001b[1;32m    915\u001b[0m \u001b[38;5;28;01mif\u001b[39;00m kind \u001b[38;5;129;01min\u001b[39;00m \u001b[38;5;28mself\u001b[39m\u001b[38;5;241m.\u001b[39m_dataframe_kinds:\n\u001b[1;32m    916\u001b[0m     \u001b[38;5;28;01mif\u001b[39;00m \u001b[38;5;28misinstance\u001b[39m(data, ABCDataFrame):\n\u001b[0;32m--> 917\u001b[0m         \u001b[38;5;28;01mreturn\u001b[39;00m \u001b[43mplot_backend\u001b[49m\u001b[38;5;241;43m.\u001b[39;49m\u001b[43mplot\u001b[49m\u001b[43m(\u001b[49m\u001b[43mdata\u001b[49m\u001b[43m,\u001b[49m\u001b[43m \u001b[49m\u001b[43mx\u001b[49m\u001b[38;5;241;43m=\u001b[39;49m\u001b[43mx\u001b[49m\u001b[43m,\u001b[49m\u001b[43m \u001b[49m\u001b[43my\u001b[49m\u001b[38;5;241;43m=\u001b[39;49m\u001b[43my\u001b[49m\u001b[43m,\u001b[49m\u001b[43m \u001b[49m\u001b[43mkind\u001b[49m\u001b[38;5;241;43m=\u001b[39;49m\u001b[43mkind\u001b[49m\u001b[43m,\u001b[49m\u001b[43m \u001b[49m\u001b[38;5;241;43m*\u001b[39;49m\u001b[38;5;241;43m*\u001b[39;49m\u001b[43mkwargs\u001b[49m\u001b[43m)\u001b[49m\n\u001b[1;32m    918\u001b[0m     \u001b[38;5;28;01melse\u001b[39;00m:\n\u001b[1;32m    919\u001b[0m         \u001b[38;5;28;01mraise\u001b[39;00m \u001b[38;5;167;01mValueError\u001b[39;00m(\u001b[38;5;124mf\u001b[39m\u001b[38;5;124m\"\u001b[39m\u001b[38;5;124mplot kind \u001b[39m\u001b[38;5;132;01m{\u001b[39;00mkind\u001b[38;5;132;01m}\u001b[39;00m\u001b[38;5;124m can only be used for data frames\u001b[39m\u001b[38;5;124m\"\u001b[39m)\n",
      "File \u001b[0;32m/opt/homebrew/anaconda3/lib/python3.9/site-packages/pandas/plotting/_matplotlib/__init__.py:71\u001b[0m, in \u001b[0;36mplot\u001b[0;34m(data, kind, **kwargs)\u001b[0m\n\u001b[1;32m     69\u001b[0m         kwargs[\u001b[38;5;124m\"\u001b[39m\u001b[38;5;124max\u001b[39m\u001b[38;5;124m\"\u001b[39m] \u001b[38;5;241m=\u001b[39m \u001b[38;5;28mgetattr\u001b[39m(ax, \u001b[38;5;124m\"\u001b[39m\u001b[38;5;124mleft_ax\u001b[39m\u001b[38;5;124m\"\u001b[39m, ax)\n\u001b[1;32m     70\u001b[0m plot_obj \u001b[38;5;241m=\u001b[39m PLOT_CLASSES[kind](data, \u001b[38;5;241m*\u001b[39m\u001b[38;5;241m*\u001b[39mkwargs)\n\u001b[0;32m---> 71\u001b[0m \u001b[43mplot_obj\u001b[49m\u001b[38;5;241;43m.\u001b[39;49m\u001b[43mgenerate\u001b[49m\u001b[43m(\u001b[49m\u001b[43m)\u001b[49m\n\u001b[1;32m     72\u001b[0m plot_obj\u001b[38;5;241m.\u001b[39mdraw()\n\u001b[1;32m     73\u001b[0m \u001b[38;5;28;01mreturn\u001b[39;00m plot_obj\u001b[38;5;241m.\u001b[39mresult\n",
      "File \u001b[0;32m/opt/homebrew/anaconda3/lib/python3.9/site-packages/pandas/plotting/_matplotlib/core.py:329\u001b[0m, in \u001b[0;36mMPLPlot.generate\u001b[0;34m(self)\u001b[0m\n\u001b[1;32m    327\u001b[0m \u001b[38;5;28mself\u001b[39m\u001b[38;5;241m.\u001b[39m_compute_plot_data()\n\u001b[1;32m    328\u001b[0m \u001b[38;5;28mself\u001b[39m\u001b[38;5;241m.\u001b[39m_setup_subplots()\n\u001b[0;32m--> 329\u001b[0m \u001b[38;5;28;43mself\u001b[39;49m\u001b[38;5;241;43m.\u001b[39;49m\u001b[43m_make_plot\u001b[49m\u001b[43m(\u001b[49m\u001b[43m)\u001b[49m\n\u001b[1;32m    330\u001b[0m \u001b[38;5;28mself\u001b[39m\u001b[38;5;241m.\u001b[39m_add_table()\n\u001b[1;32m    331\u001b[0m \u001b[38;5;28mself\u001b[39m\u001b[38;5;241m.\u001b[39m_make_legend()\n",
      "File \u001b[0;32m/opt/homebrew/anaconda3/lib/python3.9/site-packages/pandas/plotting/_matplotlib/core.py:1116\u001b[0m, in \u001b[0;36mScatterPlot._make_plot\u001b[0;34m(self)\u001b[0m\n\u001b[1;32m   1112\u001b[0m \u001b[38;5;28;01melse\u001b[39;00m:\n\u001b[1;32m   1113\u001b[0m     label \u001b[38;5;241m=\u001b[39m \u001b[38;5;28;01mNone\u001b[39;00m\n\u001b[1;32m   1114\u001b[0m scatter \u001b[38;5;241m=\u001b[39m ax\u001b[38;5;241m.\u001b[39mscatter(\n\u001b[1;32m   1115\u001b[0m     data[x]\u001b[38;5;241m.\u001b[39mvalues,\n\u001b[0;32m-> 1116\u001b[0m     \u001b[43mdata\u001b[49m\u001b[43m[\u001b[49m\u001b[43my\u001b[49m\u001b[43m]\u001b[49m\u001b[38;5;241m.\u001b[39mvalues,\n\u001b[1;32m   1117\u001b[0m     c\u001b[38;5;241m=\u001b[39mc_values,\n\u001b[1;32m   1118\u001b[0m     label\u001b[38;5;241m=\u001b[39mlabel,\n\u001b[1;32m   1119\u001b[0m     cmap\u001b[38;5;241m=\u001b[39mcmap,\n\u001b[1;32m   1120\u001b[0m     norm\u001b[38;5;241m=\u001b[39mnorm,\n\u001b[1;32m   1121\u001b[0m     \u001b[38;5;241m*\u001b[39m\u001b[38;5;241m*\u001b[39m\u001b[38;5;28mself\u001b[39m\u001b[38;5;241m.\u001b[39mkwds,\n\u001b[1;32m   1122\u001b[0m )\n\u001b[1;32m   1123\u001b[0m \u001b[38;5;28;01mif\u001b[39;00m cb:\n\u001b[1;32m   1124\u001b[0m     cbar_label \u001b[38;5;241m=\u001b[39m c \u001b[38;5;28;01mif\u001b[39;00m c_is_column \u001b[38;5;28;01melse\u001b[39;00m \u001b[38;5;124m\"\u001b[39m\u001b[38;5;124m\"\u001b[39m\n",
      "File \u001b[0;32m/opt/homebrew/anaconda3/lib/python3.9/site-packages/pandas/core/frame.py:3505\u001b[0m, in \u001b[0;36mDataFrame.__getitem__\u001b[0;34m(self, key)\u001b[0m\n\u001b[1;32m   3503\u001b[0m \u001b[38;5;28;01mif\u001b[39;00m \u001b[38;5;28mself\u001b[39m\u001b[38;5;241m.\u001b[39mcolumns\u001b[38;5;241m.\u001b[39mnlevels \u001b[38;5;241m>\u001b[39m \u001b[38;5;241m1\u001b[39m:\n\u001b[1;32m   3504\u001b[0m     \u001b[38;5;28;01mreturn\u001b[39;00m \u001b[38;5;28mself\u001b[39m\u001b[38;5;241m.\u001b[39m_getitem_multilevel(key)\n\u001b[0;32m-> 3505\u001b[0m indexer \u001b[38;5;241m=\u001b[39m \u001b[38;5;28;43mself\u001b[39;49m\u001b[38;5;241;43m.\u001b[39;49m\u001b[43mcolumns\u001b[49m\u001b[38;5;241;43m.\u001b[39;49m\u001b[43mget_loc\u001b[49m\u001b[43m(\u001b[49m\u001b[43mkey\u001b[49m\u001b[43m)\u001b[49m\n\u001b[1;32m   3506\u001b[0m \u001b[38;5;28;01mif\u001b[39;00m is_integer(indexer):\n\u001b[1;32m   3507\u001b[0m     indexer \u001b[38;5;241m=\u001b[39m [indexer]\n",
      "File \u001b[0;32m/opt/homebrew/anaconda3/lib/python3.9/site-packages/pandas/core/indexes/base.py:3623\u001b[0m, in \u001b[0;36mIndex.get_loc\u001b[0;34m(self, key, method, tolerance)\u001b[0m\n\u001b[1;32m   3621\u001b[0m     \u001b[38;5;28;01mreturn\u001b[39;00m \u001b[38;5;28mself\u001b[39m\u001b[38;5;241m.\u001b[39m_engine\u001b[38;5;241m.\u001b[39mget_loc(casted_key)\n\u001b[1;32m   3622\u001b[0m \u001b[38;5;28;01mexcept\u001b[39;00m \u001b[38;5;167;01mKeyError\u001b[39;00m \u001b[38;5;28;01mas\u001b[39;00m err:\n\u001b[0;32m-> 3623\u001b[0m     \u001b[38;5;28;01mraise\u001b[39;00m \u001b[38;5;167;01mKeyError\u001b[39;00m(key) \u001b[38;5;28;01mfrom\u001b[39;00m \u001b[38;5;21;01merr\u001b[39;00m\n\u001b[1;32m   3624\u001b[0m \u001b[38;5;28;01mexcept\u001b[39;00m \u001b[38;5;167;01mTypeError\u001b[39;00m:\n\u001b[1;32m   3625\u001b[0m     \u001b[38;5;66;03m# If we have a listlike key, _check_indexing_error will raise\u001b[39;00m\n\u001b[1;32m   3626\u001b[0m     \u001b[38;5;66;03m#  InvalidIndexError. Otherwise we fall through and re-raise\u001b[39;00m\n\u001b[1;32m   3627\u001b[0m     \u001b[38;5;66;03m#  the TypeError.\u001b[39;00m\n\u001b[1;32m   3628\u001b[0m     \u001b[38;5;28mself\u001b[39m\u001b[38;5;241m.\u001b[39m_check_indexing_error(key)\n",
      "\u001b[0;31mKeyError\u001b[0m: 'emp_no'"
     ]
    },
    {
     "data": {
      "image/png": "[encoded data removed]",
      "text/plain": [
       "<Figure size 432x288 with 1 Axes>"
      ]
     },
     "metadata": {
      "needs_background": "light"
     },
     "output_type": "display_data"
    }
   ],
   "source": [
    "r, p = stats.pearsonr(k.length, k.title)\n",
    "k.plot.scatter(x='length', y='emp_no')\n",
    "print('p=', p)\n",
    "print('r=', r)"
   ]
  },
  {
   "cell_type": "code",
   "execution_count": null,
   "id": "c67372ae",
   "metadata": {},
   "outputs": [],
   "source": [
    "k.groupby('title').mean()"
   ]
  },
  {
   "cell_type": "code",
   "execution_count": null,
   "id": "d1f332ae",
   "metadata": {},
   "outputs": [],
   "source": []
  },
  {
   "cell_type": "markdown",
   "id": "585a351f",
   "metadata": {},
   "source": [
    "# 3"
   ]
  },
  {
   "cell_type": "code",
   "execution_count": null,
   "id": "dc17e175",
   "metadata": {},
   "outputs": [],
   "source": [
    "# Use the sleepstudy data. Is there a relationship between days and reaction time? \n",
    "#Yes, there is a positive correlation"
   ]
  },
  {
   "cell_type": "code",
   "execution_count": null,
   "id": "8e84c809",
   "metadata": {},
   "outputs": [],
   "source": [
    "sleep = data('sleepstudy')"
   ]
  },
  {
   "cell_type": "code",
   "execution_count": null,
   "id": "dabdeeef",
   "metadata": {},
   "outputs": [],
   "source": [
    "data"
   ]
  },
  {
   "cell_type": "code",
   "execution_count": null,
   "id": "762c79b6",
   "metadata": {},
   "outputs": [],
   "source": [
    "data(show_doc = True)"
   ]
  },
  {
   "cell_type": "code",
   "execution_count": null,
   "id": "9476a3c6",
   "metadata": {},
   "outputs": [],
   "source": [
    "sleep"
   ]
  },
  {
   "cell_type": "code",
   "execution_count": null,
   "id": "f440f426",
   "metadata": {},
   "outputs": [],
   "source": [
    "sleep.info()"
   ]
  },
  {
   "cell_type": "code",
   "execution_count": null,
   "id": "9a52ca6b",
   "metadata": {},
   "outputs": [],
   "source": [
    "r, p = stats.pearsonr(sleep.Days, sleep.Reaction)\n",
    "sleep.plot.scatter(x='Days', y='Reaction')\n",
    "print('p=', p)\n",
    "print('r=', r)"
   ]
  },
  {
   "cell_type": "code",
   "execution_count": null,
   "id": "c0803ed0",
   "metadata": {},
   "outputs": [],
   "source": [
    "# Yes, there is a positive correlation"
   ]
  }
 ],
 "metadata": {
  "kernelspec": {
   "display_name": "Python 3 (ipykernel)",
   "language": "python",
   "name": "python3"
  },
  "language_info": {
   "codemirror_mode": {
    "name": "ipython",
    "version": 3
   },
   "file_extension": ".py",
   "mimetype": "text/x-python",
   "name": "python",
   "nbconvert_exporter": "python",
   "pygments_lexer": "ipython3",
   "version": "3.9.12"
  }
 },
 "nbformat": 4,
 "nbformat_minor": 5
}
