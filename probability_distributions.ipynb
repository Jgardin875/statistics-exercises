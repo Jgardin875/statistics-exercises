{
 "cells": [
  {
   "cell_type": "code",
   "execution_count": 1,
   "id": "6b72aa2d",
   "metadata": {},
   "outputs": [],
   "source": [
    "import matplotlib.pyplot as plt\n",
    "import numpy as np\n",
    "import pandas as pd\n",
    "from scipy import stats\n",
    "import env"
   ]
  },
  {
   "cell_type": "markdown",
   "id": "5a45612a",
   "metadata": {},
   "source": [
    "####### A bank found that the average number of cars waiting during the noon hour at a drive-up window follows a Poisson distribution with a mean of 2 cars. Make a chart of this distribution and answer these questions concerning the probability of cars waiting at the drive-up window.\n"
   ]
  },
  {
   "cell_type": "code",
   "execution_count": null,
   "id": "cca70023",
   "metadata": {},
   "outputs": [],
   "source": [
    "## What is the probability that no cars drive up in the noon hour?"
   ]
  },
  {
   "cell_type": "code",
   "execution_count": null,
   "id": "0d9dbef1",
   "metadata": {},
   "outputs": [],
   "source": [
    "λ=2\n",
    "stats.poisson(λ).pmf(0)"
   ]
  },
  {
   "cell_type": "code",
   "execution_count": null,
   "id": "55c373c9",
   "metadata": {},
   "outputs": [],
   "source": [
    "#What is the probability that 3 or more cars come \n",
    "#through the drive through?"
   ]
  },
  {
   "cell_type": "code",
   "execution_count": null,
   "id": "39783791",
   "metadata": {},
   "outputs": [],
   "source": [
    "stats.poisson(λ).sf(2) #not inclusive, so use 2 not 3"
   ]
  },
  {
   "cell_type": "code",
   "execution_count": null,
   "id": "a6f308a5",
   "metadata": {},
   "outputs": [],
   "source": [
    "#How likely is it that the drive through gets at least 1 car?"
   ]
  },
  {
   "cell_type": "code",
   "execution_count": null,
   "id": "b1e1d7b4",
   "metadata": {},
   "outputs": [],
   "source": [
    "stats.poisson(λ).sf(0)"
   ]
  },
  {
   "cell_type": "markdown",
   "id": "dc53e81e",
   "metadata": {},
   "source": [
    "####### Grades of State University graduates are normally distributed with a mean of 3.0 and a standard deviation of .3. Calculate the following:"
   ]
  },
  {
   "cell_type": "code",
   "execution_count": null,
   "id": "fbeebcc3",
   "metadata": {},
   "outputs": [],
   "source": [
    "gpa = stats.norm(3, .3)"
   ]
  },
  {
   "cell_type": "code",
   "execution_count": null,
   "id": "d1c3c2f6",
   "metadata": {},
   "outputs": [],
   "source": [
    "#What grade point average is required to be in the top 5% of the graduating class?\n",
    "gpa.isf(.06) #upper limit is not inclusive"
   ]
  },
  {
   "cell_type": "code",
   "execution_count": null,
   "id": "73c49ee9",
   "metadata": {},
   "outputs": [],
   "source": [
    "#What GPA constitutes the bottom 15% of the class?\n",
    "gpa.ppf(.15) #bottom limit is inclusive"
   ]
  },
  {
   "cell_type": "code",
   "execution_count": null,
   "id": "df5e3059",
   "metadata": {},
   "outputs": [],
   "source": [
    "#An eccentric alumnus left scholarship money for students in the third decile from the bottom of their class. \n",
    "#Determine the range of the third decile. \n",
    "#Would a student with a 2.8 grade point average qualify for this scholarship?\n",
    "gpa.ppf(.3)\n"
   ]
  },
  {
   "cell_type": "code",
   "execution_count": null,
   "id": "0ce2a629",
   "metadata": {},
   "outputs": [],
   "source": [
    "gpa.ppf(.4)"
   ]
  },
  {
   "cell_type": "code",
   "execution_count": null,
   "id": "876f7765",
   "metadata": {},
   "outputs": [],
   "source": [
    "# Range is 2.84 - 2.92 \n",
    "# Yes, a 2.8 will qualify"
   ]
  },
  {
   "cell_type": "code",
   "execution_count": null,
   "id": "58a1eefc",
   "metadata": {
    "scrolled": true
   },
   "outputs": [],
   "source": [
    "#If I have a GPA of 3.5, what percentile am I in?\n",
    "gpa.pdf(3.5)"
   ]
  },
  {
   "cell_type": "markdown",
   "id": "4fc110a1",
   "metadata": {},
   "source": [
    "####### #3 A marketing website has an average click-through rate of 2%. One day they observe 4326 visitors and 97 click-throughs. How likely is it that this many people or more click through?\n"
   ]
  },
  {
   "cell_type": "code",
   "execution_count": null,
   "id": "a3c0d497",
   "metadata": {},
   "outputs": [],
   "source": [
    "obs = 4326\n",
    "p = .02\n",
    "\n",
    "clicks = stats.binom(obs, p)"
   ]
  },
  {
   "cell_type": "code",
   "execution_count": null,
   "id": "9154b21d",
   "metadata": {},
   "outputs": [],
   "source": [
    "clicks.pmf(97)"
   ]
  },
  {
   "cell_type": "code",
   "execution_count": null,
   "id": "dfb776e0",
   "metadata": {},
   "outputs": [],
   "source": []
  },
  {
   "cell_type": "markdown",
   "id": "6cac3140",
   "metadata": {},
   "source": [
    "####### #4 You are working on some statistics homework consisting of 100 questions where all of the answers are a probability rounded to the hundreths place. Looking to save time, you put down random probabilities as the answer to each question.\n",
    "\n",
    "    What is the probability that at least one of your first 60 \n",
    "    answers is correct?\n"
   ]
  },
  {
   "cell_type": "code",
   "execution_count": null,
   "id": "0a2d71c7",
   "metadata": {},
   "outputs": [],
   "source": [
    "#Total possible outcomes for 5 coin flips = 2.2.2.2.2 = 32"
   ]
  },
  {
   "cell_type": "code",
   "execution_count": null,
   "id": "9690a065",
   "metadata": {},
   "outputs": [],
   "source": [
    "#Total possibile outcomes for 4 digits = 10.10.10.10 = 10_000"
   ]
  },
  {
   "cell_type": "code",
   "execution_count": null,
   "id": "2f3358e4",
   "metadata": {},
   "outputs": [],
   "source": [
    "n_questions = 60\n",
    "p = 1/10_000\n",
    "\n",
    "correct = stats.binom(n_questions, p)"
   ]
  },
  {
   "cell_type": "code",
   "execution_count": null,
   "id": "9411cf4e",
   "metadata": {},
   "outputs": [],
   "source": [
    "correct.pmf(1)"
   ]
  },
  {
   "cell_type": "markdown",
   "id": "0d4a7c38",
   "metadata": {},
   "source": [
    "####### #5 Suppose that there's a 3% chance that any one student cleans the break area when they visit it, and, on any given day, about 90% of the 3 active cohorts of 22 students visit the break area. How likely is it that the break area gets cleaned up each day? How likely is it that it goes two days without getting cleaned up? All week?"
   ]
  },
  {
   "cell_type": "code",
   "execution_count": null,
   "id": "ceae775e",
   "metadata": {},
   "outputs": [],
   "source": []
  },
  {
   "cell_type": "code",
   "execution_count": null,
   "id": "d479c61d",
   "metadata": {},
   "outputs": [],
   "source": []
  },
  {
   "cell_type": "code",
   "execution_count": null,
   "id": "54ae253c",
   "metadata": {},
   "outputs": [],
   "source": []
  },
  {
   "cell_type": "code",
   "execution_count": null,
   "id": "bbdfa620",
   "metadata": {},
   "outputs": [],
   "source": []
  },
  {
   "cell_type": "code",
   "execution_count": null,
   "id": "ca0323eb",
   "metadata": {},
   "outputs": [],
   "source": []
  },
  {
   "cell_type": "markdown",
   "id": "421f4c7b",
   "metadata": {},
   "source": [
    "####### #6 You want to get lunch at La Panaderia, but notice that the line is usually very long at lunchtime. After several weeks of careful observation, you notice that the average number of people in line when your lunch break starts is normally distributed with a mean of 15 and standard deviation of 3. If it takes 2 minutes for each person to order, and 10 minutes from ordering to getting your food, what is the likelihood that you have at least 15 minutes left to eat your food before you have to go back to class? Assume you have one hour for lunch, and ignore travel time to and from La Panaderia."
   ]
  },
  {
   "cell_type": "code",
   "execution_count": 33,
   "id": "5341529c",
   "metadata": {},
   "outputs": [],
   "source": [
    "lunch = stats.norm(15, 3) #people"
   ]
  },
  {
   "cell_type": "code",
   "execution_count": 34,
   "id": "468c790a",
   "metadata": {},
   "outputs": [],
   "source": [
    "lt = stats.norm(150, 30) #time in minutes"
   ]
  },
  {
   "cell_type": "code",
   "execution_count": 37,
   "id": "36ba7763",
   "metadata": {},
   "outputs": [
    {
     "data": {
      "text/plain": [
       "0.00018077544840556015"
      ]
     },
     "execution_count": 37,
     "metadata": {},
     "output_type": "execute_result"
    }
   ],
   "source": [
    "lt.cdf(43) #+2 min for initial order when nothing is being made\n",
    "#2+43 = 45"
   ]
  },
  {
   "cell_type": "code",
   "execution_count": null,
   "id": "a19a8bb2",
   "metadata": {},
   "outputs": [],
   "source": [
    "#you gonna be late. or hungry"
   ]
  },
  {
   "cell_type": "code",
   "execution_count": null,
   "id": "6c51bf95",
   "metadata": {},
   "outputs": [],
   "source": []
  },
  {
   "cell_type": "markdown",
   "id": "5e60598c",
   "metadata": {},
   "source": [
    "######## #7 Connect to the employees database and find the average salary of current employees, along with the standard deviation. For the following questions, calculate the answer based on modeling the employees salaries with a normal distribution defined by the calculated mean and standard deviation then compare this answer to the actual values present in the salaries dataset."
   ]
  },
  {
   "cell_type": "code",
   "execution_count": 2,
   "id": "98e0efb7",
   "metadata": {},
   "outputs": [],
   "source": [
    "url = f'mysql+pymysql://{env.user}:{env.password}@{env.host}/employees'"
   ]
  },
  {
   "cell_type": "code",
   "execution_count": 3,
   "id": "ed75d299",
   "metadata": {
    "scrolled": true
   },
   "outputs": [
    {
     "data": {
      "text/html": [
       "<div>\n",
       "<style scoped>\n",
       "    .dataframe tbody tr th:only-of-type {\n",
       "        vertical-align: middle;\n",
       "    }\n",
       "\n",
       "    .dataframe tbody tr th {\n",
       "        vertical-align: top;\n",
       "    }\n",
       "\n",
       "    .dataframe thead th {\n",
       "        text-align: right;\n",
       "    }\n",
       "</style>\n",
       "<table border=\"1\" class=\"dataframe\">\n",
       "  <thead>\n",
       "    <tr style=\"text-align: right;\">\n",
       "      <th></th>\n",
       "      <th>salary</th>\n",
       "      <th>emp_no</th>\n",
       "    </tr>\n",
       "  </thead>\n",
       "  <tbody>\n",
       "    <tr>\n",
       "      <th>0</th>\n",
       "      <td>60117</td>\n",
       "      <td>10001</td>\n",
       "    </tr>\n",
       "    <tr>\n",
       "      <th>1</th>\n",
       "      <td>62102</td>\n",
       "      <td>10001</td>\n",
       "    </tr>\n",
       "    <tr>\n",
       "      <th>2</th>\n",
       "      <td>66074</td>\n",
       "      <td>10001</td>\n",
       "    </tr>\n",
       "    <tr>\n",
       "      <th>3</th>\n",
       "      <td>66596</td>\n",
       "      <td>10001</td>\n",
       "    </tr>\n",
       "    <tr>\n",
       "      <th>4</th>\n",
       "      <td>66961</td>\n",
       "      <td>10001</td>\n",
       "    </tr>\n",
       "  </tbody>\n",
       "</table>\n",
       "</div>"
      ],
      "text/plain": [
       "   salary  emp_no\n",
       "0   60117   10001\n",
       "1   62102   10001\n",
       "2   66074   10001\n",
       "3   66596   10001\n",
       "4   66961   10001"
      ]
     },
     "execution_count": 3,
     "metadata": {},
     "output_type": "execute_result"
    }
   ],
   "source": [
    "query = '''\n",
    "SELECT\n",
    "    s.salary,\n",
    "    e.emp_no\n",
    "FROM employees e\n",
    "JOIN salaries s USING (emp_no)\n",
    "where s.to_date < '9999-01-01'\n",
    "'''\n",
    "\n",
    "sal = pd.read_sql(query, url)\n",
    "sal.head()"
   ]
  },
  {
   "cell_type": "code",
   "execution_count": 4,
   "id": "381b0817",
   "metadata": {},
   "outputs": [
    {
     "data": {
      "text/plain": [
       "(2603923, 2)"
      ]
     },
     "execution_count": 4,
     "metadata": {},
     "output_type": "execute_result"
    }
   ],
   "source": [
    "sal.shape"
   ]
  },
  {
   "cell_type": "code",
   "execution_count": 5,
   "id": "72407006",
   "metadata": {},
   "outputs": [
    {
     "name": "stdout",
     "output_type": "stream",
     "text": [
      "<class 'pandas.core.frame.DataFrame'>\n",
      "RangeIndex: 2603923 entries, 0 to 2603922\n",
      "Data columns (total 2 columns):\n",
      " #   Column  Dtype\n",
      "---  ------  -----\n",
      " 0   salary  int64\n",
      " 1   emp_no  int64\n",
      "dtypes: int64(2)\n",
      "memory usage: 39.7 MB\n"
     ]
    }
   ],
   "source": [
    "sal.info()"
   ]
  },
  {
   "cell_type": "code",
   "execution_count": 6,
   "id": "42daea4c",
   "metadata": {
    "scrolled": false
   },
   "outputs": [
    {
     "data": {
      "text/html": [
       "<div>\n",
       "<style scoped>\n",
       "    .dataframe tbody tr th:only-of-type {\n",
       "        vertical-align: middle;\n",
       "    }\n",
       "\n",
       "    .dataframe tbody tr th {\n",
       "        vertical-align: top;\n",
       "    }\n",
       "\n",
       "    .dataframe thead th {\n",
       "        text-align: right;\n",
       "    }\n",
       "</style>\n",
       "<table border=\"1\" class=\"dataframe\">\n",
       "  <thead>\n",
       "    <tr style=\"text-align: right;\">\n",
       "      <th></th>\n",
       "      <th>salary</th>\n",
       "      <th>emp_no</th>\n",
       "    </tr>\n",
       "  </thead>\n",
       "  <tbody>\n",
       "    <tr>\n",
       "      <th>count</th>\n",
       "      <td>2.603923e+06</td>\n",
       "      <td>2.603923e+06</td>\n",
       "    </tr>\n",
       "    <tr>\n",
       "      <th>mean</th>\n",
       "      <td>6.305443e+04</td>\n",
       "      <td>2.530553e+05</td>\n",
       "    </tr>\n",
       "    <tr>\n",
       "      <th>std</th>\n",
       "      <td>1.666494e+04</td>\n",
       "      <td>1.618440e+05</td>\n",
       "    </tr>\n",
       "    <tr>\n",
       "      <th>min</th>\n",
       "      <td>3.873500e+04</td>\n",
       "      <td>1.000100e+04</td>\n",
       "    </tr>\n",
       "    <tr>\n",
       "      <th>25%</th>\n",
       "      <td>4.989800e+04</td>\n",
       "      <td>8.487800e+04</td>\n",
       "    </tr>\n",
       "    <tr>\n",
       "      <th>50%</th>\n",
       "      <td>6.031100e+04</td>\n",
       "      <td>2.497800e+05</td>\n",
       "    </tr>\n",
       "    <tr>\n",
       "      <th>75%</th>\n",
       "      <td>7.325600e+04</td>\n",
       "      <td>4.249180e+05</td>\n",
       "    </tr>\n",
       "    <tr>\n",
       "      <th>max</th>\n",
       "      <td>1.578210e+05</td>\n",
       "      <td>4.999990e+05</td>\n",
       "    </tr>\n",
       "  </tbody>\n",
       "</table>\n",
       "</div>"
      ],
      "text/plain": [
       "             salary        emp_no\n",
       "count  2.603923e+06  2.603923e+06\n",
       "mean   6.305443e+04  2.530553e+05\n",
       "std    1.666494e+04  1.618440e+05\n",
       "min    3.873500e+04  1.000100e+04\n",
       "25%    4.989800e+04  8.487800e+04\n",
       "50%    6.031100e+04  2.497800e+05\n",
       "75%    7.325600e+04  4.249180e+05\n",
       "max    1.578210e+05  4.999990e+05"
      ]
     },
     "execution_count": 6,
     "metadata": {},
     "output_type": "execute_result"
    }
   ],
   "source": [
    "sal.describe()"
   ]
  },
  {
   "cell_type": "code",
   "execution_count": 7,
   "id": "947dc9ed",
   "metadata": {},
   "outputs": [],
   "source": [
    "sal_prob = stats.norm(63054, 16665) #normal distribution"
   ]
  },
  {
   "cell_type": "code",
   "execution_count": null,
   "id": "f32c9c4e",
   "metadata": {},
   "outputs": [],
   "source": [
    "#What percent of employees earn less than 60,000?"
   ]
  },
  {
   "cell_type": "code",
   "execution_count": 8,
   "id": "24b3c37d",
   "metadata": {},
   "outputs": [
    {
     "data": {
      "text/plain": [
       "0.4272976658809071"
      ]
     },
     "execution_count": 8,
     "metadata": {},
     "output_type": "execute_result"
    }
   ],
   "source": [
    "sal_prob.cdf(60_000)"
   ]
  },
  {
   "cell_type": "code",
   "execution_count": 9,
   "id": "362c37cf",
   "metadata": {},
   "outputs": [],
   "source": [
    "sal['sixty'] = sal.salary < 60_000"
   ]
  },
  {
   "cell_type": "code",
   "execution_count": 10,
   "id": "3dc3877e",
   "metadata": {},
   "outputs": [
    {
     "data": {
      "text/plain": [
       "0.49274152883937045"
      ]
     },
     "execution_count": 10,
     "metadata": {},
     "output_type": "execute_result"
    }
   ],
   "source": [
    "sal.sixty.mean()"
   ]
  },
  {
   "cell_type": "code",
   "execution_count": null,
   "id": "29fcb3e8",
   "metadata": {},
   "outputs": [],
   "source": [
    "#What percent of employees earn more than 95,000?"
   ]
  },
  {
   "cell_type": "code",
   "execution_count": 11,
   "id": "c8bd8c52",
   "metadata": {},
   "outputs": [
    {
     "data": {
      "text/plain": [
       "0.027622034342980075"
      ]
     },
     "execution_count": 11,
     "metadata": {},
     "output_type": "execute_result"
    }
   ],
   "source": [
    "sal_prob.sf(95_000)"
   ]
  },
  {
   "cell_type": "code",
   "execution_count": 12,
   "id": "914709d5",
   "metadata": {},
   "outputs": [],
   "source": [
    "sal['ninety_five'] = sal.salary > 95_000"
   ]
  },
  {
   "cell_type": "code",
   "execution_count": 13,
   "id": "40284a58",
   "metadata": {},
   "outputs": [
    {
     "data": {
      "text/plain": [
       "0.04847877606211858"
      ]
     },
     "execution_count": 13,
     "metadata": {},
     "output_type": "execute_result"
    }
   ],
   "source": [
    "sal.ninety_five.mean()"
   ]
  },
  {
   "cell_type": "code",
   "execution_count": null,
   "id": "217e7b1c",
   "metadata": {},
   "outputs": [],
   "source": [
    "#What percent of employees earn between 65,000 and 80,000?"
   ]
  },
  {
   "cell_type": "code",
   "execution_count": 14,
   "id": "b7d178d5",
   "metadata": {},
   "outputs": [
    {
     "data": {
      "text/plain": [
       "0.29891087824120177"
      ]
     },
     "execution_count": 14,
     "metadata": {},
     "output_type": "execute_result"
    }
   ],
   "source": [
    "sal_prob.cdf(80_000)-sal_prob.cdf(65_000)"
   ]
  },
  {
   "cell_type": "code",
   "execution_count": 16,
   "id": "fbba1095",
   "metadata": {},
   "outputs": [],
   "source": [
    "sal['sf_e'] = (sal.salary > 65_000) & (sal.salary < 80_000)"
   ]
  },
  {
   "cell_type": "code",
   "execution_count": 17,
   "id": "ff84e26e",
   "metadata": {},
   "outputs": [
    {
     "data": {
      "text/plain": [
       "0.23572740054141386"
      ]
     },
     "execution_count": 17,
     "metadata": {},
     "output_type": "execute_result"
    }
   ],
   "source": [
    "sal.sf_e.mean()"
   ]
  },
  {
   "cell_type": "code",
   "execution_count": null,
   "id": "18521df0",
   "metadata": {},
   "outputs": [],
   "source": [
    "#What do the top 5% of employees make?"
   ]
  },
  {
   "cell_type": "code",
   "execution_count": 27,
   "id": "db53063f",
   "metadata": {},
   "outputs": [
    {
     "data": {
      "text/plain": [
       "90465.4856931463"
      ]
     },
     "execution_count": 27,
     "metadata": {},
     "output_type": "execute_result"
    }
   ],
   "source": [
    "sal_prob.isf(.05)"
   ]
  },
  {
   "cell_type": "code",
   "execution_count": 31,
   "id": "fd27cca5",
   "metadata": {},
   "outputs": [
    {
     "data": {
      "text/html": [
       "<div>\n",
       "<style scoped>\n",
       "    .dataframe tbody tr th:only-of-type {\n",
       "        vertical-align: middle;\n",
       "    }\n",
       "\n",
       "    .dataframe tbody tr th {\n",
       "        vertical-align: top;\n",
       "    }\n",
       "\n",
       "    .dataframe thead th {\n",
       "        text-align: right;\n",
       "    }\n",
       "</style>\n",
       "<table border=\"1\" class=\"dataframe\">\n",
       "  <thead>\n",
       "    <tr style=\"text-align: right;\">\n",
       "      <th></th>\n",
       "      <th>salary</th>\n",
       "      <th>emp_no</th>\n",
       "      <th>sixty</th>\n",
       "      <th>ninety_five</th>\n",
       "      <th>sf_e</th>\n",
       "    </tr>\n",
       "  </thead>\n",
       "  <tbody>\n",
       "    <tr>\n",
       "      <th>291737</th>\n",
       "      <td>157821</td>\n",
       "      <td>43624</td>\n",
       "      <td>False</td>\n",
       "      <td>True</td>\n",
       "      <td>False</td>\n",
       "    </tr>\n",
       "    <tr>\n",
       "      <th>863977</th>\n",
       "      <td>155377</td>\n",
       "      <td>109334</td>\n",
       "      <td>False</td>\n",
       "      <td>True</td>\n",
       "      <td>False</td>\n",
       "    </tr>\n",
       "    <tr>\n",
       "      <th>863978</th>\n",
       "      <td>154888</td>\n",
       "      <td>109334</td>\n",
       "      <td>False</td>\n",
       "      <td>True</td>\n",
       "      <td>False</td>\n",
       "    </tr>\n",
       "    <tr>\n",
       "      <th>863976</th>\n",
       "      <td>154885</td>\n",
       "      <td>109334</td>\n",
       "      <td>False</td>\n",
       "      <td>True</td>\n",
       "      <td>False</td>\n",
       "    </tr>\n",
       "    <tr>\n",
       "      <th>1338275</th>\n",
       "      <td>154227</td>\n",
       "      <td>253939</td>\n",
       "      <td>False</td>\n",
       "      <td>True</td>\n",
       "      <td>False</td>\n",
       "    </tr>\n",
       "    <tr>\n",
       "      <th>...</th>\n",
       "      <td>...</td>\n",
       "      <td>...</td>\n",
       "      <td>...</td>\n",
       "      <td>...</td>\n",
       "      <td>...</td>\n",
       "    </tr>\n",
       "    <tr>\n",
       "      <th>1377612</th>\n",
       "      <td>94668</td>\n",
       "      <td>258530</td>\n",
       "      <td>False</td>\n",
       "      <td>False</td>\n",
       "      <td>False</td>\n",
       "    </tr>\n",
       "    <tr>\n",
       "      <th>879260</th>\n",
       "      <td>94668</td>\n",
       "      <td>201027</td>\n",
       "      <td>False</td>\n",
       "      <td>False</td>\n",
       "      <td>False</td>\n",
       "    </tr>\n",
       "    <tr>\n",
       "      <th>930504</th>\n",
       "      <td>94668</td>\n",
       "      <td>206919</td>\n",
       "      <td>False</td>\n",
       "      <td>False</td>\n",
       "      <td>False</td>\n",
       "    </tr>\n",
       "    <tr>\n",
       "      <th>1444925</th>\n",
       "      <td>94668</td>\n",
       "      <td>266206</td>\n",
       "      <td>False</td>\n",
       "      <td>False</td>\n",
       "      <td>False</td>\n",
       "    </tr>\n",
       "    <tr>\n",
       "      <th>745673</th>\n",
       "      <td>94668</td>\n",
       "      <td>95697</td>\n",
       "      <td>False</td>\n",
       "      <td>False</td>\n",
       "      <td>False</td>\n",
       "    </tr>\n",
       "  </tbody>\n",
       "</table>\n",
       "<p>130196 rows × 5 columns</p>\n",
       "</div>"
      ],
      "text/plain": [
       "         salary  emp_no  sixty  ninety_five   sf_e\n",
       "291737   157821   43624  False         True  False\n",
       "863977   155377  109334  False         True  False\n",
       "863978   154888  109334  False         True  False\n",
       "863976   154885  109334  False         True  False\n",
       "1338275  154227  253939  False         True  False\n",
       "...         ...     ...    ...          ...    ...\n",
       "1377612   94668  258530  False        False  False\n",
       "879260    94668  201027  False        False  False\n",
       "930504    94668  206919  False        False  False\n",
       "1444925   94668  266206  False        False  False\n",
       "745673    94668   95697  False        False  False\n",
       "\n",
       "[130196 rows x 5 columns]"
      ]
     },
     "execution_count": 31,
     "metadata": {},
     "output_type": "execute_result"
    }
   ],
   "source": [
    "l = sal.sort_values('salary', ascending = False).head(int(len(sal)*.05))\n",
    "l"
   ]
  },
  {
   "cell_type": "code",
   "execution_count": 32,
   "id": "e745b57c",
   "metadata": {},
   "outputs": [
    {
     "data": {
      "text/plain": [
       "103793.6008402716"
      ]
     },
     "execution_count": 32,
     "metadata": {},
     "output_type": "execute_result"
    }
   ],
   "source": [
    "l.salary.mean()"
   ]
  },
  {
   "cell_type": "code",
   "execution_count": null,
   "id": "ae119e78",
   "metadata": {},
   "outputs": [],
   "source": []
  },
  {
   "cell_type": "code",
   "execution_count": null,
   "id": "f0d28bec",
   "metadata": {},
   "outputs": [],
   "source": []
  }
 ],
 "metadata": {
  "kernelspec": {
   "display_name": "Python 3 (ipykernel)",
   "language": "python",
   "name": "python3"
  },
  "language_info": {
   "codemirror_mode": {
    "name": "ipython",
    "version": 3
   },
   "file_extension": ".py",
   "mimetype": "text/x-python",
   "name": "python",
   "nbconvert_exporter": "python",
   "pygments_lexer": "ipython3",
   "version": "3.9.12"
  }
 },
 "nbformat": 4,
 "nbformat_minor": 5
}
