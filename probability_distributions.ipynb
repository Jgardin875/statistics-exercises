{
 "cells": [
  {
   "cell_type": "code",
   "execution_count": 1,
   "id": "6b72aa2d",
   "metadata": {},
   "outputs": [],
   "source": [
    "import matplotlib.pyplot as plt\n",
    "import numpy as np\n",
    "import pandas as pd\n",
    "from scipy import stats"
   ]
  },
  {
   "cell_type": "markdown",
   "id": "5a45612a",
   "metadata": {},
   "source": [
    "####### A bank found that the average number of cars waiting during the noon hour at a drive-up window follows a Poisson distribution with a mean of 2 cars. Make a chart of this distribution and answer these questions concerning the probability of cars waiting at the drive-up window.\n"
   ]
  },
  {
   "cell_type": "code",
   "execution_count": 2,
   "id": "cca70023",
   "metadata": {},
   "outputs": [],
   "source": [
    "## What is the probability that no cars drive up in the noon hour?"
   ]
  },
  {
   "cell_type": "code",
   "execution_count": 3,
   "id": "0d9dbef1",
   "metadata": {},
   "outputs": [
    {
     "data": {
      "text/plain": [
       "0.1353352832366127"
      ]
     },
     "execution_count": 3,
     "metadata": {},
     "output_type": "execute_result"
    }
   ],
   "source": [
    "λ=2\n",
    "stats.poisson(λ).pmf(0)"
   ]
  },
  {
   "cell_type": "code",
   "execution_count": 4,
   "id": "55c373c9",
   "metadata": {},
   "outputs": [],
   "source": [
    "#What is the probability that 3 or more cars come \n",
    "#through the drive through?"
   ]
  },
  {
   "cell_type": "code",
   "execution_count": 5,
   "id": "39783791",
   "metadata": {},
   "outputs": [
    {
     "data": {
      "text/plain": [
       "0.32332358381693654"
      ]
     },
     "execution_count": 5,
     "metadata": {},
     "output_type": "execute_result"
    }
   ],
   "source": [
    "stats.poisson(λ).sf(2) #not inclusive, so use 2 not 3"
   ]
  },
  {
   "cell_type": "code",
   "execution_count": 6,
   "id": "a6f308a5",
   "metadata": {},
   "outputs": [],
   "source": [
    "#How likely is it that the drive through gets at least 1 car?"
   ]
  },
  {
   "cell_type": "code",
   "execution_count": 7,
   "id": "b1e1d7b4",
   "metadata": {},
   "outputs": [
    {
     "data": {
      "text/plain": [
       "0.8646647167633873"
      ]
     },
     "execution_count": 7,
     "metadata": {},
     "output_type": "execute_result"
    }
   ],
   "source": [
    "stats.poisson(λ).sf(0)"
   ]
  },
  {
   "cell_type": "markdown",
   "id": "dc53e81e",
   "metadata": {},
   "source": [
    "####### Grades of State University graduates are normally distributed with a mean of 3.0 and a standard deviation of .3. Calculate the following:"
   ]
  },
  {
   "cell_type": "code",
   "execution_count": 8,
   "id": "fbeebcc3",
   "metadata": {},
   "outputs": [],
   "source": [
    "gpa = stats.norm(3, .3)"
   ]
  },
  {
   "cell_type": "code",
   "execution_count": 9,
   "id": "d1c3c2f6",
   "metadata": {},
   "outputs": [
    {
     "data": {
      "text/plain": [
       "3.466432078379056"
      ]
     },
     "execution_count": 9,
     "metadata": {},
     "output_type": "execute_result"
    }
   ],
   "source": [
    "#What grade point average is required to be in the top 5% of the graduating class?\n",
    "gpa.isf(.06) #upper limit is not inclusive"
   ]
  },
  {
   "cell_type": "code",
   "execution_count": 10,
   "id": "73c49ee9",
   "metadata": {},
   "outputs": [
    {
     "data": {
      "text/plain": [
       "2.689069983151863"
      ]
     },
     "execution_count": 10,
     "metadata": {},
     "output_type": "execute_result"
    }
   ],
   "source": [
    "#What GPA constitutes the bottom 15% of the class?\n",
    "gpa.ppf(.15) #bottom limit is inclusive"
   ]
  },
  {
   "cell_type": "code",
   "execution_count": 11,
   "id": "df5e3059",
   "metadata": {},
   "outputs": [
    {
     "data": {
      "text/plain": [
       "2.842679846187588"
      ]
     },
     "execution_count": 11,
     "metadata": {},
     "output_type": "execute_result"
    }
   ],
   "source": [
    "#An eccentric alumnus left scholarship money for students in the third decile from the bottom of their class. \n",
    "#Determine the range of the third decile. \n",
    "#Would a student with a 2.8 grade point average qualify for this scholarship?\n",
    "gpa.ppf(.3)\n"
   ]
  },
  {
   "cell_type": "code",
   "execution_count": 12,
   "id": "0ce2a629",
   "metadata": {},
   "outputs": [
    {
     "data": {
      "text/plain": [
       "2.9239958690592602"
      ]
     },
     "execution_count": 12,
     "metadata": {},
     "output_type": "execute_result"
    }
   ],
   "source": [
    "gpa.ppf(.4)"
   ]
  },
  {
   "cell_type": "code",
   "execution_count": 13,
   "id": "876f7765",
   "metadata": {},
   "outputs": [],
   "source": [
    "# Range is 2.84 - 2.92 \n",
    "# Yes, a 2.8 will qualify"
   ]
  },
  {
   "cell_type": "code",
   "execution_count": 14,
   "id": "58a1eefc",
   "metadata": {
    "scrolled": true
   },
   "outputs": [
    {
     "data": {
      "text/plain": [
       "0.3315904626424956"
      ]
     },
     "execution_count": 14,
     "metadata": {},
     "output_type": "execute_result"
    }
   ],
   "source": [
    "#If I have a GPA of 3.5, what percentile am I in?\n",
    "gpa.pdf(3.5)"
   ]
  },
  {
   "cell_type": "markdown",
   "id": "4fc110a1",
   "metadata": {},
   "source": [
    "####### #3 A marketing website has an average click-through rate of 2%. One day they observe 4326 visitors and 97 click-throughs. How likely is it that this many people or more click through?\n"
   ]
  },
  {
   "cell_type": "code",
   "execution_count": 15,
   "id": "a3c0d497",
   "metadata": {},
   "outputs": [],
   "source": [
    "obs = 4326\n",
    "p = .02\n",
    "\n",
    "clicks = stats.binom(obs, p)"
   ]
  },
  {
   "cell_type": "code",
   "execution_count": 21,
   "id": "9154b21d",
   "metadata": {},
   "outputs": [
    {
     "data": {
      "text/plain": [
       "0.021942930454375544"
      ]
     },
     "execution_count": 21,
     "metadata": {},
     "output_type": "execute_result"
    }
   ],
   "source": [
    "clicks.pmf(97)"
   ]
  },
  {
   "cell_type": "code",
   "execution_count": null,
   "id": "7d475e6e",
   "metadata": {},
   "outputs": [],
   "source": []
  },
  {
   "cell_type": "markdown",
   "id": "6cac3140",
   "metadata": {},
   "source": [
    "####### #4 You are working on some statistics homework consisting of 100 questions where all of the answers are a probability rounded to the hundreths place. Looking to save time, you put down random probabilities as the answer to each question.\n",
    "\n",
    "    What is the probability that at least one of your first 60 \n",
    "    answers is correct?\n"
   ]
  },
  {
   "cell_type": "code",
   "execution_count": null,
   "id": "0a2d71c7",
   "metadata": {},
   "outputs": [],
   "source": [
    "#Total possible outcomes for 5 coin flips = 2.2.2.2.2 = 32"
   ]
  },
  {
   "cell_type": "code",
   "execution_count": null,
   "id": "9690a065",
   "metadata": {},
   "outputs": [],
   "source": [
    "#Total possibile outcomes for 4 digits = 10.10.10.10 = 10_000"
   ]
  },
  {
   "cell_type": "code",
   "execution_count": 22,
   "id": "2f3358e4",
   "metadata": {},
   "outputs": [],
   "source": [
    "n_questions = 60\n",
    "p = 1/10_000\n",
    "\n",
    "correct = stats.binom(n_questions, p)"
   ]
  },
  {
   "cell_type": "code",
   "execution_count": 23,
   "id": "9411cf4e",
   "metadata": {},
   "outputs": [
    {
     "data": {
      "text/plain": [
       "0.005964702465218776"
      ]
     },
     "execution_count": 23,
     "metadata": {},
     "output_type": "execute_result"
    }
   ],
   "source": [
    "correct.pmf(1)"
   ]
  },
  {
   "cell_type": "markdown",
   "id": "0d4a7c38",
   "metadata": {},
   "source": [
    "####### #5 Suppose that there's a 3% chance that any one student cleans the break area when they visit it, and, on any given day, about 90% of the 3 active cohorts of 22 students visit the break area. How likely is it that the break area gets cleaned up each day? How likely is it that it goes two days without getting cleaned up? All week?"
   ]
  },
  {
   "cell_type": "code",
   "execution_count": null,
   "id": "6d7d2a70",
   "metadata": {},
   "outputs": [],
   "source": []
  },
  {
   "cell_type": "code",
   "execution_count": null,
   "id": "ceae775e",
   "metadata": {},
   "outputs": [],
   "source": []
  },
  {
   "cell_type": "code",
   "execution_count": null,
   "id": "d479c61d",
   "metadata": {},
   "outputs": [],
   "source": []
  },
  {
   "cell_type": "code",
   "execution_count": null,
   "id": "54ae253c",
   "metadata": {},
   "outputs": [],
   "source": []
  },
  {
   "cell_type": "code",
   "execution_count": null,
   "id": "bbdfa620",
   "metadata": {},
   "outputs": [],
   "source": []
  },
  {
   "cell_type": "code",
   "execution_count": null,
   "id": "ca0323eb",
   "metadata": {},
   "outputs": [],
   "source": []
  },
  {
   "cell_type": "markdown",
   "id": "421f4c7b",
   "metadata": {},
   "source": [
    "####### #6 You want to get lunch at La Panaderia, but notice that the line is usually very long at lunchtime. After several weeks of careful observation, you notice that the average number of people in line when your lunch break starts is normally distributed with a mean of 15 and standard deviation of 3. If it takes 2 minutes for each person to order, and 10 minutes from ordering to getting your food, what is the likelihood that you have at least 15 minutes left to eat your food before you have to go back to class? Assume you have one hour for lunch, and ignore travel time to and from La Panaderia."
   ]
  },
  {
   "cell_type": "code",
   "execution_count": null,
   "id": "5341529c",
   "metadata": {},
   "outputs": [],
   "source": []
  },
  {
   "cell_type": "code",
   "execution_count": null,
   "id": "468c790a",
   "metadata": {},
   "outputs": [],
   "source": []
  },
  {
   "cell_type": "code",
   "execution_count": null,
   "id": "36ba7763",
   "metadata": {},
   "outputs": [],
   "source": []
  },
  {
   "cell_type": "code",
   "execution_count": null,
   "id": "a19a8bb2",
   "metadata": {},
   "outputs": [],
   "source": []
  },
  {
   "cell_type": "code",
   "execution_count": null,
   "id": "6c51bf95",
   "metadata": {},
   "outputs": [],
   "source": []
  },
  {
   "cell_type": "markdown",
   "id": "5e60598c",
   "metadata": {},
   "source": [
    "######## #7 Connect to the employees database and find the average salary of current employees, along with the standard deviation. For the following questions, calculate the answer based on modeling the employees salaries with a normal distribution defined by the calculated mean and standard deviation then compare this answer to the actual values present in the salaries dataset."
   ]
  },
  {
   "cell_type": "code",
   "execution_count": null,
   "id": "98e0efb7",
   "metadata": {},
   "outputs": [],
   "source": []
  },
  {
   "cell_type": "code",
   "execution_count": null,
   "id": "ed75d299",
   "metadata": {},
   "outputs": [],
   "source": []
  },
  {
   "cell_type": "code",
   "execution_count": 16,
   "id": "f32c9c4e",
   "metadata": {},
   "outputs": [],
   "source": [
    "#What percent of employees earn less than 60,000?"
   ]
  },
  {
   "cell_type": "code",
   "execution_count": null,
   "id": "24b3c37d",
   "metadata": {},
   "outputs": [],
   "source": []
  },
  {
   "cell_type": "code",
   "execution_count": null,
   "id": "9ae68cc9",
   "metadata": {},
   "outputs": [],
   "source": []
  },
  {
   "cell_type": "code",
   "execution_count": 17,
   "id": "29fcb3e8",
   "metadata": {},
   "outputs": [],
   "source": [
    "#What percent of employees earn more than 95,000?"
   ]
  },
  {
   "cell_type": "code",
   "execution_count": null,
   "id": "c8bd8c52",
   "metadata": {},
   "outputs": [],
   "source": []
  },
  {
   "cell_type": "code",
   "execution_count": null,
   "id": "914709d5",
   "metadata": {},
   "outputs": [],
   "source": []
  },
  {
   "cell_type": "code",
   "execution_count": null,
   "id": "40284a58",
   "metadata": {},
   "outputs": [],
   "source": []
  },
  {
   "cell_type": "code",
   "execution_count": 18,
   "id": "217e7b1c",
   "metadata": {},
   "outputs": [],
   "source": [
    "#What percent of employees earn between 65,000 and 80,000?"
   ]
  },
  {
   "cell_type": "code",
   "execution_count": null,
   "id": "b7d178d5",
   "metadata": {},
   "outputs": [],
   "source": []
  },
  {
   "cell_type": "code",
   "execution_count": null,
   "id": "a683c797",
   "metadata": {},
   "outputs": [],
   "source": []
  },
  {
   "cell_type": "code",
   "execution_count": null,
   "id": "fbba1095",
   "metadata": {},
   "outputs": [],
   "source": []
  },
  {
   "cell_type": "code",
   "execution_count": null,
   "id": "ff84e26e",
   "metadata": {},
   "outputs": [],
   "source": []
  },
  {
   "cell_type": "code",
   "execution_count": null,
   "id": "8fa57d0e",
   "metadata": {},
   "outputs": [],
   "source": []
  },
  {
   "cell_type": "code",
   "execution_count": null,
   "id": "078580f2",
   "metadata": {},
   "outputs": [],
   "source": []
  },
  {
   "cell_type": "code",
   "execution_count": 19,
   "id": "18521df0",
   "metadata": {},
   "outputs": [],
   "source": [
    "#What do the top 5% of employees make?"
   ]
  },
  {
   "cell_type": "code",
   "execution_count": null,
   "id": "db53063f",
   "metadata": {},
   "outputs": [],
   "source": []
  },
  {
   "cell_type": "code",
   "execution_count": null,
   "id": "fd27cca5",
   "metadata": {},
   "outputs": [],
   "source": []
  },
  {
   "cell_type": "code",
   "execution_count": null,
   "id": "bff3e72a",
   "metadata": {},
   "outputs": [],
   "source": []
  },
  {
   "cell_type": "code",
   "execution_count": null,
   "id": "e745b57c",
   "metadata": {},
   "outputs": [],
   "source": []
  },
  {
   "cell_type": "code",
   "execution_count": null,
   "id": "ae119e78",
   "metadata": {},
   "outputs": [],
   "source": []
  },
  {
   "cell_type": "code",
   "execution_count": null,
   "id": "f0d28bec",
   "metadata": {},
   "outputs": [],
   "source": []
  }
 ],
 "metadata": {
  "kernelspec": {
   "display_name": "Python 3 (ipykernel)",
   "language": "python",
   "name": "python3"
  },
  "language_info": {
   "codemirror_mode": {
    "name": "ipython",
    "version": 3
   },
   "file_extension": ".py",
   "mimetype": "text/x-python",
   "name": "python",
   "nbconvert_exporter": "python",
   "pygments_lexer": "ipython3",
   "version": "3.9.12"
  }
 },
 "nbformat": 4,
 "nbformat_minor": 5
}
