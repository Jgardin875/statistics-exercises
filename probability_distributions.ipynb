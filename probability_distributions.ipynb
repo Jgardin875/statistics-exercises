{
 "cells": [
  {
   "cell_type": "code",
   "execution_count": 2,
   "id": "6b72aa2d",
   "metadata": {},
   "outputs": [],
   "source": [
    "import matplotlib.pyplot as plt\n",
    "import numpy as np\n",
    "import pandas as pd\n",
    "from scipy import stats\n",
    "import env"
   ]
  },
  {
   "cell_type": "markdown",
   "id": "5a45612a",
   "metadata": {},
   "source": [
    "####### A bank found that the average number of cars waiting during the noon hour at a drive-up window follows a Poisson distribution with a mean of 2 cars. Make a chart of this distribution and answer these questions concerning the probability of cars waiting at the drive-up window.\n"
   ]
  },
  {
   "cell_type": "code",
   "execution_count": 3,
   "id": "cca70023",
   "metadata": {},
   "outputs": [],
   "source": [
    "## What is the probability that no cars drive up in the noon hour?"
   ]
  },
  {
   "cell_type": "code",
   "execution_count": 4,
   "id": "0d9dbef1",
   "metadata": {},
   "outputs": [
    {
     "data": {
      "text/plain": [
       "0.1353352832366127"
      ]
     },
     "execution_count": 4,
     "metadata": {},
     "output_type": "execute_result"
    }
   ],
   "source": [
    "λ=2\n",
    "stats.poisson(λ).pmf(0)"
   ]
  },
  {
   "cell_type": "code",
   "execution_count": 5,
   "id": "55c373c9",
   "metadata": {},
   "outputs": [],
   "source": [
    "#What is the probability that 3 or more cars come \n",
    "#through the drive through?"
   ]
  },
  {
   "cell_type": "code",
   "execution_count": 6,
   "id": "39783791",
   "metadata": {},
   "outputs": [
    {
     "data": {
      "text/plain": [
       "0.32332358381693654"
      ]
     },
     "execution_count": 6,
     "metadata": {},
     "output_type": "execute_result"
    }
   ],
   "source": [
    "stats.poisson(λ).sf(2) #not inclusive, so use 2 not 3"
   ]
  },
  {
   "cell_type": "code",
   "execution_count": 7,
   "id": "a6f308a5",
   "metadata": {},
   "outputs": [],
   "source": [
    "#How likely is it that the drive through gets at least 1 car?"
   ]
  },
  {
   "cell_type": "code",
   "execution_count": 8,
   "id": "b1e1d7b4",
   "metadata": {},
   "outputs": [
    {
     "data": {
      "text/plain": [
       "0.8646647167633873"
      ]
     },
     "execution_count": 8,
     "metadata": {},
     "output_type": "execute_result"
    }
   ],
   "source": [
    "stats.poisson(λ).sf(0)"
   ]
  },
  {
   "cell_type": "code",
   "execution_count": 9,
   "id": "9b2c4ef0",
   "metadata": {},
   "outputs": [
    {
     "data": {
      "text/plain": [
       "<BarContainer object of 10 artists>"
      ]
     },
     "execution_count": 9,
     "metadata": {},
     "output_type": "execute_result"
    },
    {
     "data": {
      "image/png": "[encoded data removed]",
      "text/plain": [
       "<Figure size 432x288 with 1 Axes>"
      ]
     },
     "metadata": {
      "needs_background": "light"
     },
     "output_type": "display_data"
    }
   ],
   "source": [
    "x = np.arange(0,10)\n",
    "y = stats.poisson(λ).pmf(x)\n",
    "\n",
    "plt.bar(x,y)"
   ]
  },
  {
   "cell_type": "code",
   "execution_count": 8,
   "id": "c88f7f0c",
   "metadata": {},
   "outputs": [],
   "source": [
    "#class"
   ]
  },
  {
   "cell_type": "code",
   "execution_count": 9,
   "id": "00912bd1",
   "metadata": {},
   "outputs": [],
   "source": [
    "λ=2\n",
    "bankcars = stats.poisson(λ)"
   ]
  },
  {
   "cell_type": "code",
   "execution_count": 10,
   "id": "bcd6f81e",
   "metadata": {},
   "outputs": [
    {
     "data": {
      "text/plain": [
       "<BarContainer object of 10 artists>"
      ]
     },
     "execution_count": 10,
     "metadata": {},
     "output_type": "execute_result"
    },
    {
     "data": {
      "image/png": "[encoded data removed]",
      "text/plain": [
       "<Figure size 432x288 with 1 Axes>"
      ]
     },
     "metadata": {
      "needs_background": "light"
     },
     "output_type": "display_data"
    }
   ],
   "source": [
    "x = np.arange(0,10)\n",
    "y = bankcars.pmf(x)\n",
    "\n",
    "plt.bar(x,y)"
   ]
  },
  {
   "cell_type": "code",
   "execution_count": null,
   "id": "f4c89316",
   "metadata": {},
   "outputs": [],
   "source": []
  },
  {
   "cell_type": "markdown",
   "id": "dc53e81e",
   "metadata": {},
   "source": [
    "####### Grades of State University graduates are normally distributed with a mean of 3.0 and a standard deviation of .3. Calculate the following:"
   ]
  },
  {
   "cell_type": "code",
   "execution_count": 11,
   "id": "fbeebcc3",
   "metadata": {},
   "outputs": [],
   "source": [
    "gpa = stats.norm(3, .3)"
   ]
  },
  {
   "cell_type": "code",
   "execution_count": 12,
   "id": "d1c3c2f6",
   "metadata": {},
   "outputs": [
    {
     "data": {
      "text/plain": [
       "3.466432078379056"
      ]
     },
     "execution_count": 12,
     "metadata": {},
     "output_type": "execute_result"
    }
   ],
   "source": [
    "#What grade point average is required to be in the top 5% of the graduating class?\n",
    "gpa.isf(.06) #upper limit is not inclusive"
   ]
  },
  {
   "cell_type": "code",
   "execution_count": 13,
   "id": "31aab77a",
   "metadata": {},
   "outputs": [
    {
     "data": {
      "text/plain": [
       "3.4934560880854417"
      ]
     },
     "execution_count": 13,
     "metadata": {},
     "output_type": "execute_result"
    }
   ],
   "source": [
    "#or\n",
    "gpa.ppf(.95)"
   ]
  },
  {
   "cell_type": "code",
   "execution_count": 14,
   "id": "73c49ee9",
   "metadata": {},
   "outputs": [
    {
     "data": {
      "text/plain": [
       "2.689069983151863"
      ]
     },
     "execution_count": 14,
     "metadata": {},
     "output_type": "execute_result"
    }
   ],
   "source": [
    "#What GPA constitutes the bottom 15% of the class?\n",
    "gpa.ppf(.15) #bottom limit is inclusive"
   ]
  },
  {
   "cell_type": "code",
   "execution_count": 15,
   "id": "df5e3059",
   "metadata": {},
   "outputs": [
    {
     "data": {
      "text/plain": [
       "2.7475136299281258"
      ]
     },
     "execution_count": 15,
     "metadata": {},
     "output_type": "execute_result"
    }
   ],
   "source": [
    "#An eccentric alumnus left scholarship money for students in the third decile from the bottom of their class. \n",
    "#Determine the range of the third decile. \n",
    "#Would a student with a 2.8 grade point average qualify for this scholarship?\n",
    "gpa.ppf(.2)\n"
   ]
  },
  {
   "cell_type": "code",
   "execution_count": 16,
   "id": "0ce2a629",
   "metadata": {},
   "outputs": [
    {
     "data": {
      "text/plain": [
       "2.842679846187588"
      ]
     },
     "execution_count": 16,
     "metadata": {},
     "output_type": "execute_result"
    }
   ],
   "source": [
    "gpa.ppf(.3)"
   ]
  },
  {
   "cell_type": "code",
   "execution_count": 17,
   "id": "876f7765",
   "metadata": {},
   "outputs": [],
   "source": [
    "# Range is 2.84 - 2.92 \n",
    "# Yes, a 2.8 will qualify"
   ]
  },
  {
   "cell_type": "code",
   "execution_count": 18,
   "id": "58a1eefc",
   "metadata": {
    "scrolled": true
   },
   "outputs": [
    {
     "data": {
      "text/plain": [
       "0.9522096477271853"
      ]
     },
     "execution_count": 18,
     "metadata": {},
     "output_type": "execute_result"
    }
   ],
   "source": [
    "#If I have a GPA of 3.5, what percentile am I in?\n",
    "gpa.cdf(3.5)"
   ]
  },
  {
   "cell_type": "markdown",
   "id": "4fc110a1",
   "metadata": {},
   "source": [
    "####### #3 A marketing website has an average click-through rate of 2%. One day they observe 4326 visitors and 97 click-throughs. How likely is it that this many people or more click through?\n"
   ]
  },
  {
   "cell_type": "code",
   "execution_count": 19,
   "id": "a3c0d497",
   "metadata": {},
   "outputs": [],
   "source": [
    "obs = 4326\n",
    "p = .02\n",
    "\n",
    "clicks = stats.binom(obs, p)"
   ]
  },
  {
   "cell_type": "code",
   "execution_count": 20,
   "id": "9154b21d",
   "metadata": {},
   "outputs": [
    {
     "data": {
      "text/plain": [
       "0.13975823631416448"
      ]
     },
     "execution_count": 20,
     "metadata": {},
     "output_type": "execute_result"
    }
   ],
   "source": [
    "clicks.sf(96) #exclusive function"
   ]
  },
  {
   "cell_type": "code",
   "execution_count": null,
   "id": "dfb776e0",
   "metadata": {},
   "outputs": [],
   "source": []
  },
  {
   "cell_type": "markdown",
   "id": "6cac3140",
   "metadata": {},
   "source": [
    "####### #4 You are working on some statistics homework consisting of 100 questions where all of the answers are a probability rounded to the hundreths place. Looking to save time, you put down random probabilities as the answer to each question.\n",
    "\n",
    "    What is the probability that at least one of your first 60 \n",
    "    answers is correct?\n"
   ]
  },
  {
   "cell_type": "code",
   "execution_count": 21,
   "id": "0a2d71c7",
   "metadata": {},
   "outputs": [],
   "source": [
    "#Total possible outcomes for 5 coin flips = 2.2.2.2.2 = 32"
   ]
  },
  {
   "cell_type": "code",
   "execution_count": 22,
   "id": "9690a065",
   "metadata": {},
   "outputs": [],
   "source": [
    "#Total possibile outcomes for 4 digits = 10.10.10.10 = 10_000"
   ]
  },
  {
   "cell_type": "code",
   "execution_count": 23,
   "id": "2f3358e4",
   "metadata": {},
   "outputs": [],
   "source": [
    "n_questions = 60\n",
    "p = 1/100\n",
    "\n",
    "correct = stats.binom(n_questions, p)"
   ]
  },
  {
   "cell_type": "code",
   "execution_count": 24,
   "id": "9411cf4e",
   "metadata": {},
   "outputs": [
    {
     "data": {
      "text/plain": [
       "0.45284335760923855"
      ]
     },
     "execution_count": 24,
     "metadata": {},
     "output_type": "execute_result"
    }
   ],
   "source": [
    "correct.sf(0)"
   ]
  },
  {
   "cell_type": "markdown",
   "id": "0d4a7c38",
   "metadata": {},
   "source": [
    "####### #5 Suppose that there's a 3% chance that any one student cleans the break area when they visit it, and, on any given day, about 90% of the 3 active cohorts of 22 students visit the break area. How likely is it that the break area gets cleaned up each day? How likely is it that it goes two days without getting cleaned up? All week?"
   ]
  },
  {
   "cell_type": "code",
   "execution_count": 25,
   "id": "ceae775e",
   "metadata": {},
   "outputs": [],
   "source": [
    "cleaning = .03"
   ]
  },
  {
   "cell_type": "code",
   "execution_count": 26,
   "id": "d479c61d",
   "metadata": {},
   "outputs": [
    {
     "data": {
      "text/plain": [
       "59"
      ]
     },
     "execution_count": 26,
     "metadata": {},
     "output_type": "execute_result"
    }
   ],
   "source": [
    "total_stud = int(.9*3*22)\n",
    "total_stud"
   ]
  },
  {
   "cell_type": "code",
   "execution_count": 27,
   "id": "b8965032",
   "metadata": {},
   "outputs": [],
   "source": [
    "clean = stats.binom(total_stud, cleaning)"
   ]
  },
  {
   "cell_type": "code",
   "execution_count": 28,
   "id": "cc1fc036",
   "metadata": {
    "scrolled": true
   },
   "outputs": [
    {
     "data": {
      "text/plain": [
       "0.8342199288437352"
      ]
     },
     "execution_count": 28,
     "metadata": {},
     "output_type": "execute_result"
    }
   ],
   "source": [
    "clean.sf(0)"
   ]
  },
  {
   "cell_type": "code",
   "execution_count": 29,
   "id": "7faf0e9d",
   "metadata": {},
   "outputs": [],
   "source": [
    "clean = stats.binom((2*total_stud), cleaning)"
   ]
  },
  {
   "cell_type": "code",
   "execution_count": 30,
   "id": "37241d1d",
   "metadata": {},
   "outputs": [
    {
     "data": {
      "text/plain": [
       "0.027483031992576134"
      ]
     },
     "execution_count": 30,
     "metadata": {},
     "output_type": "execute_result"
    }
   ],
   "source": [
    "clean.pmf(0)"
   ]
  },
  {
   "cell_type": "code",
   "execution_count": 31,
   "id": "addf3fab",
   "metadata": {},
   "outputs": [],
   "source": [
    "clean = stats.binom((5*total_stud), cleaning) #assuming 5 work days"
   ]
  },
  {
   "cell_type": "code",
   "execution_count": 32,
   "id": "f3361dde",
   "metadata": {},
   "outputs": [
    {
     "data": {
      "text/plain": [
       "0.00012521651388091245"
      ]
     },
     "execution_count": 32,
     "metadata": {},
     "output_type": "execute_result"
    }
   ],
   "source": [
    "clean.pmf(0)"
   ]
  },
  {
   "cell_type": "code",
   "execution_count": null,
   "id": "7717d3c2",
   "metadata": {},
   "outputs": [],
   "source": []
  },
  {
   "cell_type": "markdown",
   "id": "421f4c7b",
   "metadata": {},
   "source": [
    "####### #6 You want to get lunch at La Panaderia, but notice that the line is usually very long at lunchtime. After several weeks of careful observation, you notice that the average number of people in line when your lunch break starts is normally distributed with a mean of 15 and standard deviation of 3. If it takes 2 minutes for each person to order, and 10 minutes from ordering to getting your food, what is the likelihood that you have at least 15 minutes left to eat your food before you have to go back to class? Assume you have one hour for lunch, and ignore travel time to and from La Panaderia."
   ]
  },
  {
   "cell_type": "code",
   "execution_count": 33,
   "id": "5341529c",
   "metadata": {},
   "outputs": [],
   "source": [
    "lunch = stats.norm(15, 3) #people\n",
    "#assumption: two person team. One person taking orders, the other makeing them"
   ]
  },
  {
   "cell_type": "code",
   "execution_count": 34,
   "id": "468c790a",
   "metadata": {},
   "outputs": [],
   "source": [
    "lt = stats.norm(150, 30) #time in minutes "
   ]
  },
  {
   "cell_type": "code",
   "execution_count": 35,
   "id": "36ba7763",
   "metadata": {},
   "outputs": [
    {
     "data": {
      "text/plain": [
       "0.00018077544840556015"
      ]
     },
     "execution_count": 35,
     "metadata": {},
     "output_type": "execute_result"
    }
   ],
   "source": [
    "lt.cdf(43) #+2 min for initial order when nothing is being made\n",
    "#2+43 = 45\n",
    "#assumption: two person team. One person taking orders, the other makeing them"
   ]
  },
  {
   "cell_type": "code",
   "execution_count": 36,
   "id": "a19a8bb2",
   "metadata": {},
   "outputs": [],
   "source": [
    "#you gonna be late. or hungry"
   ]
  },
  {
   "cell_type": "code",
   "execution_count": 37,
   "id": "6c51bf95",
   "metadata": {},
   "outputs": [],
   "source": [
    "#one person team\n",
    "# 15 people x 12 min each = 180 += 36 min\n",
    "lunch = stats.norm(180, 36)"
   ]
  },
  {
   "cell_type": "code",
   "execution_count": 38,
   "id": "e1f6c4e6",
   "metadata": {},
   "outputs": [
    {
     "data": {
      "text/plain": [
       "0.00023262907903552502"
      ]
     },
     "execution_count": 38,
     "metadata": {},
     "output_type": "execute_result"
    }
   ],
   "source": [
    "lt.cdf(45)"
   ]
  },
  {
   "cell_type": "code",
   "execution_count": 39,
   "id": "f37dc632",
   "metadata": {},
   "outputs": [],
   "source": [
    "#class"
   ]
  },
  {
   "cell_type": "code",
   "execution_count": 40,
   "id": "d86a62d2",
   "metadata": {},
   "outputs": [
    {
     "data": {
      "text/plain": [
       "0.6305586598182363"
      ]
     },
     "execution_count": 40,
     "metadata": {},
     "output_type": "execute_result"
    }
   ],
   "source": [
    "stats.norm(15, 3).cdf(16) #he did it by people and with different assumptions"
   ]
  },
  {
   "cell_type": "code",
   "execution_count": null,
   "id": "8ebcd654",
   "metadata": {},
   "outputs": [],
   "source": []
  },
  {
   "cell_type": "markdown",
   "id": "5e60598c",
   "metadata": {},
   "source": [
    "######## #7 Connect to the employees database and find the average salary of current employees, along with the standard deviation. For the following questions, calculate the answer based on modeling the employees salaries with a normal distribution defined by the calculated mean and standard deviation then compare this answer to the actual values present in the salaries dataset."
   ]
  },
  {
   "cell_type": "code",
   "execution_count": null,
   "id": "7cb44830",
   "metadata": {},
   "outputs": [],
   "source": []
  },
  {
   "cell_type": "code",
   "execution_count": 41,
   "id": "98e0efb7",
   "metadata": {},
   "outputs": [],
   "source": [
    "url = f'mysql+pymysql://{env.user}:{env.password}@{env.host}/employees'"
   ]
  },
  {
   "cell_type": "code",
   "execution_count": 42,
   "id": "ed75d299",
   "metadata": {
    "scrolled": true
   },
   "outputs": [
    {
     "data": {
      "text/html": [
       "<div>\n",
       "<style scoped>\n",
       "    .dataframe tbody tr th:only-of-type {\n",
       "        vertical-align: middle;\n",
       "    }\n",
       "\n",
       "    .dataframe tbody tr th {\n",
       "        vertical-align: top;\n",
       "    }\n",
       "\n",
       "    .dataframe thead th {\n",
       "        text-align: right;\n",
       "    }\n",
       "</style>\n",
       "<table border=\"1\" class=\"dataframe\">\n",
       "  <thead>\n",
       "    <tr style=\"text-align: right;\">\n",
       "      <th></th>\n",
       "      <th>salary</th>\n",
       "      <th>emp_no</th>\n",
       "    </tr>\n",
       "  </thead>\n",
       "  <tbody>\n",
       "    <tr>\n",
       "      <th>0</th>\n",
       "      <td>88958</td>\n",
       "      <td>10001</td>\n",
       "    </tr>\n",
       "    <tr>\n",
       "      <th>1</th>\n",
       "      <td>72527</td>\n",
       "      <td>10002</td>\n",
       "    </tr>\n",
       "    <tr>\n",
       "      <th>2</th>\n",
       "      <td>43311</td>\n",
       "      <td>10003</td>\n",
       "    </tr>\n",
       "    <tr>\n",
       "      <th>3</th>\n",
       "      <td>74057</td>\n",
       "      <td>10004</td>\n",
       "    </tr>\n",
       "    <tr>\n",
       "      <th>4</th>\n",
       "      <td>94692</td>\n",
       "      <td>10005</td>\n",
       "    </tr>\n",
       "  </tbody>\n",
       "</table>\n",
       "</div>"
      ],
      "text/plain": [
       "   salary  emp_no\n",
       "0   88958   10001\n",
       "1   72527   10002\n",
       "2   43311   10003\n",
       "3   74057   10004\n",
       "4   94692   10005"
      ]
     },
     "execution_count": 42,
     "metadata": {},
     "output_type": "execute_result"
    }
   ],
   "source": [
    "query = '''\n",
    "SELECT\n",
    "    s.salary,\n",
    "    e.emp_no\n",
    "FROM employees e\n",
    "JOIN salaries s USING (emp_no)\n",
    "WHERE s.to_date > NOW()\n",
    "'''\n",
    "\n",
    "sal = pd.read_sql(query, url)\n",
    "sal.head()"
   ]
  },
  {
   "cell_type": "code",
   "execution_count": 43,
   "id": "381b0817",
   "metadata": {},
   "outputs": [
    {
     "data": {
      "text/plain": [
       "(240124, 2)"
      ]
     },
     "execution_count": 43,
     "metadata": {},
     "output_type": "execute_result"
    }
   ],
   "source": [
    "sal.shape"
   ]
  },
  {
   "cell_type": "code",
   "execution_count": 44,
   "id": "72407006",
   "metadata": {},
   "outputs": [
    {
     "name": "stdout",
     "output_type": "stream",
     "text": [
      "<class 'pandas.core.frame.DataFrame'>\n",
      "RangeIndex: 240124 entries, 0 to 240123\n",
      "Data columns (total 2 columns):\n",
      " #   Column  Non-Null Count   Dtype\n",
      "---  ------  --------------   -----\n",
      " 0   salary  240124 non-null  int64\n",
      " 1   emp_no  240124 non-null  int64\n",
      "dtypes: int64(2)\n",
      "memory usage: 3.7 MB\n"
     ]
    }
   ],
   "source": [
    "sal.info()"
   ]
  },
  {
   "cell_type": "code",
   "execution_count": 45,
   "id": "42daea4c",
   "metadata": {
    "scrolled": false
   },
   "outputs": [
    {
     "data": {
      "text/html": [
       "<div>\n",
       "<style scoped>\n",
       "    .dataframe tbody tr th:only-of-type {\n",
       "        vertical-align: middle;\n",
       "    }\n",
       "\n",
       "    .dataframe tbody tr th {\n",
       "        vertical-align: top;\n",
       "    }\n",
       "\n",
       "    .dataframe thead th {\n",
       "        text-align: right;\n",
       "    }\n",
       "</style>\n",
       "<table border=\"1\" class=\"dataframe\">\n",
       "  <thead>\n",
       "    <tr style=\"text-align: right;\">\n",
       "      <th></th>\n",
       "      <th>salary</th>\n",
       "      <th>emp_no</th>\n",
       "    </tr>\n",
       "  </thead>\n",
       "  <tbody>\n",
       "    <tr>\n",
       "      <th>count</th>\n",
       "      <td>240124.000000</td>\n",
       "      <td>240124.000000</td>\n",
       "    </tr>\n",
       "    <tr>\n",
       "      <th>mean</th>\n",
       "      <td>72012.235857</td>\n",
       "      <td>253080.615365</td>\n",
       "    </tr>\n",
       "    <tr>\n",
       "      <th>std</th>\n",
       "      <td>17309.995380</td>\n",
       "      <td>161853.087323</td>\n",
       "    </tr>\n",
       "    <tr>\n",
       "      <th>min</th>\n",
       "      <td>38623.000000</td>\n",
       "      <td>10001.000000</td>\n",
       "    </tr>\n",
       "    <tr>\n",
       "      <th>25%</th>\n",
       "      <td>59048.750000</td>\n",
       "      <td>84878.750000</td>\n",
       "    </tr>\n",
       "    <tr>\n",
       "      <th>50%</th>\n",
       "      <td>69805.000000</td>\n",
       "      <td>249792.500000</td>\n",
       "    </tr>\n",
       "    <tr>\n",
       "      <th>75%</th>\n",
       "      <td>82546.000000</td>\n",
       "      <td>424895.250000</td>\n",
       "    </tr>\n",
       "    <tr>\n",
       "      <th>max</th>\n",
       "      <td>158220.000000</td>\n",
       "      <td>499999.000000</td>\n",
       "    </tr>\n",
       "  </tbody>\n",
       "</table>\n",
       "</div>"
      ],
      "text/plain": [
       "              salary         emp_no\n",
       "count  240124.000000  240124.000000\n",
       "mean    72012.235857  253080.615365\n",
       "std     17309.995380  161853.087323\n",
       "min     38623.000000   10001.000000\n",
       "25%     59048.750000   84878.750000\n",
       "50%     69805.000000  249792.500000\n",
       "75%     82546.000000  424895.250000\n",
       "max    158220.000000  499999.000000"
      ]
     },
     "execution_count": 45,
     "metadata": {},
     "output_type": "execute_result"
    }
   ],
   "source": [
    "sal.describe()"
   ]
  },
  {
   "cell_type": "code",
   "execution_count": 46,
   "id": "947dc9ed",
   "metadata": {},
   "outputs": [],
   "source": [
    "sal_prob = stats.norm(72012, 17309) #normal distribution"
   ]
  },
  {
   "cell_type": "code",
   "execution_count": 47,
   "id": "f32c9c4e",
   "metadata": {},
   "outputs": [],
   "source": [
    "#What percent of employees earn less than 60,000?"
   ]
  },
  {
   "cell_type": "code",
   "execution_count": 48,
   "id": "24b3c37d",
   "metadata": {},
   "outputs": [
    {
     "data": {
      "text/plain": [
       "0.2438491840795911"
      ]
     },
     "execution_count": 48,
     "metadata": {},
     "output_type": "execute_result"
    }
   ],
   "source": [
    "sal_prob.cdf(60_000)"
   ]
  },
  {
   "cell_type": "code",
   "execution_count": 49,
   "id": "362c37cf",
   "metadata": {},
   "outputs": [],
   "source": [
    "sal['sixty'] = sal.salary < 60_000"
   ]
  },
  {
   "cell_type": "code",
   "execution_count": 50,
   "id": "3dc3877e",
   "metadata": {},
   "outputs": [
    {
     "data": {
      "text/plain": [
       "0.2705727041028802"
      ]
     },
     "execution_count": 50,
     "metadata": {},
     "output_type": "execute_result"
    }
   ],
   "source": [
    "sal.sixty.mean()"
   ]
  },
  {
   "cell_type": "code",
   "execution_count": 51,
   "id": "29fcb3e8",
   "metadata": {},
   "outputs": [],
   "source": [
    "#What percent of employees earn more than 95,000?"
   ]
  },
  {
   "cell_type": "code",
   "execution_count": 52,
   "id": "c8bd8c52",
   "metadata": {},
   "outputs": [
    {
     "data": {
      "text/plain": [
       "0.09207332774098781"
      ]
     },
     "execution_count": 52,
     "metadata": {},
     "output_type": "execute_result"
    }
   ],
   "source": [
    "sal_prob.sf(95_000)"
   ]
  },
  {
   "cell_type": "code",
   "execution_count": 53,
   "id": "914709d5",
   "metadata": {},
   "outputs": [],
   "source": [
    "sal['ninety_five'] = sal.salary > 95_000"
   ]
  },
  {
   "cell_type": "code",
   "execution_count": 54,
   "id": "40284a58",
   "metadata": {},
   "outputs": [
    {
     "data": {
      "text/plain": [
       "0.1086272092752078"
      ]
     },
     "execution_count": 54,
     "metadata": {},
     "output_type": "execute_result"
    }
   ],
   "source": [
    "sal.ninety_five.mean()"
   ]
  },
  {
   "cell_type": "code",
   "execution_count": 55,
   "id": "217e7b1c",
   "metadata": {},
   "outputs": [],
   "source": [
    "#What percent of employees earn between 65,000 and 80,000?"
   ]
  },
  {
   "cell_type": "code",
   "execution_count": 56,
   "id": "57d9ebda",
   "metadata": {},
   "outputs": [],
   "source": [
    "#class\n",
    "# np.diff(sal.cdf([65000, 80000]))"
   ]
  },
  {
   "cell_type": "code",
   "execution_count": 57,
   "id": "b7d178d5",
   "metadata": {},
   "outputs": [
    {
     "data": {
      "text/plain": [
       "0.33507852649679154"
      ]
     },
     "execution_count": 57,
     "metadata": {},
     "output_type": "execute_result"
    }
   ],
   "source": [
    "sal_prob.cdf(80_000)-sal_prob.cdf(65_000)"
   ]
  },
  {
   "cell_type": "code",
   "execution_count": 58,
   "id": "fbba1095",
   "metadata": {},
   "outputs": [],
   "source": [
    "sal['sf_e'] = (sal.salary > 65_000) & (sal.salary < 80_000)"
   ]
  },
  {
   "cell_type": "code",
   "execution_count": 59,
   "id": "ff84e26e",
   "metadata": {},
   "outputs": [
    {
     "data": {
      "text/plain": [
       "0.325107028035515"
      ]
     },
     "execution_count": 59,
     "metadata": {},
     "output_type": "execute_result"
    }
   ],
   "source": [
    "sal.sf_e.mean()"
   ]
  },
  {
   "cell_type": "code",
   "execution_count": 60,
   "id": "18521df0",
   "metadata": {},
   "outputs": [],
   "source": [
    "#What do the top 5% of employees make?"
   ]
  },
  {
   "cell_type": "code",
   "execution_count": 61,
   "id": "db53063f",
   "metadata": {},
   "outputs": [
    {
     "data": {
      "text/plain": [
       "100482.77142890304"
      ]
     },
     "execution_count": 61,
     "metadata": {},
     "output_type": "execute_result"
    }
   ],
   "source": [
    "sal_prob.isf(.05)"
   ]
  },
  {
   "cell_type": "code",
   "execution_count": 62,
   "id": "fd27cca5",
   "metadata": {},
   "outputs": [
    {
     "data": {
      "text/html": [
       "<div>\n",
       "<style scoped>\n",
       "    .dataframe tbody tr th:only-of-type {\n",
       "        vertical-align: middle;\n",
       "    }\n",
       "\n",
       "    .dataframe tbody tr th {\n",
       "        vertical-align: top;\n",
       "    }\n",
       "\n",
       "    .dataframe thead th {\n",
       "        text-align: right;\n",
       "    }\n",
       "</style>\n",
       "<table border=\"1\" class=\"dataframe\">\n",
       "  <thead>\n",
       "    <tr style=\"text-align: right;\">\n",
       "      <th></th>\n",
       "      <th>salary</th>\n",
       "      <th>emp_no</th>\n",
       "      <th>sixty</th>\n",
       "      <th>ninety_five</th>\n",
       "      <th>sf_e</th>\n",
       "    </tr>\n",
       "  </thead>\n",
       "  <tbody>\n",
       "    <tr>\n",
       "      <th>26990</th>\n",
       "      <td>158220</td>\n",
       "      <td>43624</td>\n",
       "      <td>False</td>\n",
       "      <td>True</td>\n",
       "      <td>False</td>\n",
       "    </tr>\n",
       "    <tr>\n",
       "      <th>123787</th>\n",
       "      <td>156286</td>\n",
       "      <td>254466</td>\n",
       "      <td>False</td>\n",
       "      <td>True</td>\n",
       "      <td>False</td>\n",
       "    </tr>\n",
       "    <tr>\n",
       "      <th>30486</th>\n",
       "      <td>155709</td>\n",
       "      <td>47978</td>\n",
       "      <td>False</td>\n",
       "      <td>True</td>\n",
       "      <td>False</td>\n",
       "    </tr>\n",
       "    <tr>\n",
       "      <th>123369</th>\n",
       "      <td>155513</td>\n",
       "      <td>253939</td>\n",
       "      <td>False</td>\n",
       "      <td>True</td>\n",
       "      <td>False</td>\n",
       "    </tr>\n",
       "    <tr>\n",
       "      <th>79658</th>\n",
       "      <td>155190</td>\n",
       "      <td>109334</td>\n",
       "      <td>False</td>\n",
       "      <td>True</td>\n",
       "      <td>False</td>\n",
       "    </tr>\n",
       "    <tr>\n",
       "      <th>...</th>\n",
       "      <td>...</td>\n",
       "      <td>...</td>\n",
       "      <td>...</td>\n",
       "      <td>...</td>\n",
       "      <td>...</td>\n",
       "    </tr>\n",
       "    <tr>\n",
       "      <th>140336</th>\n",
       "      <td>104232</td>\n",
       "      <td>275165</td>\n",
       "      <td>False</td>\n",
       "      <td>True</td>\n",
       "      <td>False</td>\n",
       "    </tr>\n",
       "    <tr>\n",
       "      <th>167510</th>\n",
       "      <td>104230</td>\n",
       "      <td>409170</td>\n",
       "      <td>False</td>\n",
       "      <td>True</td>\n",
       "      <td>False</td>\n",
       "    </tr>\n",
       "    <tr>\n",
       "      <th>33075</th>\n",
       "      <td>104229</td>\n",
       "      <td>51196</td>\n",
       "      <td>False</td>\n",
       "      <td>True</td>\n",
       "      <td>False</td>\n",
       "    </tr>\n",
       "    <tr>\n",
       "      <th>50047</th>\n",
       "      <td>104229</td>\n",
       "      <td>72377</td>\n",
       "      <td>False</td>\n",
       "      <td>True</td>\n",
       "      <td>False</td>\n",
       "    </tr>\n",
       "    <tr>\n",
       "      <th>86888</th>\n",
       "      <td>104228</td>\n",
       "      <td>208337</td>\n",
       "      <td>False</td>\n",
       "      <td>True</td>\n",
       "      <td>False</td>\n",
       "    </tr>\n",
       "  </tbody>\n",
       "</table>\n",
       "<p>12006 rows × 5 columns</p>\n",
       "</div>"
      ],
      "text/plain": [
       "        salary  emp_no  sixty  ninety_five   sf_e\n",
       "26990   158220   43624  False         True  False\n",
       "123787  156286  254466  False         True  False\n",
       "30486   155709   47978  False         True  False\n",
       "123369  155513  253939  False         True  False\n",
       "79658   155190  109334  False         True  False\n",
       "...        ...     ...    ...          ...    ...\n",
       "140336  104232  275165  False         True  False\n",
       "167510  104230  409170  False         True  False\n",
       "33075   104229   51196  False         True  False\n",
       "50047   104229   72377  False         True  False\n",
       "86888   104228  208337  False         True  False\n",
       "\n",
       "[12006 rows x 5 columns]"
      ]
     },
     "execution_count": 62,
     "metadata": {},
     "output_type": "execute_result"
    }
   ],
   "source": [
    "l = sal.sort_values('salary', ascending = False).head(int(len(sal)*.05))\n",
    "l"
   ]
  },
  {
   "cell_type": "code",
   "execution_count": 63,
   "id": "e745b57c",
   "metadata": {},
   "outputs": [
    {
     "data": {
      "text/plain": [
       "113408.81750791271"
      ]
     },
     "execution_count": 63,
     "metadata": {},
     "output_type": "execute_result"
    }
   ],
   "source": [
    "l.salary.mean()"
   ]
  },
  {
   "cell_type": "code",
   "execution_count": null,
   "id": "ae119e78",
   "metadata": {},
   "outputs": [],
   "source": []
  },
  {
   "cell_type": "code",
   "execution_count": null,
   "id": "f0d28bec",
   "metadata": {},
   "outputs": [],
   "source": []
  }
 ],
 "metadata": {
  "kernelspec": {
   "display_name": "Python 3 (ipykernel)",
   "language": "python",
   "name": "python3"
  },
  "language_info": {
   "codemirror_mode": {
    "name": "ipython",
    "version": 3
   },
   "file_extension": ".py",
   "mimetype": "text/x-python",
   "name": "python",
   "nbconvert_exporter": "python",
   "pygments_lexer": "ipython3",
   "version": "3.9.12"
  }
 },
 "nbformat": 4,
 "nbformat_minor": 5
}
