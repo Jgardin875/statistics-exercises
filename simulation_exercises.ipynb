{
 "cells": [
  {
   "cell_type": "code",
   "execution_count": 2,
   "id": "45a84d2c",
   "metadata": {},
   "outputs": [],
   "source": [
    "import numpy as np\n",
    "import pandas as pd\n",
    "import matplotlib.pyplot as plt\n",
    "import math as m"
   ]
  },
  {
   "cell_type": "markdown",
   "id": "0cd4d540",
   "metadata": {},
   "source": [
    "## 1. How likely is it that you roll doubles when rolling two dice?"
   ]
  },
  {
   "cell_type": "code",
   "execution_count": 2,
   "id": "9326e692",
   "metadata": {},
   "outputs": [],
   "source": [
    "\n",
    "#theoretical: \n",
    "#6x6=36 combinations 6 sets of pairs 6/36 = 1/6 = 0.166\n"
   ]
  },
  {
   "cell_type": "code",
   "execution_count": 128,
   "id": "22434c4a",
   "metadata": {
    "scrolled": false
   },
   "outputs": [
    {
     "data": {
      "text/plain": [
       "array([[6, 1],\n",
       "       [6, 6],\n",
       "       [3, 4],\n",
       "       ...,\n",
       "       [3, 5],\n",
       "       [3, 3],\n",
       "       [3, 3]])"
      ]
     },
     "execution_count": 128,
     "metadata": {},
     "output_type": "execute_result"
    }
   ],
   "source": [
    "doubles = np.random.choice([1, 2, 3, 4, 5, 6], size = (10_000_000, 2))\n",
    "doubles"
   ]
  },
  {
   "cell_type": "code",
   "execution_count": 129,
   "id": "93bc2fd3",
   "metadata": {},
   "outputs": [],
   "source": [
    "db = pd.DataFrame(doubles)"
   ]
  },
  {
   "cell_type": "code",
   "execution_count": 130,
   "id": "62274510",
   "metadata": {
    "scrolled": true
   },
   "outputs": [],
   "source": [
    "db['double'] = (db[0] == db[1])"
   ]
  },
  {
   "cell_type": "code",
   "execution_count": 131,
   "id": "dd3b990c",
   "metadata": {},
   "outputs": [
    {
     "data": {
      "text/plain": [
       "0.1668081"
      ]
     },
     "execution_count": 131,
     "metadata": {},
     "output_type": "execute_result"
    }
   ],
   "source": [
    "db.double.mean()"
   ]
  },
  {
   "cell_type": "code",
   "execution_count": 132,
   "id": "42fa8a91",
   "metadata": {},
   "outputs": [],
   "source": [
    "#it matches theoretical YAYY!"
   ]
  },
  {
   "cell_type": "markdown",
   "id": "94a85215",
   "metadata": {},
   "source": [
    "##### Second method , take some time"
   ]
  },
  {
   "cell_type": "code",
   "execution_count": 134,
   "id": "1842d7b2",
   "metadata": {
    "scrolled": true
   },
   "outputs": [
    {
     "data": {
      "text/plain": [
       "0.1668081"
      ]
     },
     "execution_count": 134,
     "metadata": {},
     "output_type": "execute_result"
    }
   ],
   "source": [
    "db.apply(lambda row: row[0] == row[1], axis =1).mean()"
   ]
  },
  {
   "cell_type": "code",
   "execution_count": null,
   "id": "23387f40",
   "metadata": {},
   "outputs": [],
   "source": []
  },
  {
   "cell_type": "markdown",
   "id": "358d1855",
   "metadata": {},
   "source": [
    "# Class"
   ]
  },
  {
   "cell_type": "code",
   "execution_count": 155,
   "id": "ce4f9fd4",
   "metadata": {},
   "outputs": [],
   "source": [
    "rolls = np.random.choice([1, 2, 3, 4, 5, 6], size = (10_000, 2))"
   ]
  },
  {
   "cell_type": "code",
   "execution_count": 157,
   "id": "47e84f7e",
   "metadata": {},
   "outputs": [
    {
     "data": {
      "text/plain": [
       "0.1662"
      ]
     },
     "execution_count": 157,
     "metadata": {},
     "output_type": "execute_result"
    }
   ],
   "source": [
    "(rolls[:,0]==rolls[:,1]).mean() #slice and compare"
   ]
  },
  {
   "cell_type": "code",
   "execution_count": 158,
   "id": "98361dd9",
   "metadata": {},
   "outputs": [],
   "source": [
    "rolls1 = np.random.choice([1, 2, 3, 4, 5, 6], size = (10_000, 1))\n",
    "rolls2 = np.random.choice([1, 2, 3, 4, 5, 6], size = (10_000, 1))"
   ]
  },
  {
   "cell_type": "code",
   "execution_count": 160,
   "id": "6af355d1",
   "metadata": {},
   "outputs": [
    {
     "data": {
      "text/plain": [
       "0.1677"
      ]
     },
     "execution_count": 160,
     "metadata": {},
     "output_type": "execute_result"
    }
   ],
   "source": [
    "(rolls1==rolls2).mean()"
   ]
  },
  {
   "cell_type": "code",
   "execution_count": null,
   "id": "719ee061",
   "metadata": {},
   "outputs": [],
   "source": []
  },
  {
   "cell_type": "code",
   "execution_count": null,
   "id": "6ea34840",
   "metadata": {},
   "outputs": [],
   "source": []
  },
  {
   "cell_type": "code",
   "execution_count": null,
   "id": "e03784cb",
   "metadata": {},
   "outputs": [],
   "source": []
  },
  {
   "cell_type": "code",
   "execution_count": null,
   "id": "4960ba35",
   "metadata": {},
   "outputs": [],
   "source": []
  },
  {
   "cell_type": "markdown",
   "id": "bdca19a4",
   "metadata": {},
   "source": [
    "## #2 If you flip 8 coins, what is the probability of getting exactly 3 heads? \n",
    "## What is the probability of getting more than 3 heads?\n"
   ]
  },
  {
   "cell_type": "code",
   "execution_count": 8,
   "id": "23cb9465",
   "metadata": {},
   "outputs": [],
   "source": [
    "coin = np.random.choice(['tail', 'head'], size = (1000000, 8))\n",
    "cf = pd.DataFrame(coin)"
   ]
  },
  {
   "cell_type": "code",
   "execution_count": 9,
   "id": "ffad9eb8",
   "metadata": {
    "scrolled": true
   },
   "outputs": [],
   "source": [
    "cft = (cf == 'head')"
   ]
  },
  {
   "cell_type": "code",
   "execution_count": 10,
   "id": "8335b46b",
   "metadata": {},
   "outputs": [],
   "source": [
    "cft['total'] = cft.sum(axis =1) "
   ]
  },
  {
   "cell_type": "code",
   "execution_count": 11,
   "id": "8a1e30a1",
   "metadata": {},
   "outputs": [
    {
     "data": {
      "text/plain": [
       "0.219195"
      ]
     },
     "execution_count": 11,
     "metadata": {},
     "output_type": "execute_result"
    }
   ],
   "source": [
    "th = cft[cft.total == 3]\n",
    "len(th)/len(cf) #probability of getting 3 heads"
   ]
  },
  {
   "cell_type": "code",
   "execution_count": 12,
   "id": "16055b09",
   "metadata": {},
   "outputs": [
    {
     "data": {
      "text/plain": [
       "0.636513"
      ]
     },
     "execution_count": 12,
     "metadata": {},
     "output_type": "execute_result"
    }
   ],
   "source": [
    "tp = cft[cft.total > 3]\n",
    "len(tp)/len(cf) #prbability of getting > 3 heads"
   ]
  },
  {
   "cell_type": "code",
   "execution_count": 13,
   "id": "5a8e5e5b",
   "metadata": {},
   "outputs": [
    {
     "data": {
      "text/plain": [
       "0.855708"
      ]
     },
     "execution_count": 13,
     "metadata": {},
     "output_type": "execute_result"
    }
   ],
   "source": [
    "to = cft[cft.total >= 3]\n",
    "len(to)/len(cf) #probability of getting >= 3"
   ]
  },
  {
   "cell_type": "code",
   "execution_count": null,
   "id": "0f981030",
   "metadata": {},
   "outputs": [],
   "source": []
  },
  {
   "cell_type": "markdown",
   "id": "01ad0dc9",
   "metadata": {},
   "source": [
    "# Class"
   ]
  },
  {
   "cell_type": "code",
   "execution_count": 164,
   "id": "076fedc9",
   "metadata": {},
   "outputs": [],
   "source": [
    "flips = np.random.choice([0, 1], size = (1_000_000, 8))\n"
   ]
  },
  {
   "cell_type": "code",
   "execution_count": 166,
   "id": "6d2d9d88",
   "metadata": {},
   "outputs": [
    {
     "data": {
      "text/plain": [
       "0.219574"
      ]
     },
     "execution_count": 166,
     "metadata": {},
     "output_type": "execute_result"
    }
   ],
   "source": [
    "(flips.sum(axis=1)==3).mean()"
   ]
  },
  {
   "cell_type": "code",
   "execution_count": 167,
   "id": "5dfdba0e",
   "metadata": {},
   "outputs": [
    {
     "data": {
      "text/plain": [
       "0.635693"
      ]
     },
     "execution_count": 167,
     "metadata": {},
     "output_type": "execute_result"
    }
   ],
   "source": [
    "(flips.sum(axis=1)>3).mean()"
   ]
  },
  {
   "cell_type": "code",
   "execution_count": null,
   "id": "768c5bfb",
   "metadata": {},
   "outputs": [],
   "source": []
  },
  {
   "cell_type": "code",
   "execution_count": null,
   "id": "88e7150e",
   "metadata": {},
   "outputs": [],
   "source": []
  },
  {
   "cell_type": "markdown",
   "id": "b322ec52",
   "metadata": {},
   "source": [
    "### 3. There are approximitely 3 web development cohorts for every 1 data science cohort at Codeup. Assuming that Codeup randomly selects an alumni to put on a billboard, what are the odds that the two billboards I drive past both have data science students on them?"
   ]
  },
  {
   "cell_type": "code",
   "execution_count": 175,
   "id": "9fa98095",
   "metadata": {},
   "outputs": [
    {
     "data": {
      "text/plain": [
       "0.0625"
      ]
     },
     "execution_count": 175,
     "metadata": {},
     "output_type": "execute_result"
    }
   ],
   "source": [
    "#theory #odds = p/(1-p) p=bb.sum(axis =1).mean()\n",
    ".25*.25"
   ]
  },
  {
   "cell_type": "code",
   "execution_count": 14,
   "id": "c2a51e7b",
   "metadata": {},
   "outputs": [],
   "source": [
    "bb = np.random.choice(['wb1', 'wd2', 'wd3', 'ds1'], size = (1000000,2))\n",
    "b = pd.DataFrame(bb)"
   ]
  },
  {
   "cell_type": "code",
   "execution_count": 15,
   "id": "a54f622b",
   "metadata": {},
   "outputs": [],
   "source": [
    "b['match']=(b[0]==b[1])"
   ]
  },
  {
   "cell_type": "code",
   "execution_count": 168,
   "id": "7a5d16dd",
   "metadata": {},
   "outputs": [
    {
     "data": {
      "text/plain": [
       "0.250039"
      ]
     },
     "execution_count": 168,
     "metadata": {},
     "output_type": "execute_result"
    }
   ],
   "source": [
    "b['match'].mean() #mean is 0.24933 but that includes all the doubles, not just DS doubles"
   ]
  },
  {
   "cell_type": "code",
   "execution_count": 17,
   "id": "2c3f9bf9",
   "metadata": {
    "scrolled": true
   },
   "outputs": [
    {
     "data": {
      "text/plain": [
       "0.062576"
      ]
     },
     "execution_count": 17,
     "metadata": {},
     "output_type": "execute_result"
    }
   ],
   "source": [
    "len(b[(b[0] == 'ds1') & (b['match']==True)])/len(b) #6% chance it will be 2 DS students"
   ]
  },
  {
   "cell_type": "code",
   "execution_count": null,
   "id": "5483351c",
   "metadata": {},
   "outputs": [],
   "source": []
  },
  {
   "cell_type": "markdown",
   "id": "630b4aea",
   "metadata": {},
   "source": [
    "# Class"
   ]
  },
  {
   "cell_type": "code",
   "execution_count": 171,
   "id": "e67baee8",
   "metadata": {},
   "outputs": [],
   "source": [
    "bb2 = np.random.choice([0, 1], size = (10_000, 2), p = [.75, .25])"
   ]
  },
  {
   "cell_type": "code",
   "execution_count": 173,
   "id": "d09d864b",
   "metadata": {},
   "outputs": [
    {
     "data": {
      "text/plain": [
       "0.0624"
      ]
     },
     "execution_count": 173,
     "metadata": {},
     "output_type": "execute_result"
    }
   ],
   "source": [
    "(bb2.sum(axis =1) == 2).mean()"
   ]
  },
  {
   "cell_type": "code",
   "execution_count": null,
   "id": "373bcb8d",
   "metadata": {},
   "outputs": [],
   "source": []
  },
  {
   "cell_type": "markdown",
   "id": "eaf9095b",
   "metadata": {},
   "source": [
    "### 4. Codeup students buy, on average, 3 poptart packages with a standard deviation of 1.5 a day from the snack vending machine. If on monday the machine is restocked with 17 poptart packages, how likely is it that I will be able to buy some poptarts on Friday afternoon? (Remember, if you have mean and standard deviation, use the np.random.normal) You'll need to make a judgement call on how to handle some of your values"
   ]
  },
  {
   "cell_type": "code",
   "execution_count": 3,
   "id": "0e9abb31",
   "metadata": {},
   "outputs": [],
   "source": [
    "l= np.random.normal(loc = 3, scale = 1.5, size = (10_000, 5))"
   ]
  },
  {
   "cell_type": "code",
   "execution_count": 4,
   "id": "67357c75",
   "metadata": {},
   "outputs": [],
   "source": [
    "#can convert  -#s to 0 if desired. I did not."
   ]
  },
  {
   "cell_type": "code",
   "execution_count": 5,
   "id": "aec54b7a",
   "metadata": {},
   "outputs": [
    {
     "data": {
      "text/html": [
       "<div>\n",
       "<style scoped>\n",
       "    .dataframe tbody tr th:only-of-type {\n",
       "        vertical-align: middle;\n",
       "    }\n",
       "\n",
       "    .dataframe tbody tr th {\n",
       "        vertical-align: top;\n",
       "    }\n",
       "\n",
       "    .dataframe thead th {\n",
       "        text-align: right;\n",
       "    }\n",
       "</style>\n",
       "<table border=\"1\" class=\"dataframe\">\n",
       "  <thead>\n",
       "    <tr style=\"text-align: right;\">\n",
       "      <th></th>\n",
       "      <th>0</th>\n",
       "      <th>1</th>\n",
       "      <th>2</th>\n",
       "      <th>3</th>\n",
       "      <th>4</th>\n",
       "    </tr>\n",
       "  </thead>\n",
       "  <tbody>\n",
       "    <tr>\n",
       "      <th>0</th>\n",
       "      <td>5.059375</td>\n",
       "      <td>0.961295</td>\n",
       "      <td>1.711524</td>\n",
       "      <td>5.144468</td>\n",
       "      <td>4.170874</td>\n",
       "    </tr>\n",
       "    <tr>\n",
       "      <th>1</th>\n",
       "      <td>6.267895</td>\n",
       "      <td>5.628449</td>\n",
       "      <td>1.964724</td>\n",
       "      <td>0.931951</td>\n",
       "      <td>-0.436307</td>\n",
       "    </tr>\n",
       "    <tr>\n",
       "      <th>2</th>\n",
       "      <td>0.504200</td>\n",
       "      <td>5.216470</td>\n",
       "      <td>2.197606</td>\n",
       "      <td>3.679368</td>\n",
       "      <td>4.953164</td>\n",
       "    </tr>\n",
       "    <tr>\n",
       "      <th>3</th>\n",
       "      <td>2.906971</td>\n",
       "      <td>1.348998</td>\n",
       "      <td>3.622383</td>\n",
       "      <td>2.035576</td>\n",
       "      <td>3.496130</td>\n",
       "    </tr>\n",
       "    <tr>\n",
       "      <th>4</th>\n",
       "      <td>3.365182</td>\n",
       "      <td>6.058077</td>\n",
       "      <td>-0.677865</td>\n",
       "      <td>0.337954</td>\n",
       "      <td>3.255283</td>\n",
       "    </tr>\n",
       "  </tbody>\n",
       "</table>\n",
       "</div>"
      ],
      "text/plain": [
       "          0         1         2         3         4\n",
       "0  5.059375  0.961295  1.711524  5.144468  4.170874\n",
       "1  6.267895  5.628449  1.964724  0.931951 -0.436307\n",
       "2  0.504200  5.216470  2.197606  3.679368  4.953164\n",
       "3  2.906971  1.348998  3.622383  2.035576  3.496130\n",
       "4  3.365182  6.058077 -0.677865  0.337954  3.255283"
      ]
     },
     "execution_count": 5,
     "metadata": {},
     "output_type": "execute_result"
    }
   ],
   "source": [
    "pop = pd.DataFrame(l)\n",
    "pop.head()"
   ]
  },
  {
   "cell_type": "code",
   "execution_count": 6,
   "id": "b17c92f4",
   "metadata": {
    "scrolled": true
   },
   "outputs": [
    {
     "name": "stdout",
     "output_type": "stream",
     "text": [
      "179 ms ± 1.8 ms per loop (mean ± std. dev. of 7 runs, 1 loop each)\n"
     ]
    }
   ],
   "source": [
    "%timeit pop.apply(lambda hungry: hungry.sum()<17, axis =1).mean() #72% chance you will get a poptart\n",
    "#python sum cuz it's in lambda"
   ]
  },
  {
   "cell_type": "code",
   "execution_count": 7,
   "id": "b8db9389",
   "metadata": {},
   "outputs": [],
   "source": [
    "#method 2"
   ]
  },
  {
   "cell_type": "code",
   "execution_count": 8,
   "id": "a0e4b6b5",
   "metadata": {},
   "outputs": [
    {
     "name": "stdout",
     "output_type": "stream",
     "text": [
      "28.9 ms ± 277 µs per loop (mean ± std. dev. of 7 runs, 10 loops each)\n"
     ]
    }
   ],
   "source": [
    "%timeit pop.apply(lambda hungry: hungry.values.sum()<17, axis =1).mean() \n",
    "#72% chance you will get a poptart\n",
    "#uses numpy sum??? or\n",
    "#python sum"
   ]
  },
  {
   "cell_type": "code",
   "execution_count": 9,
   "id": "c3734a36",
   "metadata": {},
   "outputs": [],
   "source": [
    "#method 3 fastest"
   ]
  },
  {
   "cell_type": "code",
   "execution_count": 10,
   "id": "f1b6fc26",
   "metadata": {},
   "outputs": [
    {
     "name": "stdout",
     "output_type": "stream",
     "text": [
      "276 µs ± 1.29 µs per loop (mean ± std. dev. of 7 runs, 1,000 loops each)\n"
     ]
    }
   ],
   "source": [
    "%timeit (pop.sum(axis=1) < 17).mean() #72%  and uses pandas sum no python middle man"
   ]
  },
  {
   "cell_type": "code",
   "execution_count": 11,
   "id": "8cf5b517",
   "metadata": {},
   "outputs": [
    {
     "data": {
      "text/plain": [
       "0.7263"
      ]
     },
     "execution_count": 11,
     "metadata": {},
     "output_type": "execute_result"
    }
   ],
   "source": [
    "(pop.sum(axis=1) < 17).mean()"
   ]
  },
  {
   "cell_type": "markdown",
   "id": "f94c2eaf",
   "metadata": {},
   "source": [
    "# Class"
   ]
  },
  {
   "cell_type": "code",
   "execution_count": 183,
   "id": "9700cfab",
   "metadata": {},
   "outputs": [],
   "source": [
    "pop1= np.random.normal(loc = 3, scale = 1.5, size = (10_000, 5))"
   ]
  },
  {
   "cell_type": "code",
   "execution_count": 184,
   "id": "b62b2190",
   "metadata": {},
   "outputs": [
    {
     "data": {
      "text/plain": [
       "0.7204"
      ]
     },
     "execution_count": 184,
     "metadata": {},
     "output_type": "execute_result"
    }
   ],
   "source": [
    "(pop1.sum(axis=1) < 17).mean()"
   ]
  },
  {
   "cell_type": "code",
   "execution_count": null,
   "id": "7afff04b",
   "metadata": {},
   "outputs": [],
   "source": []
  },
  {
   "cell_type": "markdown",
   "id": "62b3d0f5",
   "metadata": {},
   "source": [
    "## 5 \n",
    "\n",
    "Compare Heights\n",
    "\n",
    "    Men have an average height of 178 cm and standard deviation of 8cm.\n",
    "    Women have a mean of 170, sd = 6cm.\n",
    "    Since you have means and standard deviations, you can use np.random.normal to generate observations.\n",
    "    If a man and woman are chosen at random, what is the likelihood the woman is taller than the man?\n",
    "\n"
   ]
  },
  {
   "cell_type": "markdown",
   "id": "e09efec0",
   "metadata": {},
   "source": [
    "### Failed Work, scroll down"
   ]
  },
  {
   "cell_type": "code",
   "execution_count": 23,
   "id": "40fb7f68",
   "metadata": {},
   "outputs": [
    {
     "data": {
      "text/html": [
       "<div>\n",
       "<style scoped>\n",
       "    .dataframe tbody tr th:only-of-type {\n",
       "        vertical-align: middle;\n",
       "    }\n",
       "\n",
       "    .dataframe tbody tr th {\n",
       "        vertical-align: top;\n",
       "    }\n",
       "\n",
       "    .dataframe thead th {\n",
       "        text-align: right;\n",
       "    }\n",
       "</style>\n",
       "<table border=\"1\" class=\"dataframe\">\n",
       "  <thead>\n",
       "    <tr style=\"text-align: right;\">\n",
       "      <th></th>\n",
       "      <th>0</th>\n",
       "    </tr>\n",
       "  </thead>\n",
       "  <tbody>\n",
       "    <tr>\n",
       "      <th>0</th>\n",
       "      <td>168.1976</td>\n",
       "    </tr>\n",
       "  </tbody>\n",
       "</table>\n",
       "</div>"
      ],
      "text/plain": [
       "          0\n",
       "0  168.1976"
      ]
     },
     "execution_count": 23,
     "metadata": {},
     "output_type": "execute_result"
    }
   ],
   "source": [
    "m = np.random.normal(178, 8, (10_000))\n",
    "m = pd.DataFrame(m)\n",
    "m.head(1)"
   ]
  },
  {
   "cell_type": "code",
   "execution_count": 24,
   "id": "f35f54bb",
   "metadata": {},
   "outputs": [
    {
     "data": {
      "text/html": [
       "<div>\n",
       "<style scoped>\n",
       "    .dataframe tbody tr th:only-of-type {\n",
       "        vertical-align: middle;\n",
       "    }\n",
       "\n",
       "    .dataframe tbody tr th {\n",
       "        vertical-align: top;\n",
       "    }\n",
       "\n",
       "    .dataframe thead th {\n",
       "        text-align: right;\n",
       "    }\n",
       "</style>\n",
       "<table border=\"1\" class=\"dataframe\">\n",
       "  <thead>\n",
       "    <tr style=\"text-align: right;\">\n",
       "      <th></th>\n",
       "      <th>0</th>\n",
       "    </tr>\n",
       "  </thead>\n",
       "  <tbody>\n",
       "    <tr>\n",
       "      <th>0</th>\n",
       "      <td>171.145312</td>\n",
       "    </tr>\n",
       "  </tbody>\n",
       "</table>\n",
       "</div>"
      ],
      "text/plain": [
       "            0\n",
       "0  171.145312"
      ]
     },
     "execution_count": 24,
     "metadata": {},
     "output_type": "execute_result"
    }
   ],
   "source": [
    "f = np.random.normal(170, 6, (10_000))\n",
    "f = pd.DataFrame(f)\n",
    "f.head(1)"
   ]
  },
  {
   "cell_type": "code",
   "execution_count": 25,
   "id": "068bb7b7",
   "metadata": {},
   "outputs": [
    {
     "data": {
      "text/html": [
       "<div>\n",
       "<style scoped>\n",
       "    .dataframe tbody tr th:only-of-type {\n",
       "        vertical-align: middle;\n",
       "    }\n",
       "\n",
       "    .dataframe tbody tr th {\n",
       "        vertical-align: top;\n",
       "    }\n",
       "\n",
       "    .dataframe thead th {\n",
       "        text-align: right;\n",
       "    }\n",
       "</style>\n",
       "<table border=\"1\" class=\"dataframe\">\n",
       "  <thead>\n",
       "    <tr style=\"text-align: right;\">\n",
       "      <th></th>\n",
       "      <th>0_female</th>\n",
       "      <th>0_male</th>\n",
       "    </tr>\n",
       "  </thead>\n",
       "  <tbody>\n",
       "    <tr>\n",
       "      <th>0</th>\n",
       "      <td>171.145312</td>\n",
       "      <td>168.197600</td>\n",
       "    </tr>\n",
       "    <tr>\n",
       "      <th>1</th>\n",
       "      <td>170.641922</td>\n",
       "      <td>166.565772</td>\n",
       "    </tr>\n",
       "    <tr>\n",
       "      <th>2</th>\n",
       "      <td>163.407887</td>\n",
       "      <td>193.134451</td>\n",
       "    </tr>\n",
       "  </tbody>\n",
       "</table>\n",
       "</div>"
      ],
      "text/plain": [
       "     0_female      0_male\n",
       "0  171.145312  168.197600\n",
       "1  170.641922  166.565772\n",
       "2  163.407887  193.134451"
      ]
     },
     "execution_count": 25,
     "metadata": {},
     "output_type": "execute_result"
    }
   ],
   "source": [
    "height = f.join(m, how = 'outer', lsuffix='_female', rsuffix='_male')\n",
    "height.head(3)"
   ]
  },
  {
   "cell_type": "code",
   "execution_count": 26,
   "id": "84504419",
   "metadata": {},
   "outputs": [],
   "source": [
    "height.iloc[:,1]"
   ]
  },
  {
   "cell_type": "code",
   "execution_count": 27,
   "id": "49cd5846",
   "metadata": {},
   "outputs": [],
   "source": [
    "height.iloc[:,0] > height.iloc[:,1]"
   ]
  },
  {
   "cell_type": "code",
   "execution_count": 28,
   "id": "514d986c",
   "metadata": {},
   "outputs": [],
   "source": [
    "#height.apply(lambda arg: (arg.iloc[:,0]) > (arg.iloc[:,1])).mean()\n",
    "#Too many indexes\n",
    "#idk how to fix this"
   ]
  },
  {
   "cell_type": "code",
   "execution_count": 29,
   "id": "8260f70a",
   "metadata": {},
   "outputs": [],
   "source": [
    "#try keeping it as an array below:"
   ]
  },
  {
   "cell_type": "markdown",
   "id": "61c162f9",
   "metadata": {},
   "source": [
    "# Keeping as an array for #5, success"
   ]
  },
  {
   "cell_type": "code",
   "execution_count": 30,
   "id": "cac4622d",
   "metadata": {},
   "outputs": [
    {
     "data": {
      "text/plain": [
       "0.2124"
      ]
     },
     "execution_count": 30,
     "metadata": {},
     "output_type": "execute_result"
    }
   ],
   "source": [
    "ma = np.random.normal(178, 8, (10_000))\n",
    "fa = np.random.normal(170, 6, (10_000))\n",
    "(fa>ma).mean()"
   ]
  },
  {
   "cell_type": "code",
   "execution_count": 31,
   "id": "0861b766",
   "metadata": {},
   "outputs": [],
   "source": [
    "#21% chance"
   ]
  },
  {
   "cell_type": "code",
   "execution_count": null,
   "id": "bbc5dcb7",
   "metadata": {},
   "outputs": [],
   "source": []
  },
  {
   "cell_type": "markdown",
   "id": "007fb8b0",
   "metadata": {},
   "source": [
    "# Class"
   ]
  },
  {
   "cell_type": "code",
   "execution_count": 192,
   "id": "c0c0ff70",
   "metadata": {},
   "outputs": [],
   "source": [
    "ma_c = np.random.normal(178, 8, (10_000))\n",
    "fa_c = np.random.normal(170, 6, (10_000))"
   ]
  },
  {
   "cell_type": "code",
   "execution_count": 194,
   "id": "bc99c32f",
   "metadata": {},
   "outputs": [
    {
     "data": {
      "text/plain": [
       "0.2128"
      ]
     },
     "execution_count": 194,
     "metadata": {},
     "output_type": "execute_result"
    }
   ],
   "source": [
    "(fa_c > ma_c).mean()"
   ]
  },
  {
   "cell_type": "code",
   "execution_count": null,
   "id": "66bd0a76",
   "metadata": {},
   "outputs": [],
   "source": []
  },
  {
   "cell_type": "markdown",
   "id": "1e2c2812",
   "metadata": {},
   "source": [
    "# 6 \n",
    "When installing anaconda on a student's computer, there's a 1 in 250 chance that the download is corrupted and the installation fails. What are the odds that after having 50 students download anaconda, no one has an installation issue? 100? 150? 450?"
   ]
  },
  {
   "cell_type": "code",
   "execution_count": 111,
   "id": "44dc5a4d",
   "metadata": {},
   "outputs": [],
   "source": [
    "fails = (1/250)"
   ]
  },
  {
   "cell_type": "code",
   "execution_count": 120,
   "id": "42626613",
   "metadata": {},
   "outputs": [],
   "source": [
    "n_stud = [[50], [100], [150], [450]]"
   ]
  },
  {
   "cell_type": "code",
   "execution_count": 124,
   "id": "1732ca68",
   "metadata": {},
   "outputs": [
    {
     "data": {
      "text/plain": [
       "array([[0.2],\n",
       "       [0.4],\n",
       "       [0.6],\n",
       "       [1.8]])"
      ]
     },
     "execution_count": 124,
     "metadata": {},
     "output_type": "execute_result"
    }
   ],
   "source": [
    "np.multiply(fails, n_stud)"
   ]
  },
  {
   "cell_type": "code",
   "execution_count": null,
   "id": "bdd171db",
   "metadata": {},
   "outputs": [],
   "source": []
  },
  {
   "cell_type": "markdown",
   "id": "aee64688",
   "metadata": {},
   "source": [
    "# Class"
   ]
  },
  {
   "cell_type": "code",
   "execution_count": 199,
   "id": "096ff314",
   "metadata": {},
   "outputs": [],
   "source": [
    "#0 = no issue 1 = issue\n",
    "install_50 = np.random.choice([0,1], size = (10_000, 50), p = [249/250, 1/250])"
   ]
  },
  {
   "cell_type": "code",
   "execution_count": 200,
   "id": "4c566022",
   "metadata": {},
   "outputs": [
    {
     "data": {
      "text/plain": [
       "0.8188"
      ]
     },
     "execution_count": 200,
     "metadata": {},
     "output_type": "execute_result"
    }
   ],
   "source": [
    "(install_50.sum(axis=1) == 0).mean()"
   ]
  },
  {
   "cell_type": "code",
   "execution_count": 202,
   "id": "2cc19583",
   "metadata": {},
   "outputs": [
    {
     "data": {
      "text/plain": [
       "0.6698"
      ]
     },
     "execution_count": 202,
     "metadata": {},
     "output_type": "execute_result"
    }
   ],
   "source": [
    "install_100 = np.random.choice([0,1], size = (10_000, 100), p = [249/250, 1/250])\n",
    "(install_100.sum(axis=1) == 0).mean()"
   ]
  },
  {
   "cell_type": "code",
   "execution_count": 205,
   "id": "06caaa7b",
   "metadata": {},
   "outputs": [
    {
     "data": {
      "text/plain": [
       "0.4505"
      ]
     },
     "execution_count": 205,
     "metadata": {},
     "output_type": "execute_result"
    }
   ],
   "source": [
    "#150 students. Prob of install issue\n",
    "install_150 = np.random.choice([0,1], size = (10_000, 150), p = [249/250, 1/250])\n",
    "(install_150.sum(axis=1) > 0).mean()"
   ]
  },
  {
   "cell_type": "code",
   "execution_count": 204,
   "id": "255e7724",
   "metadata": {},
   "outputs": [
    {
     "data": {
      "text/plain": [
       "0.1657"
      ]
     },
     "execution_count": 204,
     "metadata": {},
     "output_type": "execute_result"
    }
   ],
   "source": [
    "#prob of no issues when we have 450 students\n",
    "install_450 = np.random.choice([0,1], size = (10_000, 450), p = [249/250, 1/250])\n",
    "(install_450.sum(axis=1) == 0).mean()"
   ]
  },
  {
   "cell_type": "code",
   "execution_count": null,
   "id": "5d203320",
   "metadata": {},
   "outputs": [],
   "source": []
  },
  {
   "cell_type": "code",
   "execution_count": null,
   "id": "bc9f2fa8",
   "metadata": {},
   "outputs": [],
   "source": []
  },
  {
   "cell_type": "markdown",
   "id": "89362d57",
   "metadata": {},
   "source": [
    "# 7\n",
    "There's a 70% chance on any given day that there will be at least one food truck at Travis Park. However, you haven't seen a food truck there in 3 days. How unlikely is this?\n",
    "How likely is it that a food truck will show up sometime this week?"
   ]
  },
  {
   "cell_type": "code",
   "execution_count": 211,
   "id": "f156cd1b",
   "metadata": {},
   "outputs": [],
   "source": [
    "# 0 = no truck\n",
    "trucks3 = np.random.choice([0, 1], (10000, 3), p = [.3, .7])"
   ]
  },
  {
   "cell_type": "code",
   "execution_count": 212,
   "id": "8c9527f8",
   "metadata": {},
   "outputs": [
    {
     "data": {
      "text/plain": [
       "0.0272"
      ]
     },
     "execution_count": 212,
     "metadata": {},
     "output_type": "execute_result"
    }
   ],
   "source": [
    "(trucks3.sum(axis=1)==0).mean()"
   ]
  },
  {
   "cell_type": "code",
   "execution_count": 213,
   "id": "47438570",
   "metadata": {},
   "outputs": [],
   "source": [
    "trucks7 = np.random.choice([0, 1], (10000, 7), p = [.3, .7])"
   ]
  },
  {
   "cell_type": "code",
   "execution_count": 214,
   "id": "5b629228",
   "metadata": {},
   "outputs": [
    {
     "data": {
      "text/plain": [
       "0.0004"
      ]
     },
     "execution_count": 214,
     "metadata": {},
     "output_type": "execute_result"
    }
   ],
   "source": [
    "(trucks7.sum(axis=1)==0).mean()"
   ]
  },
  {
   "cell_type": "code",
   "execution_count": 215,
   "id": "e0604896",
   "metadata": {},
   "outputs": [],
   "source": [
    "#How unlikely is this? How likely is it that a food truck will show up sometime this week?\n",
    "trucks2 = np.random.choice([0, 1], (10000, 2), p = [.3, .7])"
   ]
  },
  {
   "cell_type": "code",
   "execution_count": 217,
   "id": "623ed5bd",
   "metadata": {},
   "outputs": [
    {
     "data": {
      "text/plain": [
       "0.9112"
      ]
     },
     "execution_count": 217,
     "metadata": {},
     "output_type": "execute_result"
    }
   ],
   "source": [
    "(trucks2.sum(axis=1)>0).mean()"
   ]
  },
  {
   "cell_type": "code",
   "execution_count": null,
   "id": "a1d18f7d",
   "metadata": {},
   "outputs": [],
   "source": []
  },
  {
   "cell_type": "code",
   "execution_count": null,
   "id": "8cb2a861",
   "metadata": {},
   "outputs": [],
   "source": []
  },
  {
   "cell_type": "code",
   "execution_count": null,
   "id": "efe4a326",
   "metadata": {},
   "outputs": [],
   "source": []
  },
  {
   "cell_type": "markdown",
   "id": "45133197",
   "metadata": {},
   "source": [
    "# 8 \n",
    "If 23 people are in the same room, what are the odds that two of them share a birthday? What if it's 20 people? 40?"
   ]
  },
  {
   "cell_type": "code",
   "execution_count": 218,
   "id": "f34b8b28",
   "metadata": {},
   "outputs": [],
   "source": [
    "bdays = np.random.randint(1, 365, size = (1_000_000, 23))"
   ]
  },
  {
   "cell_type": "code",
   "execution_count": 219,
   "id": "a3948619",
   "metadata": {},
   "outputs": [],
   "source": [
    "bday = pd.DataFrame(bdays)"
   ]
  },
  {
   "cell_type": "code",
   "execution_count": 220,
   "id": "3c646a2d",
   "metadata": {},
   "outputs": [],
   "source": [
    "#using lambda"
   ]
  },
  {
   "cell_type": "code",
   "execution_count": 221,
   "id": "13b449b9",
   "metadata": {
    "scrolled": true
   },
   "outputs": [
    {
     "data": {
      "text/plain": [
       "0.491667"
      ]
     },
     "execution_count": 221,
     "metadata": {},
     "output_type": "execute_result"
    }
   ],
   "source": [
    "bday.apply(lambda arg: len(arg) == len(set(arg)), axis =1).mean() \n",
    "# 49% they are all unique,  51% at least 2 people share a birthday"
   ]
  },
  {
   "cell_type": "code",
   "execution_count": 232,
   "id": "1546891f",
   "metadata": {},
   "outputs": [],
   "source": [
    "bdays20 = np.random.randint(1, 365, size = (1_000_000, 20))\n",
    "bday20 = pd.DataFrame(bdays20)"
   ]
  },
  {
   "cell_type": "code",
   "execution_count": 233,
   "id": "3e087bed",
   "metadata": {},
   "outputs": [
    {
     "data": {
      "text/plain": [
       "0.587616"
      ]
     },
     "execution_count": 233,
     "metadata": {},
     "output_type": "execute_result"
    }
   ],
   "source": [
    "bday20.apply(lambda arg: len(arg) == len(set(arg)), axis =1).mean() #58% chance they are all unique"
   ]
  },
  {
   "cell_type": "code",
   "execution_count": 234,
   "id": "b70b0604",
   "metadata": {},
   "outputs": [],
   "source": [
    "bdays40 = np.random.randint(1, 365, size = (1_000_000, 40))\n",
    "bday40 = pd.DataFrame(bdays40)"
   ]
  },
  {
   "cell_type": "code",
   "execution_count": 235,
   "id": "b09a4ced",
   "metadata": {},
   "outputs": [
    {
     "data": {
      "text/plain": [
       "0.107963"
      ]
     },
     "execution_count": 235,
     "metadata": {},
     "output_type": "execute_result"
    }
   ],
   "source": [
    "bday40.apply(lambda arg: len(arg) == len(set(arg)), axis =1).mean()  #10% chance they are all unique"
   ]
  },
  {
   "cell_type": "code",
   "execution_count": null,
   "id": "2f995307",
   "metadata": {},
   "outputs": [],
   "source": []
  },
  {
   "cell_type": "markdown",
   "id": "36b9b4b2",
   "metadata": {},
   "source": [
    "# Class"
   ]
  },
  {
   "cell_type": "code",
   "execution_count": 224,
   "id": "3ac11728",
   "metadata": {},
   "outputs": [
    {
     "data": {
      "text/plain": [
       "array([[282,  69, 176, ..., 134, 113,  72],\n",
       "       [ 55, 300, 351, ..., 329,  35, 107],\n",
       "       [234, 347, 254, ..., 240, 269,  38],\n",
       "       ...,\n",
       "       [246,  61, 192, ...,  71, 175, 131],\n",
       "       [162, 306, 250, ..., 171, 355, 248],\n",
       "       [120, 307, 315, ..., 180, 266, 145]])"
      ]
     },
     "execution_count": 224,
     "metadata": {},
     "output_type": "execute_result"
    }
   ],
   "source": [
    "bd = np.random.choice(range(1,365), size = (10000,23))\n",
    "bd"
   ]
  },
  {
   "cell_type": "code",
   "execution_count": 225,
   "id": "5669a152",
   "metadata": {},
   "outputs": [
    {
     "data": {
      "text/plain": [
       "0.5012"
      ]
     },
     "execution_count": 225,
     "metadata": {},
     "output_type": "execute_result"
    }
   ],
   "source": [
    "(pd.DataFrame(bd).nunique(axis = 1) < 23).mean() # 50% at least 2 people share a birthday"
   ]
  },
  {
   "cell_type": "code",
   "execution_count": 227,
   "id": "e32e782e",
   "metadata": {},
   "outputs": [
    {
     "data": {
      "text/plain": [
       "0.363"
      ]
     },
     "execution_count": 227,
     "metadata": {},
     "output_type": "execute_result"
    }
   ],
   "source": [
    "(pd.DataFrame(bd).nunique(axis = 1) == 22).mean() #exactly 2"
   ]
  },
  {
   "cell_type": "code",
   "execution_count": null,
   "id": "95003a3a",
   "metadata": {},
   "outputs": [],
   "source": []
  },
  {
   "cell_type": "code",
   "execution_count": null,
   "id": "c01657ac",
   "metadata": {},
   "outputs": [],
   "source": [
    "#examples for me"
   ]
  },
  {
   "cell_type": "code",
   "execution_count": null,
   "id": "ec9b14bf",
   "metadata": {},
   "outputs": [],
   "source": [
    "# df[(df > 3).sum(axis=1) >= 3]"
   ]
  },
  {
   "cell_type": "code",
   "execution_count": null,
   "id": "e9b30674",
   "metadata": {},
   "outputs": [],
   "source": [
    "# (pd.DataFrame(rolls).apply(lambda row: 3 in row.values, axis=1).mean())"
   ]
  },
  {
   "cell_type": "code",
   "execution_count": null,
   "id": "6d7bdc5d",
   "metadata": {},
   "outputs": [],
   "source": []
  },
  {
   "cell_type": "code",
   "execution_count": null,
   "id": "67abb09a",
   "metadata": {},
   "outputs": [],
   "source": []
  }
 ],
 "metadata": {
  "kernelspec": {
   "display_name": "Python 3 (ipykernel)",
   "language": "python",
   "name": "python3"
  },
  "language_info": {
   "codemirror_mode": {
    "name": "ipython",
    "version": 3
   },
   "file_extension": ".py",
   "mimetype": "text/x-python",
   "name": "python",
   "nbconvert_exporter": "python",
   "pygments_lexer": "ipython3",
   "version": "3.9.12"
  }
 },
 "nbformat": 4,
 "nbformat_minor": 5
}
